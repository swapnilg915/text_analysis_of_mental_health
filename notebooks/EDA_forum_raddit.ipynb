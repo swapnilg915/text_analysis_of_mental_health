{
 "cells": [
  {
   "cell_type": "markdown",
   "id": "electric-valuation",
   "metadata": {},
   "source": [
    "# Exploratory data analysis and clustering "
   ]
  },
  {
   "cell_type": "markdown",
   "id": "published-residence",
   "metadata": {},
   "source": [
    "## Pre-processing\n",
    "\n",
    "* Handel null & duplicates\n",
    "* Remove Extraneous Information (URL, joind date..) \n"
   ]
  },
  {
   "cell_type": "markdown",
   "id": "provincial-values",
   "metadata": {},
   "source": [
    "## Data quality \n",
    "* Length Distributions\n",
    "* TTR"
   ]
  },
  {
   "cell_type": "markdown",
   "id": "modern-publication",
   "metadata": {},
   "source": [
    "## data cleaning and tokenisation \n",
    "* Stop-word removal \n",
    "* Remove punctualtion \n",
    "* Remove URL, @%/... \n",
    "* Stemming \n",
    "* Lem\n",
    "* Contractions\n"
   ]
  },
  {
   "cell_type": "markdown",
   "id": "hidden-franklin",
   "metadata": {},
   "source": [
    "## Objectives \n",
    "\n",
    "• To exaine the language used by people with OCD. Compare words used to describe experinces on social network with the words used in the assessments tools for symptoms describtion.\n",
    "* Appling unsupervised machine learning methods(clustering) \n",
    "• The reason of clusering is to investigate weather the observations of each cluster reflect any similarities or differences with the formal assessments tool of OCD. In other word, to look the words used in the assesment tool such as YALE-BROWN for OCD syptomes desccribtion and compare them with the words used by people with OCD using online plateform to discuess their symptomes and experinces.  "
   ]
  },
  {
   "cell_type": "markdown",
   "id": "desirable-blogger",
   "metadata": {},
   "source": [
    "## Methods\n",
    "# Words representatiion: \n",
    "• Tf-idf \n",
    "• bag-of-word(LDA)\n",
    "• Word-embiding using (Glove) and (fasttext), embeddings_average.\n",
    "\n",
    "• Key difference is Glove treats each word in corpus like an atomic entity and generates a vector for each word. In this sense Glove is very much like word2vec- both treat words as the smallest unit to train on.\n",
    "\n",
    "Fasttext which is essentially an extension of word2vec model, treats each word as composed of character ngrams. So the vector for a word is made of the sum of this character n grams. This difference enables fasttext to generate better word embeddings for rare words ( even if words are rare their character n grams are still shared with other words - hence the embeddings can still be good)\n",
    "Out of vocabulary words - they can construct the vector for a word from its character n grams even if word doesn't appear in training corpus. Both Glove and word2vec can't.\n",
    "# For clustering \n",
    "• K-means\n",
    "• DB\n",
    "• LDA"
   ]
  },
  {
   "cell_type": "markdown",
   "id": "fixed-trigger",
   "metadata": {},
   "source": [
    "## Import libraries "
   ]
  },
  {
   "cell_type": "code",
   "execution_count": null,
   "id": "civic-protest",
   "metadata": {},
   "outputs": [],
   "source": [
    "import pandas as pd\n",
    "import copy \n",
    "import math\n",
    "\n",
    "# visuaLisation \n",
    "import seaborn as sns\n",
    "import matplotlib.pyplot as plt\n",
    "\n",
    "#ML & NLP\n",
    "import numpy as np\n",
    "\n",
    "#from pycontractions import collections\n",
    "from collections import Counter\n",
    "\n",
    "import nltk\n",
    "from nltk.corpus import stopwords\n",
    "from nltk.sentiment.vader import SentimentIntensityAnalyzer\n",
    "stop_words = set(stopwords.words('english'))\n",
    "from nltk.stem import SnowballStemmer, PorterStemmer\n",
    "from nltk.stem import WordNetLemmatizer\n",
    "from nltk.tokenize import word_tokenize\n",
    "from nltk.util import ngrams\n",
    "\n",
    "import spacy\n",
    "from spacy import displacy \n",
    "\n",
    "#import contractions\n",
    "\n",
    "import gensim\n",
    "from gensim.utils import simple_preprocess\n",
    "\n",
    "from nltk.stem import WordNetLemmatizer\n",
    "from sklearn.feature_extraction.text import TfidfVectorizer, CountVectorizer\n",
    "from sklearn.metrics import accuracy_score, precision_recall_fscore_support, classification_report\n",
    "from sklearn.metrics import precision_recall_fscore_support,accuracy_score \n",
    "from sklearn.feature_extraction.text import TfidfVectorizer\n",
    "from sklearn.model_selection import train_test_split\n",
    "from sklearn.metrics import confusion_matrix\n",
    "from sklearn.cluster import MeanShift, estimate_bandwidth\n",
    "import random \n",
    "import re\n",
    "import string\n",
    "import ast "
   ]
  },
  {
   "cell_type": "code",
   "execution_count": null,
   "id": "lesbian-representation",
   "metadata": {},
   "outputs": [],
   "source": [
    "import os\n",
    "\n",
    "cwd = os.getcwd()  # Get the current working directory (cwd)\n",
    "files = os.listdir(cwd)  # Get all the files in that directory\n",
    "print(\"Files in %r: %s\" % (cwd, files))"
   ]
  },
  {
   "cell_type": "markdown",
   "id": "loved-jacob",
   "metadata": {},
   "source": [
    "## Data Wrangling\n",
    "*Load and Data Quality Checks"
   ]
  },
  {
   "cell_type": "markdown",
   "id": "floppy-graham",
   "metadata": {},
   "source": [
    "**data (data from ocd forum)**\n",
    "**data2 (data from raddit)**"
   ]
  },
  {
   "cell_type": "code",
   "execution_count": null,
   "id": "acknowledged-trial",
   "metadata": {},
   "outputs": [],
   "source": [
    "data = pd.read_csv('../EDA/OCD2_updated.csv', dtype=str)\n",
    "data2 = pd.read_csv('../EDA/ocd_top_1000.csv', header=1, dtype=str)"
   ]
  },
  {
   "cell_type": "code",
   "execution_count": null,
   "id": "outer-spread",
   "metadata": {},
   "outputs": [],
   "source": [
    "data.head()"
   ]
  },
  {
   "cell_type": "code",
   "execution_count": null,
   "id": "boxed-ideal",
   "metadata": {},
   "outputs": [],
   "source": [
    "data2 = data2.drop(index=1)\n"
   ]
  },
  {
   "cell_type": "code",
   "execution_count": null,
   "id": "hourly-compression",
   "metadata": {},
   "outputs": [],
   "source": [
    "data2.head()"
   ]
  },
  {
   "cell_type": "code",
   "execution_count": null,
   "id": "unlike-demand",
   "metadata": {},
   "outputs": [],
   "source": [
    "nRow, nCol = data.shape\n",
    "print(f'there are {nRow} rows and {nCol} columns in the Forum data')\n",
    "nRow, nCol = data2.shape\n",
    "print(f'there are {nRow} rows and {nCol} columns in the Reddit data')"
   ]
  },
  {
   "cell_type": "markdown",
   "id": "timely-mongolia",
   "metadata": {},
   "source": [
    "## Null Analysis"
   ]
  },
  {
   "cell_type": "code",
   "execution_count": null,
   "id": "piano-ballot",
   "metadata": {},
   "outputs": [],
   "source": [
    "data.isnull().sum()"
   ]
  },
  {
   "cell_type": "code",
   "execution_count": null,
   "id": "prime-trunk",
   "metadata": {},
   "outputs": [],
   "source": [
    "data2.isnull().sum()"
   ]
  },
  {
   "cell_type": "markdown",
   "id": "rapid-record",
   "metadata": {},
   "source": [
    "## Handle Null Descriptions"
   ]
  },
  {
   "cell_type": "code",
   "execution_count": null,
   "id": "absent-thompson",
   "metadata": {},
   "outputs": [],
   "source": [
    "# drop empty descriptions\n",
    "data = data[data['Description'].notna()]"
   ]
  },
  {
   "cell_type": "code",
   "execution_count": null,
   "id": "serial-basis",
   "metadata": {},
   "outputs": [],
   "source": [
    "# drop empty descriptions\n",
    "data2 = data2[data2['post'].notna()]"
   ]
  },
  {
   "cell_type": "markdown",
   "id": "relative-analysis",
   "metadata": {},
   "source": [
    "## Handle Null Dates"
   ]
  },
  {
   "cell_type": "code",
   "execution_count": null,
   "id": "confidential-estimate",
   "metadata": {},
   "outputs": [],
   "source": [
    "# drop empty dates\n",
    "data = data[data['Date'].notna()]\n",
    "data2 = data2[data2['date'].notna()]"
   ]
  },
  {
   "cell_type": "code",
   "execution_count": null,
   "id": "numeric-spouse",
   "metadata": {},
   "outputs": [],
   "source": [
    "# remove this 'header' row\n",
    "data.drop(axis=0, index=13043, inplace=True)"
   ]
  },
  {
   "cell_type": "code",
   "execution_count": null,
   "id": "absolute-praise",
   "metadata": {},
   "outputs": [],
   "source": [
    "data.isnull().sum()"
   ]
  },
  {
   "cell_type": "code",
   "execution_count": null,
   "id": "blocked-immunology",
   "metadata": {},
   "outputs": [],
   "source": [
    "data2.isnull().sum()"
   ]
  },
  {
   "cell_type": "markdown",
   "id": "hawaiian-satellite",
   "metadata": {},
   "source": [
    "## Duplicate Analysis"
   ]
  },
  {
   "cell_type": "code",
   "execution_count": null,
   "id": "protective-canberra",
   "metadata": {},
   "outputs": [],
   "source": [
    "duplicate = data['Description'].duplicated()\n",
    "print(f'there are {sum(duplicate)} duplicates')"
   ]
  },
  {
   "cell_type": "code",
   "execution_count": null,
   "id": "comprehensive-writing",
   "metadata": {},
   "outputs": [],
   "source": [
    "# de-duplicate the dataset (for descriptions only)\n",
    "data = data[data.duplicated(subset='Description')==False]\n",
    "data.shape"
   ]
  },
  {
   "cell_type": "code",
   "execution_count": null,
   "id": "increased-yukon",
   "metadata": {},
   "outputs": [],
   "source": [
    "duplicate = data2['post'].duplicated()\n",
    "print(f'there are {sum(duplicate)} duplicates')"
   ]
  },
  {
   "cell_type": "code",
   "execution_count": null,
   "id": "nonprofit-pearl",
   "metadata": {},
   "outputs": [],
   "source": [
    "# de-duplicate the dataset (for descriptions only)\n",
    "data2 = data2[data2.duplicated(subset='post')==False]\n",
    "data2.shape"
   ]
  },
  {
   "cell_type": "markdown",
   "id": "complete-survival",
   "metadata": {},
   "source": [
    "## Data Quality\n"
   ]
  },
  {
   "cell_type": "markdown",
   "id": "sensitive-measurement",
   "metadata": {},
   "source": [
    "### Remove Extraneous Information"
   ]
  },
  {
   "cell_type": "code",
   "execution_count": null,
   "id": "parliamentary-trace",
   "metadata": {},
   "outputs": [],
   "source": [
    "# items like URLs, ids, timeOfDay, JoinDate, etc unlikely to be relevant\n",
    "data.drop(columns=['Time','Profile_name','Joined','Location','impairment ','Insight', 'obsession\\Compulsive ','Profile_URL'], axis=1, inplace=True)\n",
    "data2.drop(columns=['author', 'url'], axis=1, inplace=True)\n",
    "        "
   ]
  },
  {
   "cell_type": "markdown",
   "id": "homeless-healing",
   "metadata": {},
   "source": [
    "### Make Type Rich"
   ]
  },
  {
   "cell_type": "code",
   "execution_count": null,
   "id": "spanish-player",
   "metadata": {},
   "outputs": [],
   "source": [
    "# make Date's real datetimes\n",
    "data['Date'] = pd.to_datetime(data['Date'])\n",
    "data2['date']= pd.to_datetime(data2['date'],errors='coerce')"
   ]
  },
  {
   "cell_type": "code",
   "execution_count": null,
   "id": "major-candy",
   "metadata": {},
   "outputs": [],
   "source": [
    "# identify poorly formed dates\n",
    "data2[data2['date'].isna()]"
   ]
  },
  {
   "cell_type": "code",
   "execution_count": null,
   "id": "altered-funds",
   "metadata": {},
   "outputs": [],
   "source": [
    "# remove bad dates\n",
    "data2 = data2[data2['date'].notna()]"
   ]
  },
  {
   "cell_type": "code",
   "execution_count": null,
   "id": "cognitive-shoulder",
   "metadata": {},
   "outputs": [],
   "source": [
    "data.info()"
   ]
  },
  {
   "cell_type": "code",
   "execution_count": null,
   "id": "falling-trauma",
   "metadata": {},
   "outputs": [],
   "source": [
    "data2.info()"
   ]
  },
  {
   "cell_type": "markdown",
   "id": "higher-detective",
   "metadata": {},
   "source": [
    "### Make Datasets More Homogeneous"
   ]
  },
  {
   "cell_type": "code",
   "execution_count": null,
   "id": "secret-synthesis",
   "metadata": {},
   "outputs": [],
   "source": [
    "# homogenize columns\n",
    "data2.rename(mapper={'post': 'Description'}, axis=1, inplace=True)\n",
    "data2.rename(mapper={'date': 'Date'}, axis=1, inplace=True)\n",
    "data2.rename(mapper={'title': 'Title'}, axis=1, inplace=True)\n",
    "data.rename(mapper={'experience': 'Title'}, axis=1, inplace=True)"
   ]
  },
  {
   "cell_type": "code",
   "execution_count": null,
   "id": "metric-commitment",
   "metadata": {},
   "outputs": [],
   "source": [
    "#dictionary `contractions` to replace all the short text values with their corresponding the expanded values\n",
    "#you can add more values as per your requirements.\n",
    "\n",
    "contractions = { \n",
    "\"ain't\": \"am not\",\n",
    "\"aren't\": \"are not\",\n",
    "\"can't\": \"cannot\",\n",
    "\"can't've\": \"cannot have\",\n",
    "\"'cause\": \"because\",\n",
    "\"could've\": \"could have\",\n",
    "\"couldn't\": \"could not\",\n",
    "\"couldn't've\": \"could not have\",\n",
    "\"didn't\": \"did not\",\n",
    "\"doesn't\": \"does not\",\n",
    "\"don't\": \"do not\",\n",
    "\"hadn't\": \"had not\",\n",
    "\"hadn't've\": \"had not have\",\n",
    "\"hasn't\": \"has not\",\n",
    "\"haven't\": \"have not\",\n",
    "\"he'd\": \"he would\",\n",
    "\"he'd've\": \"he would have\",\n",
    "\"he'll\": \"he will\",\n",
    "\"he'll've\": \"he will have\",\n",
    "\"he's\": \"he is\",\n",
    "\"how'd\": \"how did\",\n",
    "\"how'd'y\": \"how do you\",\n",
    "\"how'll\": \"how will\",\n",
    "\"how's\": \"how does\",\n",
    "\"i'd\": \"i would\",\n",
    "\"i'd've\": \"i would have\",\n",
    "\"i'll\": \"i will\",\n",
    "\"i'll've\": \"i will have\",\n",
    "\"i'm\": \"i am\",\n",
    "\"i've\": \"i have\",\n",
    "\"isn't\": \"is not\",\n",
    "\"it'd\": \"it would\",\n",
    "\"it'd've\": \"it would have\",\n",
    "\"it'll\": \"it will\",\n",
    "\"it'll've\": \"it will have\",\n",
    "\"it's\": \"it is\",\n",
    "\"let's\": \"let us\",\n",
    "\"ma'am\": \"madam\",\n",
    "\"mayn't\": \"may not\",\n",
    "\"might've\": \"might have\",\n",
    "\"mightn't\": \"might not\",\n",
    "\"mightn't've\": \"might not have\",\n",
    "\"must've\": \"must have\",\n",
    "\"mustn't\": \"must not\",\n",
    "\"mustn't've\": \"must not have\",\n",
    "\"needn't\": \"need not\",\n",
    "\"needn't've\": \"need not have\",\n",
    "\"o'clock\": \"of the clock\",\n",
    "\"oughtn't\": \"ought not\",\n",
    "\"oughtn't've\": \"ought not have\",\n",
    "\"shan't\": \"shall not\",\n",
    "\"sha'n't\": \"shall not\",\n",
    "\"shan't've\": \"shall not have\",\n",
    "\"she'd\": \"she would\",\n",
    "\"she'd've\": \"she would have\",\n",
    "\"she'll\": \"she will\",\n",
    "\"she'll've\": \"she will have\",\n",
    "\"she's\": \"she is\",\n",
    "\"should've\": \"should have\",\n",
    "\"shouldn't\": \"should not\",\n",
    "\"shouldn't've\": \"should not have\",\n",
    "\"so've\": \"so have\",\n",
    "\"so's\": \"so is\",\n",
    "\"that'd\": \"that would\",\n",
    "\"that'd've\": \"that would have\",\n",
    "\"that's\": \"that is\",\n",
    "\"there'd\": \"there would\",\n",
    "\"there'd've\": \"there would have\",\n",
    "\"there's\": \"there is\",\n",
    "\"they'd\": \"they would\",\n",
    "\"they'd've\": \"they would have\",\n",
    "\"they'll\": \"they will\",\n",
    "\"they'll've\": \"they will have\",\n",
    "\"they're\": \"they are\",\n",
    "\"they've\": \"they have\",\n",
    "\"to've\": \"to have\",\n",
    "\"wasn't\": \"was not\",\n",
    "\" u \": \" you \",\n",
    "\" ur \": \" your \",\n",
    "\" n \": \" and \"}"
   ]
  },
  {
   "cell_type": "code",
   "execution_count": null,
   "id": "associate-monitor",
   "metadata": {},
   "outputs": [],
   "source": [
    "from nltk.stem import WordNetLemmatizer"
   ]
  },
  {
   "cell_type": "markdown",
   "id": "functional-portfolio",
   "metadata": {},
   "source": [
    "## Tokenisation "
   ]
  },
  {
   "cell_type": "code",
   "execution_count": null,
   "id": "contrary-cradle",
   "metadata": {},
   "outputs": [],
   "source": [
    "def tokenizeText(text, includeStopWords=False, includePunctuation=True, isLowerCase=True, separateDoc=False, includeStemmWords= True, includeLemWords=True,regex=True):\n",
    "    '''\n",
    "    Given text, return a list of tokens (words)\n",
    "    \n",
    "    Options:\n",
    "        includePunctuation = True (default) if the bag of words include punctuation as token\n",
    "                           = False if the bag of words exclude punctuation.\n",
    "        includeStopWords = True if stop words are not cleaned from bag of words\n",
    "                         = False (default) to return clean words without stop words.\n",
    "        isLowerCase = True (default) if all words are transformed into lower case\n",
    "                    = False if no transformation of case\n",
    "        separateDoc = True (provide list of list of tokens one list per data item)\n",
    "                    = False (provide flat list of tokens for entire data set)\n",
    "       \n",
    "    '''\n",
    "    all_thought = [] # our corpus\n",
    "    lines = text['Description'].values.tolist()\n",
    "    for text in lines:\n",
    "        if includePunctuation==True:\n",
    "            # include punctuation as part of token or word\n",
    "            tokens = [word for token in nltk.sent_tokenize(text) \n",
    "                      for word in nltk.word_tokenize(token)]\n",
    "        else:\n",
    "            # remove punctuation, words only\n",
    "            tokenizer=nltk.tokenize.RegexpTokenizer(r'\\w+')\n",
    "            tokens = [word for token in nltk.sent_tokenize(text) \n",
    "                      for word in tokenizer.tokenize(token)]\n",
    "    \n",
    "        if isLowerCase==True:\n",
    "            tokens=[word.lower() for word in tokens]\n",
    "            \n",
    "       # if contWords == True:\n",
    "           # tokens = [contractions.fix(word) for word in tokens]  #contraction\n",
    "           # remove_digits = str.maketrans('', '', digits)\n",
    "           # tokens = [w.translate(remove_digits) for w in tokens] \n",
    "           # tokens = [word for word in tokens if word]\n",
    "            \n",
    "\n",
    "\n",
    "\n",
    "        if includeStopWords==False:\n",
    "            stopWords=set(nltk.corpus.stopwords.words('english'))  # load stop words\n",
    "            tokens = [t for t in tokens if t not in stopWords]     # cleaning word from stop words \n",
    "\n",
    "        if includeStemmWords== True:\n",
    "            porter = PorterStemmer()\n",
    "            #tokens = [t for t in tokens \n",
    "                        #for t in porter.stem(t)]\n",
    "            tokens = [porter.stem(word) for word in tokens]\n",
    "\n",
    "        if includeLemWords == True:\n",
    "            stemmer = WordNetLemmatizer()\n",
    "            #tokens = [t for t in tokens \n",
    "                        #for t in lemmatizer.lemmatize(t)]\n",
    "            tokens = [stemmer.lemmatize(word) for word in tokens]\n",
    "            \n",
    "        \n",
    "        if regex == True: \n",
    "            \"\"\"Remove URLs from a text string\"\"\"\n",
    "            #tokens = re.sub('[0-9]+', '', str(tokens))\n",
    "            #tokens =re.sub(r'http\\S+', '', str(tokens))\n",
    "            #tokens =re.sub(r'[!@#$^&%*()+=-[]\\/{}|:<>?,.]', '', str(tokens), flags=re.I)\n",
    "            \n",
    "            \n",
    "            #ree = [\"http\\S+\",\"0-9\",\"!@#$^&%*()+=-[]\\/{}|:<>?,.\",\"6a564be8077bb7751060e1012b88acc68a2a476b\", \"e8qpg3i3k6m61\"]\n",
    "            #tokens = [t for t in tokens if t not in ree]\n",
    "            #tokens =re.sub(r\"http\\S+\", \"\", tokens)\n",
    "            #tokens =re.sub(r\"[!@#$^&%*()+=-[]\\/{}|:<>?,.]\", \"\", text, flags=re.I)\n",
    "        #if contraction == True:\n",
    "             #for key in contractions:\n",
    "                    #x = contractions[key]\n",
    "                    #tokens = x.replace(key, x)\n",
    "                    \n",
    "            # Remove all the special characters\n",
    "            #tokens = re.sub(r'\\W', ' ', str(tokens))\n",
    "            # remove all single characters\n",
    "            #tokens = re.sub(r'\\s+[a-zA-Z]\\s+', ' ', tokens)\n",
    "            # Remove single characters from the start\n",
    "            #tokens = re.sub(r'\\^[a-zA-Z]\\s+', ' ', tokens)\n",
    "            # Substituting multiple spaces with single space\n",
    "            #tokens = re.sub(r'\\s+', ' ', tokens, flags=re.I)\n",
    "            #ree = ['http\\S+\",\"0-9\",\"!@#$^&%*()+=-[]\\/{}|:<>?,.', '\\W', '\\s+[a-zA-Z]\\s+', '\\^[a-zA-Z]\\s+']\n",
    "            ree = ['[^a-zA-Z ]/g']\n",
    "            tokens = [t for t in tokens if t not in ree]\n",
    "            \n",
    "            \n",
    "            \n",
    "\n",
    "\n",
    "\n",
    "\n",
    "  \n",
    "    \n",
    "\n",
    "        if (separateDoc):\n",
    "            all_thought.append(tokens)\n",
    "        else:\n",
    "            all_thought+=tokens\n",
    "    return all_thought\n",
    "\n",
    "\n",
    "\n",
    "\n"
   ]
  },
  {
   "cell_type": "code",
   "execution_count": null,
   "id": "preceding-agency",
   "metadata": {},
   "outputs": [],
   "source": [
    "# remove this on super-computer\n",
    "#data = data.sample(frac=0.1)"
   ]
  },
  {
   "cell_type": "code",
   "execution_count": null,
   "id": "minor-blend",
   "metadata": {},
   "outputs": [],
   "source": [
    "#: no need to caLculate this for every n-gram; punctuation should be removed for n-grams\n",
    "words_doc = tokenizeText(data, includeStopWords=False, isLowerCase=True, includePunctuation=False, separateDoc=True, includeStemmWords= False, includeLemWords=True,regex=True)\n",
    "words_flat = tokenizeText(data, includeStopWords=True, isLowerCase=True, includePunctuation=False, separateDoc=False, includeStemmWords= False, includeLemWords=True,regex=True)"
   ]
  },
  {
   "cell_type": "code",
   "execution_count": null,
   "id": "lasting-quarterly",
   "metadata": {},
   "outputs": [],
   "source": [
    "#: no need to caLculate this for every n-gram; punctuation should be removed for n-grams\n",
    "words_doc2 = tokenizeText(data2, includeStopWords=False, isLowerCase=True, includePunctuation=False, separateDoc=True, includeStemmWords= False, includeLemWords=True,regex=True)\n",
    "words_flat2 = tokenizeText(data2, includeStopWords=True, isLowerCase=True, includePunctuation=False, separateDoc=False, includeStemmWords= False, includeLemWords=True,regex=True)"
   ]
  },
  {
   "cell_type": "code",
   "execution_count": null,
   "id": "banned-poland",
   "metadata": {},
   "outputs": [],
   "source": [
    "words_flat[1:3]"
   ]
  },
  {
   "cell_type": "code",
   "execution_count": null,
   "id": "proprietary-gossip",
   "metadata": {},
   "outputs": [],
   "source": [
    "words_doc[1]"
   ]
  },
  {
   "cell_type": "code",
   "execution_count": null,
   "id": "cardiac-concert",
   "metadata": {},
   "outputs": [],
   "source": [
    "words_doc2[100]"
   ]
  },
  {
   "cell_type": "code",
   "execution_count": 38,
   "id": "mineral-naples",
   "metadata": {},
   "outputs": [
    {
     "data": {
      "text/plain": [
       "['hello',\n",
       " 'gang',\n",
       " 'asked',\n",
       " 'earlier',\n",
       " 'friend',\n",
       " 'would',\n",
       " 'lend',\n",
       " 'laptop',\n",
       " 'albeit',\n",
       " 'reluctantly',\n",
       " 'dig',\n",
       " 'others',\n",
       " 'touching',\n",
       " 'belonging',\n",
       " 'agreed',\n",
       " 'proviso',\n",
       " 'friend',\n",
       " 'kept',\n",
       " 'environment',\n",
       " 'used',\n",
       " 'clean',\n",
       " 'would',\n",
       " 'wash',\n",
       " 'hand',\n",
       " 'handling',\n",
       " 'food',\n",
       " 'touching',\n",
       " 'keyboard',\n",
       " 'request',\n",
       " 'created',\n",
       " 'something',\n",
       " 'atmosphere',\n",
       " 'appreciate',\n",
       " 'need',\n",
       " 'cleaniliness',\n",
       " 'driven',\n",
       " 'ocd',\n",
       " 'surely',\n",
       " 'case',\n",
       " 'ensuring',\n",
       " 'stuff',\n",
       " 'remains',\n",
       " 'tiptop',\n",
       " 'condition',\n",
       " 'possible',\n",
       " 'really',\n",
       " 'take',\n",
       " 'care',\n",
       " 'belonging',\n",
       " 'would',\n",
       " 'horrified',\n",
       " 'returned',\n",
       " 'le',\n",
       " 'pristine',\n",
       " 'condition',\n",
       " 'order']"
      ]
     },
     "execution_count": 38,
     "metadata": {},
     "output_type": "execute_result"
    }
   ],
   "source": [
    "words_doc[20]"
   ]
  },
  {
   "cell_type": "code",
   "execution_count": 39,
   "id": "sustainable-inflation",
   "metadata": {},
   "outputs": [
    {
     "data": {
      "text/plain": [
       "['wanted',\n",
       " 'pray',\n",
       " 'god',\n",
       " 'something',\n",
       " 'using',\n",
       " 'thought',\n",
       " 'praying',\n",
       " 'thought',\n",
       " 'conversation',\n",
       " 'brother',\n",
       " 'father',\n",
       " 'drew',\n",
       " 'attention',\n",
       " 'praying',\n",
       " 'thought',\n",
       " 'continued',\n",
       " 'without',\n",
       " 'paying',\n",
       " 'attention',\n",
       " 'cause',\n",
       " 'focused',\n",
       " 'conversation',\n",
       " '30',\n",
       " '60',\n",
       " 'second',\n",
       " 'started',\n",
       " 'worrying',\n",
       " 'without',\n",
       " 'knowing',\n",
       " 'exactly',\n",
       " 'randomly',\n",
       " 'started',\n",
       " 'worrying',\n",
       " 'may',\n",
       " 'messed',\n",
       " 'word',\n",
       " 'kept',\n",
       " 'repeating',\n",
       " 'mistaken',\n",
       " 'word',\n",
       " 'without',\n",
       " 'realising',\n",
       " 'mistake',\n",
       " 'maybe',\n",
       " 'made',\n",
       " 'look',\n",
       " 'like',\n",
       " 'asking',\n",
       " 'something',\n",
       " 'bad',\n",
       " 'cant',\n",
       " 'remember',\n",
       " 'making',\n",
       " 'mistake',\n",
       " 'maybe',\n",
       " 'hypothesis',\n",
       " 'paying',\n",
       " 'attention',\n",
       " 'thought',\n",
       " 'made',\n",
       " 'mistake',\n",
       " 'forgot',\n",
       " 'subconscious',\n",
       " 'remembers',\n",
       " 'god',\n",
       " 'thought',\n",
       " 'accidental',\n",
       " 'prayer',\n",
       " 'real',\n",
       " 'prayer',\n",
       " 'kept',\n",
       " 'repeating',\n",
       " 'head',\n",
       " 'god',\n",
       " 'thought',\n",
       " 'wanted',\n",
       " 'past',\n",
       " 'said',\n",
       " 'god',\n",
       " 'mistake',\n",
       " 'may',\n",
       " 'happen',\n",
       " 'prayer',\n",
       " 'matter',\n",
       " 'say',\n",
       " 'think',\n",
       " 'without',\n",
       " 'never',\n",
       " 'accept',\n",
       " 'thought',\n",
       " 'prayer',\n",
       " 'protecet',\n",
       " 'wanted',\n",
       " 'safe',\n",
       " 'rope',\n",
       " 'would',\n",
       " 'worry',\n",
       " 'similar',\n",
       " 'case',\n",
       " 'like',\n",
       " 'god',\n",
       " 'thought',\n",
       " 'changed',\n",
       " 'opinion',\n",
       " 'bad',\n",
       " 'something',\n",
       " 'wanted',\n",
       " 'could',\n",
       " 'focus',\n",
       " 'prayer',\n",
       " 'remember',\n",
       " 'feeling',\n",
       " 'little',\n",
       " 'anxious',\n",
       " 'cant',\n",
       " 'remember',\n",
       " 'making',\n",
       " 'mistake',\n",
       " 'sure',\n",
       " 'hypothesis',\n",
       " 'really',\n",
       " 'made',\n",
       " 'mistake',\n",
       " 'want',\n",
       " 'thing',\n",
       " 'explained',\n",
       " 'god',\n",
       " 'many',\n",
       " 'time',\n",
       " 'make',\n",
       " 'mistake',\n",
       " 'thought',\n",
       " 'prayer',\n",
       " 'etc',\n",
       " 'never',\n",
       " 'accept',\n",
       " 'matter',\n",
       " 'say',\n",
       " 'worry',\n",
       " 'worry',\n",
       " 'tired',\n",
       " 'ocd']"
      ]
     },
     "execution_count": 39,
     "metadata": {},
     "output_type": "execute_result"
    }
   ],
   "source": [
    "words_doc2[0]"
   ]
  },
  {
   "cell_type": "markdown",
   "id": "russian-chicago",
   "metadata": {},
   "source": [
    "## 1-gram and n-gram Analysis"
   ]
  },
  {
   "cell_type": "code",
   "execution_count": 40,
   "id": "mighty-patio",
   "metadata": {},
   "outputs": [
    {
     "data": {
      "text/plain": [
       "'wanted pray god something using thought praying thought conversation brother father drew attention praying thought continued without paying attention cause focused conversation 30 60 second started worrying without knowing exactly randomly started worrying may messed word kept repeating mistaken word without realising mistake maybe made look like asking something bad cant remember making mistake maybe hypothesis paying attention thought made mistake forgot subconscious remembers god thought accidental prayer real prayer kept repeating head god thought wanted past said god mistake may happen prayer matter say think without never accept thought prayer protecet wanted safe rope would worry similar case like god thought changed opinion bad something wanted could focus prayer remember feeling little anxious cant remember making mistake sure hypothesis really made mistake want thing explained god many time make mistake thought prayer etc never accept matter say worry worry tired ocd'"
      ]
     },
     "execution_count": 40,
     "metadata": {},
     "output_type": "execute_result"
    }
   ],
   "source": [
    "' '.join(words_doc2[0])"
   ]
  },
  {
   "cell_type": "code",
   "execution_count": 41,
   "id": "acoustic-horse",
   "metadata": {},
   "outputs": [
    {
     "data": {
      "text/plain": [
       "[(('i', 'don', 't', 'know'), 7540),\n",
       " (('i', 'don', 't', 'want'), 4583),\n",
       " (('don', 't', 'want', 'to'), 4559),\n",
       " (('i', 'feel', 'like', 'i'), 4060),\n",
       " (('don', 't', 'know', 'what'), 3256),\n",
       " (('know', 'what', 'to', 'do'), 2970),\n",
       " (('and', 'i', 'don', 't'), 2618),\n",
       " (('t', 'know', 'what', 'to'), 2300),\n",
       " (('i', 'just', 'want', 'to'), 2055),\n",
       " (('but', 'i', 'don', 't'), 1965),\n",
       " (('don', 't', 'know', 'if'), 1926),\n",
       " (('i', 'm', 'going', 'to'), 1914),\n",
       " (('i', 'don', 't', 'think'), 1834),\n",
       " (('feel', 'like', 'i', 'm'), 1798),\n",
       " (('i', 'm', 'not', 'sure'), 1793),\n",
       " (('i', 'just', 'don', 't'), 1730),\n",
       " (('but', 'i', 'can', 't'), 1678),\n",
       " (('don', 't', 'know', 'how'), 1658),\n",
       " (('at', 'the', 'moment', 'i'), 1651),\n",
       " (('i', 'don', 't', 'have'), 1604),\n",
       " (('and', 'i', 'can', 't'), 1502),\n",
       " (('i', 'just', 'can', 't'), 1472),\n",
       " (('if', 'i', 'don', 't'), 1377),\n",
       " (('that', 'i', 'don', 't'), 1361),\n",
       " (('i', 'am', 'going', 'to'), 1338),\n",
       " (('i', 'm', 'trying', 'to'), 1097),\n",
       " (('i', 'don', 't', 'feel'), 1086),\n",
       " (('at', 'the', 'same', 'time'), 1084),\n",
       " (('i', 'really', 'don', 't'), 1078),\n",
       " (('a', 'bit', 'of', 'a'), 1064),\n",
       " (('i', 'just', 'wanted', 'to'), 1062),\n",
       " (('what', 'to', 'do', 'i'), 1048),\n",
       " (('t', 'know', 'how', 'to'), 1046),\n",
       " (('i', 'know', 'it', 's'), 1040),\n",
       " (('to', 'be', 'able', 'to'), 1026),\n",
       " (('the', 'fact', 'that', 'i'), 1007),\n",
       " (('i', 'can', 't', 'stop'), 1005),\n",
       " (('to', 'the', 'point', 'where'), 993),\n",
       " (('i', 'don', 't', 'really'), 983),\n",
       " (('don', 't', 'think', 'i'), 977),\n",
       " (('t', 'want', 'to', 'be'), 936),\n",
       " (('i', 'dont', 'want', 'to'), 932),\n",
       " (('i', 'haven', 't', 'been'), 908),\n",
       " (('just', 'don', 't', 'know'), 899),\n",
       " (('didn', 't', 'want', 'to'), 887),\n",
       " (('feel', 'like', 'i', 'am'), 886),\n",
       " (('i', 'don', 't', 'even'), 875),\n",
       " (('i', 'want', 'to', 'be'), 872),\n",
       " (('can', 't', 'seem', 'to'), 868),\n",
       " (('for', 'a', 'long', 'time'), 857)]"
      ]
     },
     "execution_count": 41,
     "metadata": {},
     "output_type": "execute_result"
    }
   ],
   "source": [
    "four_grams = list(ngrams(words_flat,4))\n",
    "fdist = nltk.FreqDist(four_grams)\n",
    "fdist.most_common(50)"
   ]
  },
  {
   "cell_type": "code",
   "execution_count": 42,
   "id": "raising-kenya",
   "metadata": {},
   "outputs": [
    {
     "data": {
      "text/plain": [
       "[(('i', 'don', 't', 'want', 'to'), 3486),\n",
       " (('don', 't', 'know', 'what', 'to'), 2205),\n",
       " (('i', 'don', 't', 'know', 'what'), 2202),\n",
       " (('t', 'know', 'what', 'to', 'do'), 2016),\n",
       " (('i', 'don', 't', 'know', 'if'), 1638),\n",
       " (('i', 'don', 't', 'know', 'how'), 1189),\n",
       " (('i', 'feel', 'like', 'i', 'm'), 1071),\n",
       " (('don', 't', 'know', 'how', 'to'), 978),\n",
       " (('and', 'i', 'don', 't', 'know'), 896),\n",
       " (('i', 'just', 'don', 't', 'know'), 850),\n",
       " (('know', 'what', 'to', 'do', 'i'), 828),\n",
       " (('don', 't', 'want', 'to', 'be'), 787),\n",
       " (('i', 'don', 't', 'think', 'i'), 775),\n",
       " (('to', 'the', 'point', 'where', 'i'), 702),\n",
       " (('don', 't', 'know', 'if', 'i'), 673),\n",
       " (('dont', 'know', 'what', 'to', 'do'), 670),\n",
       " (('i', 'didn', 't', 'want', 'to'), 627),\n",
       " (('i', 'don', 't', 'know', 'why'), 622),\n",
       " (('but', 'i', 'don', 't', 'know'), 577),\n",
       " (('i', 'm', 'not', 'sure', 'if'), 562),\n",
       " (('and', 'i', 'don', 't', 'want'), 553),\n",
       " (('i', 'feel', 'like', 'i', 'am'), 531),\n",
       " (('i', 'can', 't', 'seem', 'to'), 529),\n",
       " (('i', 'dont', 'know', 'what', 'to'), 451),\n",
       " (('just', 'don', 't', 'know', 'what'), 439),\n",
       " (('at', 'the', 'same', 'time', 'i'), 431),\n",
       " (('i', 'just', 'want', 'to', 'be'), 429),\n",
       " (('i', 'don', 't', 'even', 'know'), 426),\n",
       " (('i', 'really', 'don', 't', 'know'), 425),\n",
       " (('but', 'i', 'don', 't', 'want'), 421),\n",
       " (('i', 'wa', 'just', 'wondering', 'if'), 417),\n",
       " (('i', 'feel', 'like', 'i', 'have'), 415),\n",
       " (('at', 'the', 'end', 'of', 'the'), 413),\n",
       " (('don', 't', 'know', 'if', 'it'), 397),\n",
       " (('and', 'i', 'feel', 'like', 'i'), 391),\n",
       " (('the', 'rest', 'of', 'my', 'life'), 361),\n",
       " (('but', 'at', 'the', 'same', 'time'), 356),\n",
       " (('don', 't', 'know', 'why', 'i'), 351),\n",
       " (('don', 't', 'want', 'to', 'go'), 342),\n",
       " (('a', 'long', 'a', 'i', 'can'), 335),\n",
       " (('i', 'wa', 'diagnosed', 'with', 'ocd'), 334),\n",
       " (('won', 't', 'be', 'able', 'to'), 330),\n",
       " (('i', 'can', 't', 'stop', 'thinking'), 326),\n",
       " (('i', 'wa', 'wondering', 'if', 'anyone'), 321),\n",
       " (('i', 'really', 'don', 't', 'want'), 320),\n",
       " (('i', 'feel', 'like', 'i', 've'), 314),\n",
       " (('know', 'what', 'to', 'do', 'anymore'), 310),\n",
       " (('long', 'a', 'i', 'can', 'remember'), 306),\n",
       " (('really', 'don', 't', 'want', 'to'), 304),\n",
       " (('i', 'don', 't', 'really', 'know'), 301)]"
      ]
     },
     "execution_count": 42,
     "metadata": {},
     "output_type": "execute_result"
    }
   ],
   "source": [
    "five_grams = list(ngrams(words_flat,5))\n",
    "fdist = nltk.FreqDist(five_grams)\n",
    "fdist.most_common(50)"
   ]
  },
  {
   "cell_type": "code",
   "execution_count": 43,
   "id": "posted-union",
   "metadata": {},
   "outputs": [
    {
     "data": {
      "text/plain": [
       "[(('i', 'don', 't', 'know'), 175),\n",
       " (('i', 'feel', 'like', 'i'), 98),\n",
       " (('i', 'don', 't', 'want'), 93),\n",
       " (('don', 't', 'want', 'to'), 85),\n",
       " (('don', 't', 'know', 'what'), 71),\n",
       " (('know', 'what', 'to', 'do'), 58),\n",
       " (('t', 'know', 'what', 'to'), 53),\n",
       " (('and', 'i', 'don', 't'), 52),\n",
       " (('don', 't', 'know', 'how'), 45),\n",
       " (('i', 'don', 't', 'have'), 44),\n",
       " (('but', 'i', 'don', 't'), 43),\n",
       " (('feel', 'like', 'i', 'm'), 42),\n",
       " (('i', 'just', 'want', 'to'), 41),\n",
       " (('i', 'don', 't', 'think'), 39),\n",
       " (('but', 'i', 'can', 't'), 35),\n",
       " (('don', 't', 'know', 'if'), 33),\n",
       " (('if', 'i', 'don', 't'), 32),\n",
       " (('i', 'can', 't', 'stop'), 28),\n",
       " (('t', 'want', 'to', 'be'), 28),\n",
       " (('i', 'don', 't', 'really'), 28),\n",
       " (('t', 'know', 'how', 'to'), 27),\n",
       " (('i', 'm', 'going', 'to'), 27),\n",
       " (('to', 'the', 'point', 'where'), 27),\n",
       " (('i', 'm', 'not', 'sure'), 26),\n",
       " (('that', 'i', 'don', 't'), 25),\n",
       " (('i', 'm', 'trying', 'to'), 24),\n",
       " (('and', 'i', 'feel', 'like'), 24),\n",
       " (('the', 'point', 'where', 'i'), 23),\n",
       " (('and', 'i', 'can', 't'), 22),\n",
       " (('what', 'to', 'do', 'i'), 22),\n",
       " (('i', 've', 'been', 'having'), 22),\n",
       " (('i', 'don', 't', 'even'), 22),\n",
       " (('feel', 'like', 'i', 'have'), 21),\n",
       " (('so', 'i', 'don', 't'), 21),\n",
       " (('i', 'dont', 'want', 'to'), 21),\n",
       " (('i', 'can', 't', 'even'), 20),\n",
       " (('but', 'i', 'feel', 'like'), 20),\n",
       " (('i', 'just', 'don', 't'), 20),\n",
       " (('the', 'last', 'time', 'i'), 20),\n",
       " (('i', 'don', 't', 'feel'), 19),\n",
       " (('i', 'just', 'can', 't'), 19),\n",
       " (('i', 'feel', 'like', 'a'), 18),\n",
       " (('i', 'want', 'to', 'be'), 18),\n",
       " (('because', 'i', 'don', 't'), 18),\n",
       " (('don', 't', 'think', 'i'), 18),\n",
       " (('because', 'the', 'last', 'time'), 18),\n",
       " (('last', 'time', 'i', 'did'), 18),\n",
       " (('time', 'i', 'did', 'that'), 18),\n",
       " (('i', 'did', 'that', 'something'), 18),\n",
       " (('did', 'that', 'something', 'bad'), 18)]"
      ]
     },
     "execution_count": 43,
     "metadata": {},
     "output_type": "execute_result"
    }
   ],
   "source": [
    "four_grams2 = list(ngrams(words_flat2,4))\n",
    "fdist = nltk.FreqDist(four_grams2)\n",
    "fdist.most_common(50)"
   ]
  },
  {
   "cell_type": "code",
   "execution_count": 44,
   "id": "changed-lesbian",
   "metadata": {},
   "outputs": [
    {
     "data": {
      "text/plain": [
       "[(('i', 'don', 't', 'want', 'to'), 70),\n",
       " (('don', 't', 'know', 'what', 'to'), 52),\n",
       " (('t', 'know', 'what', 'to', 'do'), 49),\n",
       " (('i', 'don', 't', 'know', 'what'), 48),\n",
       " (('i', 'don', 't', 'know', 'how'), 36),\n",
       " (('i', 'don', 't', 'know', 'if'), 31),\n",
       " (('don', 't', 'want', 'to', 'be'), 26),\n",
       " (('don', 't', 'know', 'how', 'to'), 25),\n",
       " (('but', 'i', 'don', 't', 'know'), 23),\n",
       " (('i', 'feel', 'like', 'i', 'm'), 22),\n",
       " (('to', 'the', 'point', 'where', 'i'), 20),\n",
       " (('know', 'what', 'to', 'do', 'i'), 19),\n",
       " (('because', 'the', 'last', 'time', 'i'), 18),\n",
       " (('the', 'last', 'time', 'i', 'did'), 18),\n",
       " (('last', 'time', 'i', 'did', 'that'), 18),\n",
       " (('time', 'i', 'did', 'that', 'something'), 18),\n",
       " (('i', 'did', 'that', 'something', 'bad'), 18),\n",
       " (('did', 'that', 'something', 'bad', 'happened'), 18),\n",
       " (('that', 'something', 'bad', 'happened', 'the'), 18),\n",
       " (('something', 'bad', 'happened', 'the', 'next'), 18),\n",
       " (('bad', 'happened', 'the', 'next', 'day'), 18),\n",
       " (('i', 'feel', 'like', 'i', 'have'), 16),\n",
       " (('i', 'don', 't', 'know', 'why'), 16),\n",
       " (('i', 'don', 't', 'think', 'i'), 16),\n",
       " (('and', 'i', 'don', 't', 'know'), 14),\n",
       " (('i', 'don', 't', 'even', 'know'), 14),\n",
       " (('i', 'm', 'not', 'sure', 'if'), 14),\n",
       " (('i', 'just', 'don', 't', 'know'), 13),\n",
       " (('and', 'i', 'feel', 'like', 'i'), 13),\n",
       " (('i', 'don', 't', 'know', 'i'), 12),\n",
       " (('feel', 'like', 'i', 'have', 'to'), 12),\n",
       " (('i', 'just', 'want', 'to', 'be'), 10),\n",
       " (('happened', 'the', 'next', 'day', 'i'), 10),\n",
       " (('feel', 'like', 'i', 'need', 'to'), 9),\n",
       " (('don', 't', 'know', 'if', 'i'), 9),\n",
       " (('for', 'the', 'first', 'time', 'in'), 9),\n",
       " (('but', 'i', 'feel', 'like', 'i'), 9),\n",
       " (('i', 'dont', 'want', 'to', 'be'), 9),\n",
       " (('i', 'can', 't', 'stop', 'thinking'), 9),\n",
       " (('can', 't', 'stop', 'thinking', 'about'), 9),\n",
       " (('and', 'i', 'don', 't', 'want'), 9),\n",
       " (('how', 'to', 'deal', 'with', 'this'), 9),\n",
       " (('i', 've', 'been', 'trying', 'to'), 8),\n",
       " (('i', 'feel', 'like', 'i', 'need'), 8),\n",
       " (('t', 'want', 'to', 'be', 'a'), 8),\n",
       " (('i', 've', 'been', 'dealing', 'with'), 8),\n",
       " (('just', 'don', 't', 'know', 'what'), 8),\n",
       " (('i', 'feel', 'the', 'need', 'to'), 8),\n",
       " (('i', 'don', 't', 'really', 'know'), 8),\n",
       " (('dont', 'know', 'what', 'to', 'do'), 8)]"
      ]
     },
     "execution_count": 44,
     "metadata": {},
     "output_type": "execute_result"
    }
   ],
   "source": [
    "five_grams2 = list(ngrams(words_flat2,5))\n",
    "fdist = nltk.FreqDist(five_grams2)\n",
    "fdist.most_common(50)"
   ]
  },
  {
   "cell_type": "markdown",
   "id": "allied-server",
   "metadata": {},
   "source": [
    "## Analysis of Non-Stop Words"
   ]
  },
  {
   "cell_type": "code",
   "execution_count": 45,
   "id": "alternative-quality",
   "metadata": {},
   "outputs": [],
   "source": [
    "ns_words = tokenizeText(data, includeStopWords=False, isLowerCase=True, includePunctuation=False, separateDoc=False, includeStemmWords= False, includeLemWords=False,regex=True)\n",
    "ns_words2 = tokenizeText(data2, includeStopWords=False, isLowerCase=True, includePunctuation=False, separateDoc=False, includeStemmWords= False, includeLemWords=False,regex=True)\n"
   ]
  },
  {
   "cell_type": "code",
   "execution_count": 46,
   "id": "pleased-growth",
   "metadata": {},
   "outputs": [
    {
     "data": {
      "text/html": [
       "<div>\n",
       "<style scoped>\n",
       "    .dataframe tbody tr th:only-of-type {\n",
       "        vertical-align: middle;\n",
       "    }\n",
       "\n",
       "    .dataframe tbody tr th {\n",
       "        vertical-align: top;\n",
       "    }\n",
       "\n",
       "    .dataframe thead th {\n",
       "        text-align: right;\n",
       "    }\n",
       "</style>\n",
       "<table border=\"1\" class=\"dataframe\">\n",
       "  <thead>\n",
       "    <tr style=\"text-align: right;\">\n",
       "      <th></th>\n",
       "      <th>Word</th>\n",
       "      <th>Frequency</th>\n",
       "    </tr>\n",
       "  </thead>\n",
       "  <tbody>\n",
       "    <tr>\n",
       "      <th>0</th>\n",
       "      <td>ocd</td>\n",
       "      <td>93275</td>\n",
       "    </tr>\n",
       "    <tr>\n",
       "      <th>1</th>\n",
       "      <td>like</td>\n",
       "      <td>64312</td>\n",
       "    </tr>\n",
       "    <tr>\n",
       "      <th>2</th>\n",
       "      <td>feel</td>\n",
       "      <td>59296</td>\n",
       "    </tr>\n",
       "    <tr>\n",
       "      <th>3</th>\n",
       "      <td>know</td>\n",
       "      <td>52203</td>\n",
       "    </tr>\n",
       "    <tr>\n",
       "      <th>4</th>\n",
       "      <td>really</td>\n",
       "      <td>46394</td>\n",
       "    </tr>\n",
       "    <tr>\n",
       "      <th>...</th>\n",
       "      <td>...</td>\n",
       "      <td>...</td>\n",
       "    </tr>\n",
       "    <tr>\n",
       "      <th>95</th>\n",
       "      <td>intrusive</td>\n",
       "      <td>9304</td>\n",
       "    </tr>\n",
       "    <tr>\n",
       "      <th>96</th>\n",
       "      <td>worry</td>\n",
       "      <td>9292</td>\n",
       "    </tr>\n",
       "    <tr>\n",
       "      <th>97</th>\n",
       "      <td>may</td>\n",
       "      <td>9290</td>\n",
       "    </tr>\n",
       "    <tr>\n",
       "      <th>98</th>\n",
       "      <td>days</td>\n",
       "      <td>9170</td>\n",
       "    </tr>\n",
       "    <tr>\n",
       "      <th>99</th>\n",
       "      <td>cbt</td>\n",
       "      <td>9134</td>\n",
       "    </tr>\n",
       "  </tbody>\n",
       "</table>\n",
       "<p>100 rows × 2 columns</p>\n",
       "</div>"
      ],
      "text/plain": [
       "         Word  Frequency\n",
       "0         ocd      93275\n",
       "1        like      64312\n",
       "2        feel      59296\n",
       "3        know      52203\n",
       "4      really      46394\n",
       "..        ...        ...\n",
       "95  intrusive       9304\n",
       "96      worry       9292\n",
       "97        may       9290\n",
       "98       days       9170\n",
       "99        cbt       9134\n",
       "\n",
       "[100 rows x 2 columns]"
      ]
     },
     "execution_count": 46,
     "metadata": {},
     "output_type": "execute_result"
    }
   ],
   "source": [
    "p = Counter(\" \".join(ns_words).split()).most_common(1000)\n",
    "result = pd.DataFrame(p, columns=['Word', 'Frequency'])\n",
    "result.head(100)"
   ]
  },
  {
   "cell_type": "code",
   "execution_count": 47,
   "id": "advance-messaging",
   "metadata": {},
   "outputs": [
    {
     "data": {
      "text/html": [
       "<div>\n",
       "<style scoped>\n",
       "    .dataframe tbody tr th:only-of-type {\n",
       "        vertical-align: middle;\n",
       "    }\n",
       "\n",
       "    .dataframe tbody tr th {\n",
       "        vertical-align: top;\n",
       "    }\n",
       "\n",
       "    .dataframe thead th {\n",
       "        text-align: right;\n",
       "    }\n",
       "</style>\n",
       "<table border=\"1\" class=\"dataframe\">\n",
       "  <thead>\n",
       "    <tr style=\"text-align: right;\">\n",
       "      <th></th>\n",
       "      <th>Word</th>\n",
       "      <th>Frequency</th>\n",
       "    </tr>\n",
       "  </thead>\n",
       "  <tbody>\n",
       "    <tr>\n",
       "      <th>0</th>\n",
       "      <td>like</td>\n",
       "      <td>1299</td>\n",
       "    </tr>\n",
       "    <tr>\n",
       "      <th>1</th>\n",
       "      <td>ocd</td>\n",
       "      <td>1144</td>\n",
       "    </tr>\n",
       "    <tr>\n",
       "      <th>2</th>\n",
       "      <td>feel</td>\n",
       "      <td>787</td>\n",
       "    </tr>\n",
       "    <tr>\n",
       "      <th>3</th>\n",
       "      <td>know</td>\n",
       "      <td>729</td>\n",
       "    </tr>\n",
       "    <tr>\n",
       "      <th>4</th>\n",
       "      <td>thoughts</td>\n",
       "      <td>642</td>\n",
       "    </tr>\n",
       "    <tr>\n",
       "      <th>...</th>\n",
       "      <td>...</td>\n",
       "      <td>...</td>\n",
       "    </tr>\n",
       "    <tr>\n",
       "      <th>95</th>\n",
       "      <td>little</td>\n",
       "      <td>120</td>\n",
       "    </tr>\n",
       "    <tr>\n",
       "      <th>96</th>\n",
       "      <td>start</td>\n",
       "      <td>119</td>\n",
       "    </tr>\n",
       "    <tr>\n",
       "      <th>97</th>\n",
       "      <td>stuff</td>\n",
       "      <td>119</td>\n",
       "    </tr>\n",
       "    <tr>\n",
       "      <th>98</th>\n",
       "      <td>told</td>\n",
       "      <td>118</td>\n",
       "    </tr>\n",
       "    <tr>\n",
       "      <th>99</th>\n",
       "      <td>find</td>\n",
       "      <td>117</td>\n",
       "    </tr>\n",
       "  </tbody>\n",
       "</table>\n",
       "<p>100 rows × 2 columns</p>\n",
       "</div>"
      ],
      "text/plain": [
       "        Word  Frequency\n",
       "0       like       1299\n",
       "1        ocd       1144\n",
       "2       feel        787\n",
       "3       know        729\n",
       "4   thoughts        642\n",
       "..       ...        ...\n",
       "95    little        120\n",
       "96     start        119\n",
       "97     stuff        119\n",
       "98      told        118\n",
       "99      find        117\n",
       "\n",
       "[100 rows x 2 columns]"
      ]
     },
     "execution_count": 47,
     "metadata": {},
     "output_type": "execute_result"
    }
   ],
   "source": [
    "p2 = Counter(\" \".join(ns_words2).split()).most_common(1000)\n",
    "result2 = pd.DataFrame(p2, columns=['Word', 'Frequency'])\n",
    "result2.head(100)"
   ]
  },
  {
   "cell_type": "markdown",
   "id": "radio-hotel",
   "metadata": {},
   "source": [
    "## Length Distributions"
   ]
  },
  {
   "cell_type": "code",
   "execution_count": 48,
   "id": "federal-barbados",
   "metadata": {},
   "outputs": [
    {
     "data": {
      "text/html": [
       "<div>\n",
       "<style scoped>\n",
       "    .dataframe tbody tr th:only-of-type {\n",
       "        vertical-align: middle;\n",
       "    }\n",
       "\n",
       "    .dataframe tbody tr th {\n",
       "        vertical-align: top;\n",
       "    }\n",
       "\n",
       "    .dataframe thead th {\n",
       "        text-align: right;\n",
       "    }\n",
       "</style>\n",
       "<table border=\"1\" class=\"dataframe\">\n",
       "  <thead>\n",
       "    <tr style=\"text-align: right;\">\n",
       "      <th></th>\n",
       "      <th>Desc-Char-Length</th>\n",
       "      <th>Desc-Word-Length</th>\n",
       "    </tr>\n",
       "  </thead>\n",
       "  <tbody>\n",
       "    <tr>\n",
       "      <th>count</th>\n",
       "      <td>56838.000000</td>\n",
       "      <td>56838.000000</td>\n",
       "    </tr>\n",
       "    <tr>\n",
       "      <th>mean</th>\n",
       "      <td>1119.453095</td>\n",
       "      <td>215.485327</td>\n",
       "    </tr>\n",
       "    <tr>\n",
       "      <th>std</th>\n",
       "      <td>1187.024929</td>\n",
       "      <td>224.866728</td>\n",
       "    </tr>\n",
       "    <tr>\n",
       "      <th>min</th>\n",
       "      <td>1.000000</td>\n",
       "      <td>0.000000</td>\n",
       "    </tr>\n",
       "    <tr>\n",
       "      <th>25%</th>\n",
       "      <td>436.000000</td>\n",
       "      <td>84.000000</td>\n",
       "    </tr>\n",
       "    <tr>\n",
       "      <th>50%</th>\n",
       "      <td>805.000000</td>\n",
       "      <td>156.000000</td>\n",
       "    </tr>\n",
       "    <tr>\n",
       "      <th>75%</th>\n",
       "      <td>1400.000000</td>\n",
       "      <td>271.000000</td>\n",
       "    </tr>\n",
       "    <tr>\n",
       "      <th>max</th>\n",
       "      <td>32759.000000</td>\n",
       "      <td>5733.000000</td>\n",
       "    </tr>\n",
       "  </tbody>\n",
       "</table>\n",
       "</div>"
      ],
      "text/plain": [
       "       Desc-Char-Length  Desc-Word-Length\n",
       "count      56838.000000      56838.000000\n",
       "mean        1119.453095        215.485327\n",
       "std         1187.024929        224.866728\n",
       "min            1.000000          0.000000\n",
       "25%          436.000000         84.000000\n",
       "50%          805.000000        156.000000\n",
       "75%         1400.000000        271.000000\n",
       "max        32759.000000       5733.000000"
      ]
     },
     "execution_count": 48,
     "metadata": {},
     "output_type": "execute_result"
    }
   ],
   "source": [
    "data['Desc-Char-Length'] = data['Description'].apply(len)\n",
    "data['Desc-Word-Length'] = data['Description'].apply(lambda x: len(x.split()))\n",
    "data.describe()"
   ]
  },
  {
   "cell_type": "code",
   "execution_count": 49,
   "id": "periodic-latter",
   "metadata": {},
   "outputs": [
    {
     "data": {
      "text/html": [
       "<div>\n",
       "<style scoped>\n",
       "    .dataframe tbody tr th:only-of-type {\n",
       "        vertical-align: middle;\n",
       "    }\n",
       "\n",
       "    .dataframe tbody tr th {\n",
       "        vertical-align: top;\n",
       "    }\n",
       "\n",
       "    .dataframe thead th {\n",
       "        text-align: right;\n",
       "    }\n",
       "</style>\n",
       "<table border=\"1\" class=\"dataframe\">\n",
       "  <thead>\n",
       "    <tr style=\"text-align: right;\">\n",
       "      <th></th>\n",
       "      <th>Desc-Char-Length</th>\n",
       "      <th>Desc-Word-Length</th>\n",
       "    </tr>\n",
       "  </thead>\n",
       "  <tbody>\n",
       "    <tr>\n",
       "      <th>count</th>\n",
       "      <td>889.000000</td>\n",
       "      <td>889.000000</td>\n",
       "    </tr>\n",
       "    <tr>\n",
       "      <th>mean</th>\n",
       "      <td>993.750281</td>\n",
       "      <td>188.223847</td>\n",
       "    </tr>\n",
       "    <tr>\n",
       "      <th>std</th>\n",
       "      <td>1267.969695</td>\n",
       "      <td>237.496402</td>\n",
       "    </tr>\n",
       "    <tr>\n",
       "      <th>min</th>\n",
       "      <td>5.000000</td>\n",
       "      <td>1.000000</td>\n",
       "    </tr>\n",
       "    <tr>\n",
       "      <th>25%</th>\n",
       "      <td>345.000000</td>\n",
       "      <td>66.000000</td>\n",
       "    </tr>\n",
       "    <tr>\n",
       "      <th>50%</th>\n",
       "      <td>641.000000</td>\n",
       "      <td>122.000000</td>\n",
       "    </tr>\n",
       "    <tr>\n",
       "      <th>75%</th>\n",
       "      <td>1191.000000</td>\n",
       "      <td>226.000000</td>\n",
       "    </tr>\n",
       "    <tr>\n",
       "      <th>max</th>\n",
       "      <td>16753.000000</td>\n",
       "      <td>3066.000000</td>\n",
       "    </tr>\n",
       "  </tbody>\n",
       "</table>\n",
       "</div>"
      ],
      "text/plain": [
       "       Desc-Char-Length  Desc-Word-Length\n",
       "count        889.000000        889.000000\n",
       "mean         993.750281        188.223847\n",
       "std         1267.969695        237.496402\n",
       "min            5.000000          1.000000\n",
       "25%          345.000000         66.000000\n",
       "50%          641.000000        122.000000\n",
       "75%         1191.000000        226.000000\n",
       "max        16753.000000       3066.000000"
      ]
     },
     "execution_count": 49,
     "metadata": {},
     "output_type": "execute_result"
    }
   ],
   "source": [
    "data2['Desc-Char-Length'] = data2['Description'].apply(len)\n",
    "data2['Desc-Word-Length'] = data2['Description'].apply(lambda x: len(x.split()))\n",
    "data2.describe()"
   ]
  },
  {
   "cell_type": "code",
   "execution_count": 50,
   "id": "comprehensive-auction",
   "metadata": {},
   "outputs": [
    {
     "data": {
      "image/png": "[encoded data removed]",
      "text/plain": [
       "<Figure size 1008x360 with 2 Axes>"
      ]
     },
     "metadata": {
      "needs_background": "light"
     },
     "output_type": "display_data"
    }
   ],
   "source": [
    "fig, axes = plt.subplots(nrows=1, ncols=2, figsize=(14,5))\n",
    "axes[0].hist(data['Desc-Char-Length'], bins=400, alpha=0.4, label='sentence chars (OCD Forum)', color='g', density=True)\n",
    "axes[0].hist(data2['Desc-Char-Length'], bins=400, alpha=0.2, label='sentence chars (Reddit)', color='b', density=True)\n",
    "axes[1].hist(data['Desc-Word-Length'], bins=400, alpha=0.4, label='sentence words (OCD Forum)', color='g', density=True) \n",
    "axes[1].hist(data2['Desc-Word-Length'], bins=400, alpha=0.2, label='sentence words (Reddit)', color='b', density=True) \n",
    "axes[0].set_xlim([0,6000])\n",
    "axes[1].set_xlim([0,1000])\n",
    "for ax in axes:\n",
    "    ax.set_title('Distribution of Description Lengths (OCD Forum vs Reddit)')\n",
    "    ax.set_xlabel('Description Length (chars)')\n",
    "    ax.grid()\n",
    "    ax.legend()"
   ]
  },
  {
   "cell_type": "markdown",
   "id": "subject-subscriber",
   "metadata": {},
   "source": [
    "## Length Abnormalities"
   ]
  },
  {
   "cell_type": "code",
   "execution_count": 51,
   "id": "logical-seeker",
   "metadata": {},
   "outputs": [
    {
     "data": {
      "text/plain": [
       "(1602, 6)"
      ]
     },
     "execution_count": 51,
     "metadata": {},
     "output_type": "execute_result"
    }
   ],
   "source": [
    "# how many descriptions are oddly short? Note sure how we can classify these\n",
    "data[data['Desc-Word-Length']<20].shape"
   ]
  },
  {
   "cell_type": "code",
   "execution_count": 52,
   "id": "acute-determination",
   "metadata": {},
   "outputs": [
    {
     "data": {
      "text/plain": [
       "60    Ok thanks alot.\\nEdited August 7, 2007 by Guest\n",
       "66         ......\\nEdited July 13, 2018 by don't know\n",
       "67          deleted\\nEdited October 21, 2008 by Guest\n",
       "68      ......\\nEdited December 1, 2018 by don't know\n",
       "Name: Description, dtype: object"
      ]
     },
     "execution_count": 52,
     "metadata": {},
     "output_type": "execute_result"
    }
   ],
   "source": [
    "data[data['Desc-Word-Length']<20]['Description'].iloc[2:6]"
   ]
  },
  {
   "cell_type": "code",
   "execution_count": 53,
   "id": "complicated-sport",
   "metadata": {},
   "outputs": [],
   "source": [
    "# get names of indexes\n",
    "index_names = data[data['Desc-Word-Length']<20].index \n",
    "# drop these row indexes \n",
    "# from dataFrame \n",
    "data.drop(index_names, inplace = True)"
   ]
  },
  {
   "cell_type": "code",
   "execution_count": 54,
   "id": "wanted-murray",
   "metadata": {},
   "outputs": [
    {
     "data": {
      "text/plain": [
       "(49, 5)"
      ]
     },
     "execution_count": 54,
     "metadata": {},
     "output_type": "execute_result"
    }
   ],
   "source": [
    "# how many descriptions are oddly short? Note sure how we can classify these\n",
    "data2[data2['Desc-Word-Length']<20].shape"
   ]
  },
  {
   "cell_type": "code",
   "execution_count": 55,
   "id": "certain-short",
   "metadata": {},
   "outputs": [
    {
     "data": {
      "text/plain": [
       "87                I feel so sick and disgusted with this\n",
       "123    Reddit has become a big compulsion of mine. Si...\n",
       "126    And yes this ocd is my fault. I made me distru...\n",
       "146                                  Edit: girl in red**\n",
       "Name: Description, dtype: object"
      ]
     },
     "execution_count": 55,
     "metadata": {},
     "output_type": "execute_result"
    }
   ],
   "source": [
    "data2[data2['Desc-Word-Length']<20]['Description'].iloc[2:6]"
   ]
  },
  {
   "cell_type": "code",
   "execution_count": 56,
   "id": "abandoned-energy",
   "metadata": {},
   "outputs": [],
   "source": [
    "# get names of indexes \n",
    "index_names = data2[data2['Desc-Word-Length']<20].index \n",
    "# drop these row indexes \n",
    "# from dataFrame \n",
    "data2.drop(index_names, inplace = True)"
   ]
  },
  {
   "cell_type": "code",
   "execution_count": null,
   "id": "laughing-raising",
   "metadata": {},
   "outputs": [],
   "source": []
  },
  {
   "cell_type": "markdown",
   "id": "stylish-lighter",
   "metadata": {},
   "source": [
    "## TTR"
   ]
  },
  {
   "cell_type": "code",
   "execution_count": 57,
   "id": "modern-monkey",
   "metadata": {},
   "outputs": [],
   "source": [
    "#data['TTR'] = [len(set(words))/(1+len(words)) for words in words_doc]\n",
    "#data2['TTR'] = [len(set(words))/(1+len(words)) for words in words_doc2]"
   ]
  },
  {
   "cell_type": "code",
   "execution_count": 58,
   "id": "pleasant-rider",
   "metadata": {},
   "outputs": [],
   "source": [
    "#%matplotlib inline\n",
    "#fig, ax = plt.subplots(nrows=1, ncols=1, figsize=(14,5))\n",
    "#ax.hist(data['TTR'], bins=140, alpha=0.4, label='TTR (OCD Forum)', color='g', density=True)\n",
    "#ax.hist(data2['TTR'], bins=140, alpha=0.2, label='TTR (OCD Forum)', color='b', density=True)\n",
    "#ax.set_title('Distribution of TTR')\n",
    "#ax.set_xlabel('Type/Token Ratio')\n",
    "#ax.grid()\n",
    "#ax.legend();"
   ]
  },
  {
   "cell_type": "markdown",
   "id": "helpful-membrane",
   "metadata": {},
   "source": [
    "## Clustering "
   ]
  },
  {
   "cell_type": "markdown",
   "id": "incoming-average",
   "metadata": {},
   "source": [
    "### Vectorization"
   ]
  },
  {
   "cell_type": "markdown",
   "id": "partial-bankruptcy",
   "metadata": {},
   "source": [
    "* Adjust the max and min parameters"
   ]
  },
  {
   "cell_type": "code",
   "execution_count": null,
   "id": "vocal-multimedia",
   "metadata": {},
   "outputs": [],
   "source": [
    "def explore_df_range(dataset, maxdfr, mindfr):\n",
    "    max_dfs = np.linspace(maxdfr[0], maxdfr[1], maxdfr[2], dtype=np.float32)\n",
    "    min_dfs = np.linspace(mindfr[0], mindfr[1], mindfr[2], dtype=np.float32)\n",
    "    vocab_sizes = np.empty((len(max_dfs),len(min_dfs)))\n",
    "    for max_idx, max_df in enumerate(max_dfs):\n",
    "        for min_idx, min_df in enumerate(min_dfs):\n",
    "            vectorizer = TfidfVectorizer( \n",
    "                lowercase=True,\n",
    "                stop_words=stop_words,\n",
    "                ngram_range=(1,1),\n",
    "                max_df=max_df,\n",
    "                min_df=min_df,\n",
    "                max_features=None,\n",
    "                binary=False,\n",
    "                use_idf=False, # seems to use 1 + log(N/dft) smooth_idf=False,\n",
    "                sublinear_tf=False,\n",
    "                norm=None, # could use 'l2' \n",
    "            )\n",
    "            vecs = vectorizer.fit_transform(dataset['Description'])\n",
    "            vocab_sizes[max_idx,min_idx] = vecs.shape[1]\n",
    "            print(f'max_df {max_df :4.3f}, min_df {min_df:8.6f} gives vocab size {vecs.shape[1]:6d}')\n",
    "            # visualize\n",
    "    for max_idx in range(vocab_sizes.shape[0]):\n",
    "        plt.plot(min_dfs*dataset.shape[0],vocab_sizes[max_idx], label='max_df ='+str(max_dfs[max_idx]))\n",
    "    plt.xlabel('min_number of documents')\n",
    "    plt.ylabel('vocabulary size')\n",
    "    plt.title('vocabulary for different max_df, min_df')\n",
    "    plt.grid()\n",
    "    plt.legend();\n"
   ]
  },
  {
   "cell_type": "code",
   "execution_count": 55,
   "id": "iraqi-croatia",
   "metadata": {},
   "outputs": [
    {
     "name": "stdout",
     "output_type": "stream",
     "text": [
      "max_df 0.500, min_df 0.000000 gives vocab size  73089\n",
      "max_df 0.500, min_df 0.000091 gives vocab size  18709\n",
      "max_df 0.500, min_df 0.000182 gives vocab size  13606\n",
      "max_df 0.500, min_df 0.000273 gives vocab size  11146\n",
      "max_df 0.500, min_df 0.000364 gives vocab size   9626\n",
      "max_df 0.500, min_df 0.000455 gives vocab size   8620\n",
      "max_df 0.500, min_df 0.000545 gives vocab size   7803\n",
      "max_df 0.500, min_df 0.000636 gives vocab size   7118\n",
      "max_df 0.500, min_df 0.000727 gives vocab size   6585\n",
      "max_df 0.500, min_df 0.000818 gives vocab size   6175\n",
      "max_df 0.500, min_df 0.000909 gives vocab size   5829\n",
      "max_df 0.500, min_df 0.001000 gives vocab size   5493\n",
      "max_df 0.255, min_df 0.000000 gives vocab size  73067\n",
      "max_df 0.255, min_df 0.000091 gives vocab size  18687\n",
      "max_df 0.255, min_df 0.000182 gives vocab size  13584\n",
      "max_df 0.255, min_df 0.000273 gives vocab size  11124\n",
      "max_df 0.255, min_df 0.000364 gives vocab size   9604\n",
      "max_df 0.255, min_df 0.000455 gives vocab size   8598\n",
      "max_df 0.255, min_df 0.000545 gives vocab size   7781\n",
      "max_df 0.255, min_df 0.000636 gives vocab size   7096\n",
      "max_df 0.255, min_df 0.000727 gives vocab size   6563\n",
      "max_df 0.255, min_df 0.000818 gives vocab size   6153\n",
      "max_df 0.255, min_df 0.000909 gives vocab size   5807\n",
      "max_df 0.255, min_df 0.001000 gives vocab size   5471\n",
      "max_df 0.010, min_df 0.000000 gives vocab size  71818\n",
      "max_df 0.010, min_df 0.000091 gives vocab size  17438\n",
      "max_df 0.010, min_df 0.000182 gives vocab size  12335\n",
      "max_df 0.010, min_df 0.000273 gives vocab size   9875\n",
      "max_df 0.010, min_df 0.000364 gives vocab size   8355\n",
      "max_df 0.010, min_df 0.000455 gives vocab size   7349\n",
      "max_df 0.010, min_df 0.000545 gives vocab size   6532\n",
      "max_df 0.010, min_df 0.000636 gives vocab size   5847\n",
      "max_df 0.010, min_df 0.000727 gives vocab size   5314\n",
      "max_df 0.010, min_df 0.000818 gives vocab size   4904\n",
      "max_df 0.010, min_df 0.000909 gives vocab size   4558\n",
      "max_df 0.010, min_df 0.001000 gives vocab size   4222\n"
     ]
    },
    {
     "data": {
      "image/png": "[encoded data removed]",
      "text/plain": [
       "<Figure size 432x288 with 1 Axes>"
      ]
     },
     "metadata": {
      "needs_background": "light"
     },
     "output_type": "display_data"
    }
   ],
   "source": [
    "explore_df_range(data, (0.5,0.01,3), (0.0, 0.001,12))"
   ]
  },
  {
   "cell_type": "code",
   "execution_count": 56,
   "id": "distributed-merchandise",
   "metadata": {},
   "outputs": [
    {
     "name": "stdout",
     "output_type": "stream",
     "text": [
      "max_df 0.900, min_df 0.000000 gives vocab size   8287\n",
      "max_df 0.900, min_df 0.004286 gives vocab size   2307\n",
      "max_df 0.900, min_df 0.008571 gives vocab size   1320\n",
      "max_df 0.900, min_df 0.012857 gives vocab size   1017\n",
      "max_df 0.900, min_df 0.017143 gives vocab size    770\n",
      "max_df 0.900, min_df 0.021429 gives vocab size    614\n",
      "max_df 0.900, min_df 0.025714 gives vocab size    533\n",
      "max_df 0.900, min_df 0.030000 gives vocab size    447\n",
      "max_df 0.050, min_df 0.000000 gives vocab size   8038\n",
      "max_df 0.050, min_df 0.004286 gives vocab size   2058\n",
      "max_df 0.050, min_df 0.008571 gives vocab size   1071\n",
      "max_df 0.050, min_df 0.012857 gives vocab size    768\n",
      "max_df 0.050, min_df 0.017143 gives vocab size    521\n",
      "max_df 0.050, min_df 0.021429 gives vocab size    365\n",
      "max_df 0.050, min_df 0.025714 gives vocab size    284\n",
      "max_df 0.050, min_df 0.030000 gives vocab size    198\n"
     ]
    },
    {
     "data": {
      "image/png": "[encoded data removed]",
      "text/plain": [
       "<Figure size 432x288 with 1 Axes>"
      ]
     },
     "metadata": {
      "needs_background": "light"
     },
     "output_type": "display_data"
    }
   ],
   "source": [
    "explore_df_range(data2, (0.9,0.05,2), (0.0, 0.03,8))"
   ]
  },
  {
   "cell_type": "markdown",
   "id": "individual-criticism",
   "metadata": {},
   "source": [
    "* TF"
   ]
  },
  {
   "cell_type": "code",
   "execution_count": 59,
   "id": "christian-ottawa",
   "metadata": {},
   "outputs": [],
   "source": [
    "vectorizer = TfidfVectorizer( \n",
    "    lowercase=True,\n",
    "    stop_words='english',\n",
    "    ngram_range=(1,1),\n",
    "    max_df=.95,\n",
    "    min_df=2,\n",
    "    max_features=None,\n",
    "    binary=False,\n",
    "    use_idf=False, # seems to use 1 + log(N/dft) smooth_idf=False,\n",
    "    sublinear_tf=False,\n",
    "    norm=None, # could use 'l2' \n",
    ")\n",
    "vecs = vectorizer.fit_transform(data['Description']).toarray()"
   ]
  },
  {
   "cell_type": "code",
   "execution_count": 60,
   "id": "understood-facing",
   "metadata": {},
   "outputs": [],
   "source": [
    "vectorizer2 = TfidfVectorizer( \n",
    "    lowercase=True,\n",
    "    stop_words='english',\n",
    "    ngram_range=(1,1),\n",
    "    max_df=.95,\n",
    "    min_df=2,\n",
    "    max_features=None,\n",
    "    binary=False,\n",
    "    use_idf=False, # seems to use 1 + log(N/dft) smooth_idf=False,\n",
    "    sublinear_tf=False,\n",
    "    norm=None, # could use 'l2' \n",
    ")\n",
    "vecs2 = vectorizer2.fit_transform(data2['Description']).toarray()\n"
   ]
  },
  {
   "cell_type": "markdown",
   "id": "going-polls",
   "metadata": {},
   "source": [
    "* Using TF-IDF with forum data"
   ]
  },
  {
   "cell_type": "code",
   "execution_count": 61,
   "id": "approved-stocks",
   "metadata": {},
   "outputs": [],
   "source": [
    "vectorizer = TfidfVectorizer( \n",
    "    lowercase=True,\n",
    "    stop_words='english',\n",
    "    ngram_range=(1,1),\n",
    "    max_df=.95,\n",
    "    min_df=2,\n",
    "    max_features=None,\n",
    "    binary=False,\n",
    "    use_idf=True, # seems to use 1 + log(N/dft) smooth_idf=False,\n",
    "    sublinear_tf=False,\n",
    "    norm=None, # could use 'l2' \n",
    ")\n",
    "vecs_tfidf = vectorizer.fit_transform(data['Description']).toarray()"
   ]
  },
  {
   "cell_type": "markdown",
   "id": "individual-writing",
   "metadata": {},
   "source": [
    "• Using TF-IDF with raditt data"
   ]
  },
  {
   "cell_type": "code",
   "execution_count": 77,
   "id": "technological-baghdad",
   "metadata": {},
   "outputs": [],
   "source": [
    "vectorizer = TfidfVectorizer( \n",
    "    lowercase=True,\n",
    "    stop_words='english',\n",
    "    ngram_range=(1,1),\n",
    "    max_df=.95,\n",
    "    min_df=2,\n",
    "    max_features=None,\n",
    "    binary=False,\n",
    "    use_idf=True, # seems to use 1 + log(N/dft) smooth_idf=False,\n",
    "    sublinear_tf=False,\n",
    "    norm=None, # could use 'l2' \n",
    ")\n",
    "vecs_tfidf_raditt = vectorizer.fit_transform(data2['Description']).toarray()"
   ]
  },
  {
   "cell_type": "code",
   "execution_count": 62,
   "id": "middle-classification",
   "metadata": {},
   "outputs": [],
   "source": [
    "vocab = vectorizer.get_feature_names()\n",
    "#vocab2 = vectorizer2.get_feature_names()"
   ]
  },
  {
   "cell_type": "code",
   "execution_count": 63,
   "id": "promotional-major",
   "metadata": {},
   "outputs": [],
   "source": [
    "#vocab2[:100]"
   ]
  },
  {
   "cell_type": "code",
   "execution_count": 64,
   "id": "unlikely-parallel",
   "metadata": {},
   "outputs": [
    {
     "data": {
      "text/plain": [
       "((55236, 36242), (840, 4032))"
      ]
     },
     "execution_count": 64,
     "metadata": {},
     "output_type": "execute_result"
    }
   ],
   "source": [
    "vecs.shape, vecs2.shape"
   ]
  },
  {
   "cell_type": "code",
   "execution_count": 79,
   "id": "strange-numbers",
   "metadata": {},
   "outputs": [
    {
     "data": {
      "text/plain": [
       "((55236, 36242), (840, 4032))"
      ]
     },
     "execution_count": 79,
     "metadata": {},
     "output_type": "execute_result"
    }
   ],
   "source": [
    "vecs_tfidf.shape, vecs_tfidf_raditt.shape"
   ]
  },
  {
   "cell_type": "markdown",
   "id": "corporate-departure",
   "metadata": {},
   "source": [
    "* TF with 4-grams in forum data"
   ]
  },
  {
   "cell_type": "code",
   "execution_count": 66,
   "id": "selective-filling",
   "metadata": {},
   "outputs": [],
   "source": [
    "vectorizer = TfidfVectorizer( \n",
    "    lowercase=True,\n",
    "    stop_words='english',\n",
    "    ngram_range=(4,4),\n",
    "    max_df=.95,\n",
    "    min_df=2,\n",
    "    max_features=None,\n",
    "    binary=False,\n",
    "    use_idf=False, # seems to use 1 + log(N/dft) smooth_idf=False,\n",
    "    sublinear_tf=False,\n",
    "    norm=None, # could use 'l2' \n",
    ")\n",
    "vecs_n = vectorizer.fit_transform(data['Description']).toarray()\n"
   ]
  },
  {
   "cell_type": "code",
   "execution_count": null,
   "id": "burning-money",
   "metadata": {},
   "outputs": [],
   "source": [
    "vectorizer = TfidfVectorizer( \n",
    "    lowercase=True,\n",
    "    stop_words='english',\n",
    "    ngram_range=(4,4),\n",
    "    max_df=.95,\n",
    "    min_df=2,\n",
    "    max_features=None,\n",
    "    binary=False,\n",
    "    use_idf=False, # seems to use 1 + log(N/dft) smooth_idf=False,\n",
    "    sublinear_tf=False,\n",
    "    norm=None, # could use 'l2' \n",
    ")\n",
    "vecs_n_raditt = vectorizer.fit_transform(data2['Description']).toarray()"
   ]
  },
  {
   "cell_type": "code",
   "execution_count": 67,
   "id": "fifth-directory",
   "metadata": {},
   "outputs": [
    {
     "data": {
      "text/plain": [
       "(55236, 82376)"
      ]
     },
     "execution_count": 67,
     "metadata": {},
     "output_type": "execute_result"
    }
   ],
   "source": [
    "vecs_n.shape"
   ]
  },
  {
   "cell_type": "code",
   "execution_count": null,
   "id": "impressed-combine",
   "metadata": {},
   "outputs": [],
   "source": [
    "vecs_n_raditt.shape"
   ]
  },
  {
   "cell_type": "code",
   "execution_count": null,
   "id": "resident-victoria",
   "metadata": {},
   "outputs": [],
   "source": [
    "gensim.__version__"
   ]
  },
  {
   "cell_type": "code",
   "execution_count": null,
   "id": "treated-pound",
   "metadata": {},
   "outputs": [],
   "source": [
    "/nfshome/store02/users/c.c1909412/EDA/glove.twitter.27B.25d.txt"
   ]
  },
  {
   "cell_type": "code",
   "execution_count": 105,
   "id": "fixed-grant",
   "metadata": {},
   "outputs": [
    {
     "name": "stdout",
     "output_type": "stream",
     "text": [
      "1193514 /nfshome/store02/users/c.c1909412/EDA/glove.twitter.27B.25d.txt\n"
     ]
    }
   ],
   "source": [
    "!wc -l /nfshome/store02/users/c.c1909412/EDA/glove.twitter.27B.25d.txt"
   ]
  },
  {
   "cell_type": "code",
   "execution_count": 107,
   "id": "essential-maker",
   "metadata": {},
   "outputs": [
    {
     "name": "stdout",
     "output_type": "stream",
     "text": [
      "24631 2206142\n"
     ]
    }
   ],
   "source": [
    "!sum /nfshome/store02/users/c.c1909412/EDA/wiki-news-300d-1M.vec"
   ]
  },
  {
   "cell_type": "code",
   "execution_count": null,
   "id": "mounted-senegal",
   "metadata": {},
   "outputs": [],
   "source": [
    "!sum /nfshome/store02/users/c.c1909412/EDA/glove.twitter.27B.200d.txt"
   ]
  },
  {
   "cell_type": "code",
   "execution_count": 68,
   "id": "acknowledged-pledge",
   "metadata": {},
   "outputs": [],
   "source": [
    "# loading glove embeddings - only run this cell if you need these embeddings; it consumes memory and takes time!\n",
    "\n",
    "from gensim.test.utils import datapath, get_tmpfile\n",
    "from gensim.models import KeyedVectors\n",
    "from gensim.scripts.glove2word2vec import glove2word2vec\n",
    "\n",
    "\n",
    "# here I load the 300-dimension vectors; loading longer embeddings would require longer time and more RAM\n",
    "path_of_downloaded_files = \"/nfshome/store02/users/c.c1909412/EDA/glove.twitter.27B.200d.txt\"\n",
    "\n",
    "glove_file = datapath(path_of_downloaded_files)\n",
    "word2vec_glove_file = get_tmpfile(\"glove.twitter.27B.25d.txt\")\n",
    "glove2word2vec(glove_file, word2vec_glove_file)\n",
    "glove_word_vectors = KeyedVectors.load_word2vec_format(word2vec_glove_file)\n"
   ]
  },
  {
   "cell_type": "code",
   "execution_count": null,
   "id": "imported-default",
   "metadata": {},
   "outputs": [],
   "source": [
    "glove_word_vectors .get('you').shape"
   ]
  },
  {
   "cell_type": "code",
   "execution_count": 69,
   "id": "patent-interstate",
   "metadata": {},
   "outputs": [],
   "source": [
    "\n",
    "def embed_word(word,vectors):\n",
    "    '''\n",
    "    yield an embedding dense vector corresponding to a word, using the embedding provided\n",
    "    '''\n",
    "    result = vectors['the']\n",
    "    if (word in vectors.vocab):\n",
    "        result=vectors[word]\n",
    "    return result\n",
    "\n",
    "# to use\n",
    "myword = \"hello\"\n",
    "embed_word(myword, glove_word_vectors)\n",
    "\n",
    "def different_embed_word(word):\n",
    "    results = np.empty((5,200), dtype=float)\n",
    "    for i, vectors in enumerate([glove_word_vectors,glove_word_vector]):\n",
    "        results[i] = vectors['the']\n",
    "    return result\n",
    "        "
   ]
  },
  {
   "cell_type": "code",
   "execution_count": 70,
   "id": "tamil-sixth",
   "metadata": {},
   "outputs": [],
   "source": [
    "embeddings_size = 200"
   ]
  },
  {
   "cell_type": "code",
   "execution_count": 71,
   "id": "studied-carbon",
   "metadata": {},
   "outputs": [],
   "source": [
    "embeddings_average = []\n",
    "for sentence in words_doc:\n",
    "    sentence_embeddings = []\n",
    "    if len(sentence) == 0:\n",
    "        sentence_embeddings = np.zeros(embeddings_size)\n",
    "    else:\n",
    "        for word in sentence:\n",
    "            word_embedding = embed_word(word, glove_word_vectors)\n",
    "            sentence_embeddings.append(word_embedding)\n",
    "    \n",
    "        sentence_embeddings = np.array(sentence_embeddings).mean(axis=0)\n",
    "    embeddings_average.append(sentence_embeddings)\n",
    "embeddings_average = np.array(embeddings_average)"
   ]
  },
  {
   "cell_type": "code",
   "execution_count": 72,
   "id": "considered-western",
   "metadata": {},
   "outputs": [],
   "source": [
    "embeddings_average_raddit = []\n",
    "for sentence in words_doc2:\n",
    "    sentence_embeddings = []\n",
    "    if len(sentence) == 0:\n",
    "        sentence_embeddings = np.zeros(embeddings_size)\n",
    "    else:\n",
    "        for word in sentence:\n",
    "            word_embedding = embed_word(word, glove_word_vectors)\n",
    "            sentence_embeddings.append(word_embedding)\n",
    "    \n",
    "        sentence_embeddings = np.array(sentence_embeddings).mean(axis=0)\n",
    "    embeddings_average_raddit.append(sentence_embeddings)\n",
    "embeddings_average_raddit = np.array(embeddings_average_raddit)"
   ]
  },
  {
   "cell_type": "code",
   "execution_count": 73,
   "id": "present-latter",
   "metadata": {},
   "outputs": [
    {
     "data": {
      "text/plain": [
       "(56838, 200)"
      ]
     },
     "execution_count": 73,
     "metadata": {},
     "output_type": "execute_result"
    }
   ],
   "source": [
    "embeddings_average.shape"
   ]
  },
  {
   "cell_type": "code",
   "execution_count": 74,
   "id": "enhanced-river",
   "metadata": {},
   "outputs": [
    {
     "data": {
      "text/plain": [
       "(889, 200)"
      ]
     },
     "execution_count": 74,
     "metadata": {},
     "output_type": "execute_result"
    }
   ],
   "source": [
    "embeddings_average_raddit.shape"
   ]
  },
  {
   "cell_type": "markdown",
   "id": "geological-quest",
   "metadata": {},
   "source": [
    "embeddings = []\n",
    "for sentence in words_doc:\n",
    "    sentence_embeddings= []\n",
    "    for word in sentence:\n",
    "        word_embedding = embed_word(word, glove_vectors)\n",
    "        sentence_embeddings.append(word_embedding)\n",
    "    sentence_embeddings = np.array(sentence_embeddings).mean(axis=0)\n",
    "    embeddings.append(sentence_embeddings)\n",
    "embeddings = np.array(embeddings)"
   ]
  },
  {
   "cell_type": "code",
   "execution_count": 75,
   "id": "chemical-mississippi",
   "metadata": {},
   "outputs": [
    {
     "data": {
      "text/plain": [
       "2840"
      ]
     },
     "execution_count": 75,
     "metadata": {},
     "output_type": "execute_result"
    }
   ],
   "source": [
    "longest_sentence_length = 0\n",
    "for sentence in words_doc:\n",
    "    if len(sentence) > longest_sentence_length:\n",
    "        longest_sentence_length = len(sentence)\n",
    "longest_sentence_length"
   ]
  },
  {
   "cell_type": "code",
   "execution_count": 76,
   "id": "australian-metadata",
   "metadata": {},
   "outputs": [
    {
     "data": {
      "text/plain": [
       "4"
      ]
     },
     "execution_count": 76,
     "metadata": {},
     "output_type": "execute_result"
    }
   ],
   "source": [
    "len(str(longest_sentence_length))"
   ]
  },
  {
   "cell_type": "code",
   "execution_count": 66,
   "id": "behind-brush",
   "metadata": {},
   "outputs": [
    {
     "ename": "MemoryError",
     "evalue": "Unable to allocate 241. GiB for an array with shape (56838, 2840, 200) and data type float64",
     "output_type": "error",
     "traceback": [
      "\u001b[0;31m---------------------------------------------------------------------------\u001b[0m",
      "\u001b[0;31mMemoryError\u001b[0m                               Traceback (most recent call last)",
      "\u001b[0;32m<ipython-input-66-3bab47247f28>\u001b[0m in \u001b[0;36m<module>\u001b[0;34m\u001b[0m\n\u001b[1;32m      8\u001b[0m         \u001b[0msentence_embeddings\u001b[0m\u001b[0;34m.\u001b[0m\u001b[0mappend\u001b[0m\u001b[0;34m(\u001b[0m\u001b[0mnp\u001b[0m\u001b[0;34m.\u001b[0m\u001b[0mzeros\u001b[0m\u001b[0;34m(\u001b[0m\u001b[0membeddings_size\u001b[0m\u001b[0;34m)\u001b[0m\u001b[0;34m)\u001b[0m\u001b[0;34m\u001b[0m\u001b[0;34m\u001b[0m\u001b[0m\n\u001b[1;32m      9\u001b[0m     \u001b[0membeddings\u001b[0m\u001b[0;34m.\u001b[0m\u001b[0mappend\u001b[0m\u001b[0;34m(\u001b[0m\u001b[0msentence_embeddings\u001b[0m\u001b[0;34m)\u001b[0m\u001b[0;34m\u001b[0m\u001b[0;34m\u001b[0m\u001b[0m\n\u001b[0;32m---> 10\u001b[0;31m \u001b[0membeddings\u001b[0m \u001b[0;34m=\u001b[0m \u001b[0mnp\u001b[0m\u001b[0;34m.\u001b[0m\u001b[0marray\u001b[0m\u001b[0;34m(\u001b[0m\u001b[0membeddings\u001b[0m\u001b[0;34m)\u001b[0m\u001b[0;34m\u001b[0m\u001b[0;34m\u001b[0m\u001b[0m\n\u001b[0m",
      "\u001b[0;31mMemoryError\u001b[0m: Unable to allocate 241. GiB for an array with shape (56838, 2840, 200) and data type float64"
     ]
    }
   ],
   "source": [
    "embeddings = []\n",
    "for sentence in words_doc:\n",
    "    sentence_embeddings = []\n",
    "    for word in sentence:\n",
    "        word_embedding = embed_word(word, glove_word_vectors)\n",
    "        sentence_embeddings.append(word_embedding)\n",
    "    for i in range(longest_sentence_length - len(sentence)):\n",
    "        sentence_embeddings.append(np.zeros(embeddings_size))\n",
    "    embeddings.append(sentence_embeddings)\n",
    "embeddings = np.array(embeddings)\n"
   ]
  },
  {
   "cell_type": "code",
   "execution_count": null,
   "id": "amber-sacramento",
   "metadata": {},
   "outputs": [],
   "source": [
    "embeddings = embeddings.reshape((-1, longest_sentence_length * embeddings_size))"
   ]
  },
  {
   "cell_type": "code",
   "execution_count": null,
   "id": "revised-saint",
   "metadata": {},
   "outputs": [],
   "source": [
    "embeddings.shape"
   ]
  },
  {
   "cell_type": "code",
   "execution_count": 53,
   "id": "ready-proposition",
   "metadata": {},
   "outputs": [],
   "source": [
    "out_of_vocab = []\n",
    "for sentence in words_doc:\n",
    "    for word in sentence:         \n",
    "        if word not in glove_word_vectors.vocab:\n",
    "            out_of_vocab.append(word)\n",
    "        "
   ]
  },
  {
   "cell_type": "code",
   "execution_count": 54,
   "id": "floral-picking",
   "metadata": {},
   "outputs": [
    {
     "data": {
      "text/plain": [
       "5517256"
      ]
     },
     "execution_count": 54,
     "metadata": {},
     "output_type": "execute_result"
    }
   ],
   "source": [
    "len(out_of_vocab)"
   ]
  },
  {
   "cell_type": "markdown",
   "id": "tribal-church",
   "metadata": {},
   "source": [
    "## Embedding using fasttext(facebook)"
   ]
  },
  {
   "cell_type": "code",
   "execution_count": 113,
   "id": "sharing-lingerie",
   "metadata": {},
   "outputs": [],
   "source": [
    "# loading glove embeddings - only run this cell if you need these embeddings; it consumes memory and takes time!\n",
    "\n",
    "from gensim.test.utils import datapath, get_tmpfile\n",
    "from gensim.models import KeyedVectors\n",
    "\n",
    "\n",
    "\n",
    "# here I load the 300-dimension vectors; loading longer embeddings would require longer time and more RAM\n",
    "path_of_downloaded_files = \"/nfshome/store02/users/c.c1909412/EDA/wiki-news-300d-1M.vec\" \n",
    "\n",
    "fasttext_file = datapath(path_of_downloaded_files)\n",
    "#word2vec_fasttext_file = get_tmpfile(\"wiki-news-300d-1M.vec\")\n",
    "#glove2word2vec(fasttext_file, word2vec_fasttext_file)\n",
    "fasttext_word_vectors = KeyedVectors.load_word2vec_format(fasttext_file)"
   ]
  },
  {
   "cell_type": "code",
   "execution_count": 114,
   "id": "toxic-tension",
   "metadata": {},
   "outputs": [],
   "source": [
    "def embed_word_fasttext(word,vectors):\n",
    "    '''\n",
    "    yield an embedding dense vector corresponding to a word, using the embedding provided\n",
    "    '''\n",
    "    result = vectors['the']\n",
    "    if (word in vectors.vocab):\n",
    "        result=vectors[word]\n",
    "    return result\n",
    "\n",
    "# to use\n",
    "myword = \"hello\"\n",
    "embed_word(myword, fasttext_word_vectors)\n",
    "\n",
    "def different_embed_word(word):\n",
    "    results = np.empty((5,200), dtype=float)\n",
    "    for i, vectors in enumerate([fasttext_word_vectors,fasttext_word_vectors]):\n",
    "        results[i] = vectors['the']\n",
    "    return result\n",
    "        "
   ]
  },
  {
   "cell_type": "code",
   "execution_count": 121,
   "id": "democratic-professional",
   "metadata": {},
   "outputs": [],
   "source": [
    "embedding_size_fasttext = 300\n",
    "embeddings_average_fasttext = []\n",
    "for sentence in words_doc:\n",
    "    sentence_embeddings = []\n",
    "    if len(sentence) == 0:\n",
    "        sentence_embeddings = np.zeros(embedding_size_fasttext)\n",
    "    else:\n",
    "        for word in sentence:\n",
    "            word_embedding = embed_word(word,fasttext_word_vectors)\n",
    "            sentence_embeddings.append(word_embedding)\n",
    "    \n",
    "        sentence_embeddings = np.array(sentence_embeddings).mean(axis=0)\n",
    "    embeddings_average_fasttext.append(sentence_embeddings)\n",
    "embeddings_average_fasttext = np.array(embeddings_average_fasttext)"
   ]
  },
  {
   "cell_type": "code",
   "execution_count": 123,
   "id": "funded-thousand",
   "metadata": {},
   "outputs": [
    {
     "data": {
      "text/plain": [
       "(56838, 300)"
      ]
     },
     "execution_count": 123,
     "metadata": {},
     "output_type": "execute_result"
    }
   ],
   "source": [
    "embeddings_average_fasttext.shape"
   ]
  },
  {
   "cell_type": "markdown",
   "id": "loving-houston",
   "metadata": {},
   "source": [
    "## K-means (using tf)\n",
    "* Forum data"
   ]
  },
  {
   "cell_type": "code",
   "execution_count": 53,
   "id": "extra-spank",
   "metadata": {},
   "outputs": [],
   "source": [
    "from gensim.models import Word2Vec\n",
    "\n",
    "word2vec2 = Word2Vec(words_doc, min_count=2)\n"
   ]
  },
  {
   "cell_type": "code",
   "execution_count": null,
   "id": "excellent-packing",
   "metadata": {},
   "outputs": [],
   "source": [
    "from sklearn.cluster import KMeans\n",
    "ks = np.arange(2,12)\n",
    "scores=np.zeros_like(ks)\n",
    "for i,k in enumerate(ks):\n",
    "    kmeans = KMeans(n_clusters=k, random_state=42)\n",
    "    kmeans.fit_transform(vecs)\n",
    "    scores[i]=kmeans.score(vecs)\n",
    "    print(f'tried {k} clusters...')\n"
   ]
  },
  {
   "cell_type": "code",
   "execution_count": 55,
   "id": "matched-dividend",
   "metadata": {},
   "outputs": [
    {
     "data": {
      "image/png": "[encoded data removed]",
      "text/plain": [
       "<Figure size 432x288 with 1 Axes>"
      ]
     },
     "metadata": {
      "needs_background": "light"
     },
     "output_type": "display_data"
    }
   ],
   "source": [
    "plt.scatter(ks,-scores,s=200)\n",
    "plt.title('Elbow Chart for OCD Data')\n",
    "plt.xlabel('k (number of clusters)')\n",
    "plt.ylabel('Within cluster sum of squares')\n",
    "plt.grid();"
   ]
  },
  {
   "cell_type": "code",
   "execution_count": 56,
   "id": "hydraulic-cattle",
   "metadata": {},
   "outputs": [
    {
     "data": {
      "text/plain": [
       "(array([5, 6, 5, ..., 5, 6, 6], dtype=int32), (56838,))"
      ]
     },
     "execution_count": 56,
     "metadata": {},
     "output_type": "execute_result"
    }
   ],
   "source": [
    "# recluster using best k\n",
    "seed = 501\n",
    "cls = KMeans(n_clusters=8, random_state=seed)\n",
    "cls.fit_predict(vecs)\n",
    "# to get cluster labels for the dataset used while # training the model (used for models that do not # support prediction on new dataset).\n",
    "cls.labels_, cls.labels_.shape"
   ]
  },
  {
   "cell_type": "code",
   "execution_count": 57,
   "id": "hundred-indian",
   "metadata": {},
   "outputs": [
    {
     "data": {
      "image/png": "[encoded data removed]",
      "text/plain": [
       "<Figure size 1080x288 with 1 Axes>"
      ]
     },
     "metadata": {
      "needs_background": "light"
     },
     "output_type": "display_data"
    }
   ],
   "source": [
    "# reduce the features to 2D\n",
    "from sklearn.decomposition import PCA\n",
    "pca = PCA(n_components=2, random_state=seed)\n",
    "reduced_features = pca.fit_transform(vecs)\n",
    "# reduce the cluster centers to 2D\n",
    "reduced_cluster_centers = pca.transform(cls.cluster_centers_)\n",
    "plt.figure(figsize=(15,4))\n",
    "plt.scatter(reduced_features[:,0], reduced_features[:,1], c=cls.predict(vecs), alpha=0.2)\n",
    "plt.scatter(reduced_cluster_centers[:, 0], reduced_cluster_centers[:,1],marker='x', s=150, c='b')\n",
    "plt.grid();"
   ]
  },
  {
   "cell_type": "code",
   "execution_count": null,
   "id": "sought-treat",
   "metadata": {},
   "outputs": [
    {
     "name": "stdout",
     "output_type": "stream",
     "text": [
      "tried 2 clusters...\n",
      "tried 3 clusters...\n",
      "tried 4 clusters...\n",
      "tried 5 clusters...\n",
      "tried 6 clusters...\n",
      "tried 7 clusters...\n"
     ]
    }
   ],
   "source": [
    "from sklearn.cluster import KMeans\n",
    "ks = np.arange(2,12)\n",
    "scores=np.zeros_like(ks)\n",
    "for i,k in enumerate(ks):\n",
    "    kmeans = KMeans(n_clusters=k, random_state=42)\n",
    "    kmeans.fit_transform(vecs_n)\n",
    "    scores[i]=kmeans.score(vecs_n)\n",
    "    print(f'tried {k} clusters...')"
   ]
  },
  {
   "cell_type": "code",
   "execution_count": null,
   "id": "isolated-electron",
   "metadata": {},
   "outputs": [],
   "source": [
    "plt.scatter(ks,-scores,s=200)\n",
    "plt.title('Elbow Chart for OCD Data')\n",
    "plt.xlabel('k (number of clusters)')\n",
    "plt.ylabel('Within cluster sum of squares')\n",
    "plt.grid();"
   ]
  },
  {
   "cell_type": "code",
   "execution_count": null,
   "id": "institutional-explanation",
   "metadata": {},
   "outputs": [],
   "source": [
    "# recluster using best k\n",
    "seed = 501\n",
    "cls = KMeans(n_clusters=8, random_state=seed)\n",
    "cls.fit_predict(vecs)\n",
    "# to get cluster labels for the dataset used while # training the model (used for models that do not # support prediction on new dataset).\n",
    "cls.labels_, cls.labels_.shape"
   ]
  },
  {
   "cell_type": "code",
   "execution_count": null,
   "id": "settled-finder",
   "metadata": {},
   "outputs": [],
   "source": [
    "# reduce the features to 2D\n",
    "from sklearn.decomposition import PCA\n",
    "pca = PCA(n_components=2, random_state=seed)\n",
    "reduced_features = pca.fit_transform(vecs)\n",
    "# reduce the cluster centers to 2D\n",
    "reduced_cluster_centers = pca.transform(cls.cluster_centers_)\n",
    "plt.figure(figsize=(15,4))\n",
    "plt.scatter(reduced_features[:,0], reduced_features[:,1], c=cls.predict(vecs), alpha=0.2)\n",
    "plt.scatter(reduced_cluster_centers[:, 0], reduced_cluster_centers[:,1],marker='x', s=150, c='b')\n",
    "plt.grid();"
   ]
  },
  {
   "cell_type": "code",
   "execution_count": null,
   "id": "social-marks",
   "metadata": {},
   "outputs": [],
   "source": []
  },
  {
   "cell_type": "code",
   "execution_count": null,
   "id": "worldwide-indianapolis",
   "metadata": {},
   "outputs": [],
   "source": []
  },
  {
   "cell_type": "code",
   "execution_count": null,
   "id": "sapphire-medicaid",
   "metadata": {},
   "outputs": [],
   "source": []
  },
  {
   "cell_type": "code",
   "execution_count": null,
   "id": "arabic-spell",
   "metadata": {},
   "outputs": [],
   "source": []
  },
  {
   "cell_type": "markdown",
   "id": "agreed-pennsylvania",
   "metadata": {},
   "source": [
    "## Word embidding using Glove. \n",
    "* KMeans clustering (using word-embedding(glove))"
   ]
  },
  {
   "cell_type": "code",
   "execution_count": null,
   "id": "blond-daisy",
   "metadata": {},
   "outputs": [],
   "source": [
    "from sklearn.cluster import KMeans\n",
    "ks = np.arange(2,12)\n",
    "scores=np.zeros_like(ks)\n",
    "for i,k in enumerate(ks):\n",
    "    kmeans = KMeans(n_clusters=k, random_state=42)\n",
    "    kmeans.fit_transform(embeddings_average)\n",
    "    scores[i]=kmeans.score(embeddings_average)\n",
    "    print(f'tried {k} clusters...')\n",
    "\n"
   ]
  },
  {
   "cell_type": "code",
   "execution_count": 54,
   "id": "subject-jimmy",
   "metadata": {},
   "outputs": [
    {
     "data": {
      "image/png": "[encoded data removed]",
      "text/plain": [
       "<Figure size 432x288 with 1 Axes>"
      ]
     },
     "metadata": {
      "needs_background": "light"
     },
     "output_type": "display_data"
    }
   ],
   "source": [
    "plt.scatter(ks,-scores,s=200)\n",
    "plt.title('Elbow Chart for OCD Data')\n",
    "plt.xlabel('k (number of clusters)')\n",
    "plt.ylabel('Within cluster sum of squares')\n",
    "plt.grid();"
   ]
  },
  {
   "cell_type": "code",
   "execution_count": 57,
   "id": "challenging-incentive",
   "metadata": {},
   "outputs": [
    {
     "data": {
      "text/plain": [
       "(array([6, 6, 1, ..., 0, 0, 1], dtype=int32), (56838,))"
      ]
     },
     "execution_count": 57,
     "metadata": {},
     "output_type": "execute_result"
    }
   ],
   "source": [
    "# recluster using best k\n",
    "seed = 501\n",
    "cls = KMeans(n_clusters=10, random_state=seed)\n",
    "cls.fit_predict(embeddings_average)\n",
    "# to get cluster labels for the dataset used while # training the model (used for models that do not # support prediction on new dataset).\n",
    "cls.labels_, cls.labels_.shape"
   ]
  },
  {
   "cell_type": "code",
   "execution_count": 58,
   "id": "hindu-sharing",
   "metadata": {},
   "outputs": [
    {
     "data": {
      "image/png": "[encoded data removed]",
      "text/plain": [
       "<Figure size 1080x288 with 1 Axes>"
      ]
     },
     "metadata": {
      "needs_background": "light"
     },
     "output_type": "display_data"
    }
   ],
   "source": [
    "# reduce the features to 2D\n",
    "from sklearn.decomposition import PCA\n",
    "pca = PCA(n_components=2, random_state=seed)\n",
    "reduced_features = pca.fit_transform(embeddings_average)\n",
    "# reduce the cluster centers to 2D\n",
    "reduced_cluster_centers = pca.transform(cls.cluster_centers_)\n",
    "plt.figure(figsize=(15,4))\n",
    "plt.scatter(reduced_features[:,0], reduced_features[:,1], c=cls.predict(embeddings_average), alpha=0.2)\n",
    "plt.scatter(reduced_cluster_centers[:, 0], reduced_cluster_centers[:,1],marker='x', s=150, c='b')\n",
    "plt.grid();"
   ]
  },
  {
   "cell_type": "markdown",
   "id": "vulnerable-armor",
   "metadata": {},
   "source": [
    "## word-embidding for raditt data using Glove \n",
    "* KMeans clustering "
   ]
  },
  {
   "cell_type": "code",
   "execution_count": 43,
   "id": "heavy-contact",
   "metadata": {},
   "outputs": [
    {
     "name": "stdout",
     "output_type": "stream",
     "text": [
      "tried 2 clusters...\n",
      "tried 3 clusters...\n",
      "tried 4 clusters...\n",
      "tried 5 clusters...\n",
      "tried 6 clusters...\n",
      "tried 7 clusters...\n",
      "tried 8 clusters...\n",
      "tried 9 clusters...\n",
      "tried 10 clusters...\n",
      "tried 11 clusters...\n"
     ]
    }
   ],
   "source": [
    "from sklearn.cluster import KMeans\n",
    "ks = np.arange(2,12)\n",
    "scores=np.zeros_like(ks)\n",
    "for i,k in enumerate(ks):\n",
    "    kmeans = KMeans(n_clusters=k, random_state=42)\n",
    "    kmeans.fit_transform(embeddings_average_raddit)\n",
    "    scores[i]=kmeans.score(embeddings_average_raddit)\n",
    "    print(f'tried {k} clusters...')\n",
    "\n"
   ]
  },
  {
   "cell_type": "code",
   "execution_count": 44,
   "id": "equivalent-terrace",
   "metadata": {},
   "outputs": [
    {
     "data": {
      "image/png": "[encoded data removed]",
      "text/plain": [
       "<Figure size 432x288 with 1 Axes>"
      ]
     },
     "metadata": {
      "needs_background": "light"
     },
     "output_type": "display_data"
    }
   ],
   "source": [
    "plt.scatter(ks,-scores,s=200)\n",
    "plt.title('Elbow Chart for OCD Data')\n",
    "plt.xlabel('k (number of clusters)')\n",
    "plt.ylabel('Within cluster sum of squares')\n",
    "plt.grid();"
   ]
  },
  {
   "cell_type": "code",
   "execution_count": 46,
   "id": "applicable-international",
   "metadata": {},
   "outputs": [
    {
     "data": {
      "text/plain": [
       "(array([7, 7, 3, 3, 7, 7, 4, 3, 5, 5, 5, 5, 7, 4, 9, 4, 4, 4, 1, 7, 7, 7,\n",
       "        7, 7, 3, 7, 3, 3, 5, 9, 5, 7, 9, 9, 7, 9, 1, 9, 7, 7, 1, 1, 7, 4,\n",
       "        5, 7, 9, 1, 7, 7, 4, 9, 9, 7, 9, 5, 7, 7, 9, 3, 4, 3, 9, 7, 5, 9,\n",
       "        4, 5, 7, 4, 1, 7, 9, 9, 7, 9, 1, 5, 1, 7, 7, 1, 5, 4, 3, 1, 7, 9,\n",
       "        9, 9, 9, 7, 9, 9, 9, 7, 3, 7, 7, 5, 9, 1, 4, 4, 7, 7, 1, 7, 9, 0,\n",
       "        5, 9, 4, 0, 7, 7, 7, 9, 4, 9, 7, 7, 3, 7, 7, 4, 9, 1, 7, 3, 4, 3,\n",
       "        3, 4, 7, 7, 9, 1, 1, 4, 3, 7, 7, 6, 3, 7, 4, 9, 7, 1, 7, 9, 9, 7,\n",
       "        7, 1, 1, 9, 4, 7, 1, 9, 4, 7, 5, 7, 4, 7, 1, 2, 9, 5, 3, 9, 1, 8,\n",
       "        7, 7, 7, 1, 5, 5, 7, 3, 3, 4, 7, 7, 7, 9, 1, 1, 7, 1, 9, 9, 7, 7,\n",
       "        4, 9, 5, 1, 1, 7, 9, 9, 9, 0, 7, 1, 9, 5, 7, 3, 3, 0, 3, 3, 4, 5,\n",
       "        7, 7, 9, 5, 9, 5, 4, 7, 3, 7, 7, 9, 5, 9, 7, 1, 7, 3, 7, 5, 7, 3,\n",
       "        9, 3, 7, 3, 1, 7, 9, 1, 9, 7, 9, 7, 7, 9, 9, 7, 7, 7, 9, 7, 9, 7,\n",
       "        9, 7, 9, 5, 7, 7, 7, 1, 9, 7, 7, 9, 7, 7, 9, 1, 7, 1, 7, 1, 4, 1,\n",
       "        4, 9, 3, 4, 7, 7, 9, 1, 9, 4, 7, 9, 7, 9, 1, 9, 9, 7, 1, 5, 9, 9,\n",
       "        1, 9, 3, 9, 3, 7, 9, 4, 7, 1, 9, 5, 9, 7, 1, 0, 7, 3, 1, 9, 9, 1,\n",
       "        1, 9, 7, 9, 3, 7, 4, 1, 4, 9, 9, 3, 3, 3, 9, 7, 5, 7, 3, 7, 7, 1,\n",
       "        7, 7, 9, 4, 3, 9, 7, 3, 7, 7, 9, 3, 3, 7, 4, 7, 3, 3, 7, 9, 9, 7,\n",
       "        3, 9, 7, 7, 3, 7, 7, 7, 9, 1, 1, 4, 7, 7, 7, 3, 7, 5, 5, 7, 9, 9,\n",
       "        4, 9, 7, 5, 4, 9, 3, 7, 4, 5, 9, 7, 3, 5, 9, 5, 4, 7, 4, 4, 4, 3,\n",
       "        9, 7, 7, 3, 9, 5, 3, 9, 9, 7, 4, 9, 1, 4, 3, 4, 9, 7, 7, 1, 9, 4,\n",
       "        9, 3, 7, 7, 4, 9, 3, 3, 7, 1, 4, 4, 1, 9, 1, 1, 7, 9, 7, 9, 9, 9,\n",
       "        9, 7, 4, 0, 3, 9, 1, 7, 9, 9, 7, 4, 9, 9, 1, 9, 4, 1, 7, 5, 9, 4,\n",
       "        3, 9, 3, 1, 3, 5, 9, 3, 9, 7, 9, 9, 9, 1, 9, 9, 4, 5, 4, 3, 4, 7,\n",
       "        4, 3, 5, 1, 7, 1, 7, 5, 7, 9, 5, 4, 9, 5, 3, 7, 7, 7, 1, 7, 5, 3,\n",
       "        1, 9, 5, 9, 8, 9, 7, 7, 9, 7, 7, 9, 1, 0, 7, 3, 3, 3, 9, 9, 7, 9,\n",
       "        7, 7, 7, 7, 3, 3, 7, 1, 7, 1, 3, 1, 7, 0, 3, 7, 9, 7, 3, 2, 1, 7,\n",
       "        1, 5, 7, 9, 9, 1, 9, 7, 4, 9, 7, 7, 9, 3, 3, 5, 1, 7, 7, 3, 9, 7,\n",
       "        9, 7, 1, 9, 5, 7, 1, 1, 9, 4, 1, 7, 5, 7, 4, 1, 9, 7, 5, 9, 9, 3,\n",
       "        7, 7, 7, 3, 1, 5, 7, 4, 3, 7, 7, 9, 9, 7, 7, 9, 7, 7, 9, 9, 9, 7,\n",
       "        7, 1, 9, 9, 7, 7, 7, 9, 9, 3, 9, 9, 7, 9, 9, 9, 1, 7, 9, 3, 3, 7,\n",
       "        1, 9, 9, 3, 3, 7, 7, 0, 7, 7, 9, 7, 9, 7, 4, 7, 9, 5, 4, 5, 9, 4,\n",
       "        9, 3, 4, 9, 1, 3, 7, 7, 3, 7, 9, 7, 5, 9, 3, 7, 5, 9, 4, 9, 9, 4,\n",
       "        7, 7, 3, 9, 9, 1, 4, 7, 5, 7, 7, 7, 7, 7, 4, 5, 7, 3, 1, 4, 4, 8,\n",
       "        9, 9, 9, 7, 4, 3, 7, 4, 7, 7, 7, 9, 8, 4, 9, 1, 7, 7, 3, 7, 7, 9,\n",
       "        3, 7, 5, 5, 7, 1, 7, 1, 9, 7, 3, 7, 7, 3, 7, 3, 9, 7, 9, 9, 9, 7,\n",
       "        1, 9, 1, 7, 1, 9, 1, 9, 9, 9, 7, 3, 9, 1, 9, 5, 9, 7, 1, 1, 4, 7,\n",
       "        7, 9, 9, 7, 9, 7, 4, 1, 7, 7, 9, 5, 1, 7, 4, 7, 9, 5, 0, 1, 1, 7,\n",
       "        4, 5, 4, 3, 7, 9, 4, 7, 9, 9, 1, 5, 7, 9, 1, 5, 9, 9, 9, 3, 4, 7,\n",
       "        1, 1, 7, 9, 7, 7, 5, 3, 1, 9, 3, 3, 7, 9, 8, 9, 5, 3, 7, 9, 9, 9,\n",
       "        7, 7, 1, 4, 7, 5, 7, 7, 9, 9, 1, 1, 9, 7, 9, 5, 3, 9, 1, 4, 9, 7,\n",
       "        9, 7, 7, 5, 9, 4, 9, 7, 3], dtype=int32),\n",
       " (889,))"
      ]
     },
     "execution_count": 46,
     "metadata": {},
     "output_type": "execute_result"
    }
   ],
   "source": [
    "# recluster using best k\n",
    "seed = 501\n",
    "cls = KMeans(n_clusters=10, random_state=seed)\n",
    "cls.fit_predict(embeddings_average_raddit)\n",
    "# to get cluster labels for the dataset used while # training the model (used for models that do not # support prediction on new dataset).\n",
    "cls.labels_, cls.labels_.shape"
   ]
  },
  {
   "cell_type": "code",
   "execution_count": 47,
   "id": "dietary-concert",
   "metadata": {},
   "outputs": [
    {
     "data": {
      "image/png": "[encoded data removed]",
      "text/plain": [
       "<Figure size 1080x288 with 1 Axes>"
      ]
     },
     "metadata": {
      "needs_background": "light"
     },
     "output_type": "display_data"
    }
   ],
   "source": [
    "# reduce the features to 2D\n",
    "from sklearn.decomposition import PCA\n",
    "pca = PCA(n_components=2, random_state=seed)\n",
    "reduced_features = pca.fit_transform(embeddings_average_raddit)\n",
    "# reduce the cluster centers to 2D\n",
    "reduced_cluster_centers = pca.transform(cls.cluster_centers_)\n",
    "plt.figure(figsize=(15,4))\n",
    "plt.scatter(reduced_features[:,0], reduced_features[:,1], c=cls.predict(embeddings_average_raddit), alpha=0.2)\n",
    "plt.scatter(reduced_cluster_centers[:, 0], reduced_cluster_centers[:,1],marker='x', s=150, c='b')\n",
    "plt.grid();"
   ]
  },
  {
   "cell_type": "code",
   "execution_count": null,
   "id": "spiritual-religious",
   "metadata": {},
   "outputs": [],
   "source": []
  },
  {
   "cell_type": "code",
   "execution_count": 124,
   "id": "similar-robinson",
   "metadata": {},
   "outputs": [
    {
     "name": "stdout",
     "output_type": "stream",
     "text": [
      "tried 2 clusters...\n",
      "tried 3 clusters...\n",
      "tried 4 clusters...\n",
      "tried 5 clusters...\n",
      "tried 6 clusters...\n",
      "tried 7 clusters...\n",
      "tried 8 clusters...\n",
      "tried 9 clusters...\n",
      "tried 10 clusters...\n",
      "tried 11 clusters...\n"
     ]
    }
   ],
   "source": [
    "from sklearn.cluster import KMeans\n",
    "ks = np.arange(2,12)\n",
    "scores=np.zeros_like(ks)\n",
    "for i,k in enumerate(ks):\n",
    "    kmeans = KMeans(n_clusters=k, random_state=42)\n",
    "    kmeans.fit_transform(embeddings_average_fasttext)\n",
    "    scores[i]=kmeans.score(embeddings_average_fasttext)\n",
    "    print(f'tried {k} clusters...')"
   ]
  },
  {
   "cell_type": "code",
   "execution_count": 125,
   "id": "fallen-account",
   "metadata": {},
   "outputs": [
    {
     "data": {
      "image/png": "[encoded data removed]",
      "text/plain": [
       "<Figure size 432x288 with 1 Axes>"
      ]
     },
     "metadata": {
      "needs_background": "light"
     },
     "output_type": "display_data"
    }
   ],
   "source": [
    "plt.scatter(ks,-scores,s=200)\n",
    "plt.title('Elbow Chart for OCD Data')\n",
    "plt.xlabel('k (number of clusters)')\n",
    "plt.ylabel('Within cluster sum of squares')\n",
    "plt.grid();"
   ]
  },
  {
   "cell_type": "code",
   "execution_count": 126,
   "id": "impressed-academy",
   "metadata": {},
   "outputs": [
    {
     "data": {
      "text/plain": [
       "(array([2, 7, 2, ..., 9, 7, 2], dtype=int32), (56838,))"
      ]
     },
     "execution_count": 126,
     "metadata": {},
     "output_type": "execute_result"
    }
   ],
   "source": [
    "# recluster using best k\n",
    "seed = 501\n",
    "cls = KMeans(n_clusters=10, random_state=seed)\n",
    "cls.fit_predict(embeddings_average_fasttext)\n",
    "# to get cluster labels for the dataset used while # training the model (used for models that do not # support prediction on new dataset).\n",
    "cls.labels_, cls.labels_.shape"
   ]
  },
  {
   "cell_type": "code",
   "execution_count": 127,
   "id": "medieval-wisconsin",
   "metadata": {},
   "outputs": [
    {
     "data": {
      "image/png": "[encoded data removed]",
      "text/plain": [
       "<Figure size 1080x288 with 1 Axes>"
      ]
     },
     "metadata": {
      "needs_background": "light"
     },
     "output_type": "display_data"
    }
   ],
   "source": [
    "# reduce the features to 2D\n",
    "from sklearn.decomposition import PCA\n",
    "pca = PCA(n_components=2, random_state=seed)\n",
    "reduced_features = pca.fit_transform(embeddings_average_fasttext)\n",
    "# reduce the cluster centers to 2D\n",
    "reduced_cluster_centers = pca.transform(cls.cluster_centers_)\n",
    "plt.figure(figsize=(15,4))\n",
    "plt.scatter(reduced_features[:,0], reduced_features[:,1], c=cls.predict(embeddings_average_fasttext), alpha=0.2)\n",
    "plt.scatter(reduced_cluster_centers[:, 0], reduced_cluster_centers[:,1],marker='x', s=150, c='b')\n",
    "plt.grid();"
   ]
  },
  {
   "cell_type": "code",
   "execution_count": null,
   "id": "assumed-oriental",
   "metadata": {},
   "outputs": [],
   "source": []
  },
  {
   "cell_type": "markdown",
   "id": "sensitive-ukraine",
   "metadata": {},
   "source": [
    "## K-means with TF (4-grams)\n"
   ]
  },
  {
   "cell_type": "code",
   "execution_count": 58,
   "id": "normal-basket",
   "metadata": {},
   "outputs": [
    {
     "name": "stdout",
     "output_type": "stream",
     "text": [
      "tried 2 clusters...\n",
      "tried 3 clusters...\n",
      "tried 4 clusters...\n",
      "tried 5 clusters...\n",
      "tried 6 clusters...\n",
      "tried 7 clusters...\n",
      "tried 8 clusters...\n",
      "tried 9 clusters...\n",
      "tried 10 clusters...\n",
      "tried 11 clusters...\n"
     ]
    }
   ],
   "source": [
    "from sklearn.cluster import KMeans\n",
    "ks = np.arange(2,12)\n",
    "scores=np.zeros_like(ks)\n",
    "for i,k in enumerate(ks):\n",
    "    kmeans = KMeans(n_clusters=k, random_state=42)\n",
    "    kmeans.fit_transform(vecs_n)\n",
    "    scores[i]=kmeans.score(vecs_n)\n",
    "    print(f'tried {k} clusters...')"
   ]
  },
  {
   "cell_type": "code",
   "execution_count": 59,
   "id": "piano-charlotte",
   "metadata": {},
   "outputs": [
    {
     "data": {
      "image/png": "[encoded data removed]",
      "text/plain": [
       "<Figure size 432x288 with 1 Axes>"
      ]
     },
     "metadata": {
      "needs_background": "light"
     },
     "output_type": "display_data"
    }
   ],
   "source": [
    "plt.scatter(ks,-scores,s=200)\n",
    "plt.title('Elbow Chart for OCD Data')\n",
    "plt.xlabel('k (number of clusters)')\n",
    "plt.ylabel('Within cluster sum of squares')\n",
    "plt.grid();"
   ]
  },
  {
   "cell_type": "code",
   "execution_count": 60,
   "id": "controlling-genetics",
   "metadata": {},
   "outputs": [
    {
     "data": {
      "text/plain": [
       "(array([0, 0, 0, ..., 0, 0, 0], dtype=int32), (56838,))"
      ]
     },
     "execution_count": 60,
     "metadata": {},
     "output_type": "execute_result"
    }
   ],
   "source": [
    "# recluster using best k\n",
    "seed = 501\n",
    "cls = KMeans(n_clusters=5, random_state=seed)\n",
    "cls.fit_predict(vecs_n)\n",
    "# to get cluster labels for the dataset used while # training the model (used for models that do not # support prediction on new dataset).\n",
    "cls.labels_, cls.labels_.shape"
   ]
  },
  {
   "cell_type": "code",
   "execution_count": 61,
   "id": "minus-westminster",
   "metadata": {},
   "outputs": [
    {
     "data": {
      "image/png": "[encoded data removed]",
      "text/plain": [
       "<Figure size 1080x288 with 1 Axes>"
      ]
     },
     "metadata": {
      "needs_background": "light"
     },
     "output_type": "display_data"
    }
   ],
   "source": [
    "# reduce the features to 2D\n",
    "pca = PCA(n_components=2, random_state=seed)\n",
    "reduced_features = pca.fit_transform(vecs_n)\n",
    "# reduce the cluster centers to 2D\n",
    "reduced_cluster_centers = pca.transform(cls.cluster_centers_)\n",
    "plt.figure(figsize=(15,4))\n",
    "plt.scatter(reduced_features[:,0], reduced_features[:,1], c=cls.predict(vecs_n), alpha=0.2)\n",
    "plt.scatter(reduced_cluster_centers[:, 0], reduced_cluster_centers[:,1],marker='x', s=150, c='b')\n",
    "plt.grid();"
   ]
  },
  {
   "cell_type": "markdown",
   "id": "sapphire-tobacco",
   "metadata": {},
   "source": [
    "# K-means with tf-idf for Forum data"
   ]
  },
  {
   "cell_type": "code",
   "execution_count": 62,
   "id": "vital-watts",
   "metadata": {},
   "outputs": [
    {
     "name": "stdout",
     "output_type": "stream",
     "text": [
      "tried 2 clusters...\n",
      "tried 3 clusters...\n",
      "tried 4 clusters...\n",
      "tried 5 clusters...\n",
      "tried 6 clusters...\n",
      "tried 7 clusters...\n",
      "tried 8 clusters...\n",
      "tried 9 clusters...\n",
      "tried 10 clusters...\n",
      "tried 11 clusters...\n"
     ]
    }
   ],
   "source": [
    "from sklearn.cluster import KMeans\n",
    "ks = np.arange(2,12)\n",
    "scores=np.zeros_like(ks)\n",
    "for i,k in enumerate(ks):\n",
    "    kmeans = KMeans(n_clusters=k, random_state=42)\n",
    "    kmeans.fit_transform(vecs_tfidf)\n",
    "    scores[i]=kmeans.score(vecs_tfidf)\n",
    "    print(f'tried {k} clusters...')"
   ]
  },
  {
   "cell_type": "code",
   "execution_count": 63,
   "id": "possible-costume",
   "metadata": {},
   "outputs": [
    {
     "data": {
      "image/png": "[encoded data removed]",
      "text/plain": [
       "<Figure size 432x288 with 1 Axes>"
      ]
     },
     "metadata": {
      "needs_background": "light"
     },
     "output_type": "display_data"
    }
   ],
   "source": [
    "plt.scatter(ks,-scores,s=200)\n",
    "plt.title('Elbow Chart for OCD Data')\n",
    "plt.xlabel('k (number of clusters)')\n",
    "plt.ylabel('Within cluster sum of squares')\n",
    "plt.grid();"
   ]
  },
  {
   "cell_type": "code",
   "execution_count": 64,
   "id": "virgin-slovak",
   "metadata": {},
   "outputs": [
    {
     "data": {
      "text/plain": [
       "(array([3, 3, 3, ..., 3, 3, 3], dtype=int32), (56838,))"
      ]
     },
     "execution_count": 64,
     "metadata": {},
     "output_type": "execute_result"
    }
   ],
   "source": [
    " #recluster using best k\n",
    "seed = 501\n",
    "cls = KMeans(n_clusters=5, random_state=seed)\n",
    "cls.fit_predict(vecs_tfidf)\n",
    "# to get cluster labels for the dataset used while # training the model (used for models that do not # support prediction on new dataset).\n",
    "cls.labels_, cls.labels_.shape"
   ]
  },
  {
   "cell_type": "code",
   "execution_count": 65,
   "id": "handled-lightning",
   "metadata": {},
   "outputs": [
    {
     "data": {
      "image/png": "[encoded data removed]",
      "text/plain": [
       "<Figure size 1080x288 with 1 Axes>"
      ]
     },
     "metadata": {
      "needs_background": "light"
     },
     "output_type": "display_data"
    }
   ],
   "source": [
    "# reduce the features to 2D\n",
    "from sklearn.decomposition import PCA\n",
    "pca = PCA(n_components=2, random_state=seed)\n",
    "reduced_features = pca.fit_transform(vecs_tfidf)\n",
    "# reduce the cluster centers to 2D\n",
    "reduced_cluster_centers = pca.transform(cls.cluster_centers_)\n",
    "plt.figure(figsize=(15,4))\n",
    "plt.scatter(reduced_features[:,0], reduced_features[:,1], c=cls.predict(vecs_tfidf), alpha=0.2)\n",
    "plt.scatter(reduced_cluster_centers[:, 0], reduced_cluster_centers[:,1],marker='x', s=150, c='b')\n",
    "plt.grid();"
   ]
  },
  {
   "cell_type": "markdown",
   "id": "medical-piano",
   "metadata": {},
   "source": [
    "## K-means\n",
    "* Raditt data"
   ]
  },
  {
   "cell_type": "code",
   "execution_count": 66,
   "id": "japanese-tongue",
   "metadata": {},
   "outputs": [],
   "source": [
    "from gensim.models import Word2Vec\n",
    "\n",
    "word2vec2 = Word2Vec(words_doc2, min_count=2)"
   ]
  },
  {
   "cell_type": "code",
   "execution_count": 67,
   "id": "documented-teacher",
   "metadata": {},
   "outputs": [
    {
     "name": "stdout",
     "output_type": "stream",
     "text": [
      "tried 2 clusters...\n",
      "tried 3 clusters...\n",
      "tried 4 clusters...\n",
      "tried 5 clusters...\n",
      "tried 6 clusters...\n",
      "tried 7 clusters...\n",
      "tried 8 clusters...\n",
      "tried 9 clusters...\n",
      "tried 10 clusters...\n",
      "tried 11 clusters...\n"
     ]
    }
   ],
   "source": [
    "from sklearn.cluster import KMeans\n",
    "ks = np.arange(2,12)\n",
    "scores=np.zeros_like(ks)\n",
    "for i,k in enumerate(ks):\n",
    "    kmeans = KMeans(n_clusters=k, random_state=42)\n",
    "    kmeans.fit_transform(vecs2)\n",
    "    scores[i]=kmeans.score(vecs2)\n",
    "    print(f'tried {k} clusters...')"
   ]
  },
  {
   "cell_type": "code",
   "execution_count": 68,
   "id": "lovely-secretary",
   "metadata": {},
   "outputs": [
    {
     "data": {
      "image/png": "[encoded data removed]",
      "text/plain": [
       "<Figure size 432x288 with 1 Axes>"
      ]
     },
     "metadata": {
      "needs_background": "light"
     },
     "output_type": "display_data"
    }
   ],
   "source": [
    "plt.scatter(ks,-scores,s=200)\n",
    "plt.title('Elbow Chart for OCD Data')\n",
    "plt.xlabel('k (number of clusters)')\n",
    "plt.ylabel('Within cluster sum of squares')\n",
    "plt.grid();"
   ]
  },
  {
   "cell_type": "code",
   "execution_count": 69,
   "id": "approved-wonder",
   "metadata": {},
   "outputs": [
    {
     "data": {
      "text/plain": [
       "(array([0, 3, 3, 3, 3, 3, 3, 0, 3, 3, 3, 3, 3, 3, 3, 3, 3, 3, 3, 3, 0, 3,\n",
       "        0, 3, 3, 3, 3, 3, 0, 3, 3, 0, 3, 3, 3, 0, 0, 0, 3, 0, 3, 3, 0, 3,\n",
       "        3, 3, 0, 3, 3, 3, 3, 3, 3, 3, 0, 3, 0, 3, 0, 3, 3, 3, 3, 3, 3, 3,\n",
       "        3, 3, 3, 3, 3, 3, 3, 3, 3, 3, 3, 3, 0, 0, 2, 3, 3, 0, 3, 3, 3, 3,\n",
       "        3, 0, 3, 0, 3, 3, 0, 1, 3, 3, 3, 3, 3, 3, 0, 0, 0, 3, 1, 3, 3, 3,\n",
       "        3, 0, 3, 3, 0, 3, 0, 0, 3, 3, 0, 3, 3, 3, 0, 3, 3, 3, 0, 3, 3, 3,\n",
       "        3, 3, 0, 3, 0, 3, 3, 0, 3, 3, 3, 3, 3, 0, 3, 3, 3, 3, 3, 3, 0, 3,\n",
       "        3, 0, 3, 0, 3, 3, 3, 3, 3, 0, 3, 3, 3, 0, 3, 3, 3, 3, 3, 3, 3, 3,\n",
       "        3, 0, 0, 3, 3, 3, 0, 0, 3, 1, 3, 0, 1, 3, 3, 3, 0, 3, 3, 1, 0, 3,\n",
       "        3, 3, 3, 3, 3, 0, 3, 3, 3, 3, 3, 3, 0, 0, 0, 3, 3, 3, 3, 3, 3, 3,\n",
       "        3, 3, 3, 3, 3, 3, 3, 0, 3, 3, 0, 0, 3, 3, 3, 3, 3, 3, 3, 3, 3, 3,\n",
       "        3, 0, 3, 3, 3, 3, 0, 3, 3, 0, 3, 3, 3, 3, 3, 3, 0, 1, 3, 0, 3, 0,\n",
       "        3, 0, 0, 3, 0, 3, 3, 0, 0, 3, 3, 3, 3, 3, 3, 3, 0, 3, 0, 0, 3, 3,\n",
       "        3, 3, 3, 3, 3, 0, 0, 3, 3, 3, 3, 3, 3, 3, 3, 3, 0, 0, 3, 3, 3, 3,\n",
       "        0, 3, 3, 0, 3, 3, 3, 3, 3, 3, 0, 3, 3, 0, 3, 3, 0, 0, 0, 0, 3, 3,\n",
       "        3, 0, 3, 1, 3, 3, 0, 0, 3, 1, 0, 3, 3, 3, 3, 3, 3, 3, 0, 1, 0, 3,\n",
       "        0, 3, 3, 3, 3, 0, 3, 3, 3, 3, 3, 0, 3, 0, 3, 3, 3, 3, 0, 3, 0, 0,\n",
       "        3, 3, 3, 3, 0, 3, 3, 1, 3, 3, 3, 3, 3, 3, 3, 0, 3, 3, 3, 3, 3, 3,\n",
       "        3, 0, 0, 3, 3, 3, 3, 3, 3, 3, 3, 3, 3, 3, 0, 3, 0, 0, 3, 3, 3, 3,\n",
       "        3, 3, 0, 3, 3, 3, 3, 3, 3, 3, 3, 3, 3, 3, 3, 3, 3, 0, 3, 3, 3, 0,\n",
       "        0, 0, 3, 0, 3, 3, 3, 3, 0, 3, 3, 1, 0, 3, 3, 3, 3, 3, 3, 3, 3, 3,\n",
       "        3, 0, 3, 3, 3, 3, 3, 3, 3, 0, 3, 3, 0, 3, 3, 0, 3, 3, 3, 3, 3, 3,\n",
       "        3, 3, 0, 3, 0, 3, 3, 3, 3, 3, 3, 3, 3, 3, 3, 3, 0, 0, 3, 3, 0, 0,\n",
       "        0, 3, 3, 3, 3, 3, 3, 3, 3, 3, 3, 3, 0, 3, 3, 0, 3, 3, 0, 3, 3, 3,\n",
       "        0, 3, 3, 3, 3, 0, 3, 4, 3, 0, 3, 0, 0, 3, 3, 0, 3, 3, 0, 3, 0, 0,\n",
       "        3, 3, 0, 0, 1, 3, 3, 0, 1, 3, 3, 3, 0, 3, 3, 1, 0, 3, 3, 3, 3, 3,\n",
       "        3, 3, 3, 3, 3, 3, 3, 3, 3, 3, 3, 3, 1, 3, 3, 3, 3, 0, 3, 3, 3, 0,\n",
       "        0, 3, 3, 3, 3, 3, 3, 0, 3, 3, 3, 3, 3, 3, 3, 0, 1, 3, 3, 3, 0, 3,\n",
       "        0, 3, 3, 3, 3, 3, 3, 3, 0, 0, 0, 3, 0, 3, 3, 3, 1, 3, 3, 3, 3, 3,\n",
       "        1, 3, 3, 3, 0, 3, 0, 3, 3, 3, 3, 3, 0, 3, 3, 3, 3, 0, 0, 3, 3, 3,\n",
       "        3, 0, 0, 3, 3, 3, 3, 3, 3, 3, 3, 3, 3, 3, 3, 3, 0, 3, 0, 3, 3, 1,\n",
       "        0, 0, 3, 3, 3, 0, 0, 1, 0, 3, 0, 0, 3, 3, 3, 0, 3, 3, 3, 0, 0, 3,\n",
       "        0, 0, 3, 3, 3, 3, 0, 3, 0, 0, 3, 3, 0, 0, 3, 3, 3, 1, 3, 3, 3, 3,\n",
       "        0, 3, 3, 3, 3, 3, 3, 3, 0, 3, 3, 0, 3, 3, 3, 3, 1, 3, 3, 3, 0, 3,\n",
       "        0, 1, 3, 3, 3, 3, 0, 3, 3, 0, 3, 0, 3, 3, 3, 3, 3, 3, 3, 3, 0, 0,\n",
       "        1, 3, 3, 3, 3, 3, 3, 3, 3, 3, 0, 3, 3, 3, 0, 3, 3, 3, 3, 0, 3, 3,\n",
       "        3, 3, 3, 3, 3, 3, 3, 0, 3, 0, 3, 3, 3, 0, 3, 3, 3, 3, 3, 1, 3, 0,\n",
       "        3, 0, 3, 3, 3, 3, 3, 3, 3, 0, 0, 3, 3, 0, 0, 3, 0, 0, 3, 3, 3, 0,\n",
       "        3, 3, 3, 3, 3, 3, 3, 3, 3, 3, 3, 3, 3, 0, 3, 0, 3, 3, 3, 3, 0, 0,\n",
       "        3, 0, 3, 3, 3, 3, 0, 0, 3, 3, 0, 3, 3, 3, 3, 3, 3, 3, 3, 0, 0, 3,\n",
       "        3, 0, 0, 3, 3, 3, 3, 3, 3], dtype=int32),\n",
       " (889,))"
      ]
     },
     "execution_count": 69,
     "metadata": {},
     "output_type": "execute_result"
    }
   ],
   "source": [
    "# recluster using best k\n",
    "seed = 501\n",
    "cls = KMeans(n_clusters=5, random_state=seed)\n",
    "cls.fit_predict(vecs2)\n",
    "# to get cluster labels for the dataset used while # training the model (used for models that do not # support prediction on new dataset).\n",
    "cls.labels_, cls.labels_.shape"
   ]
  },
  {
   "cell_type": "code",
   "execution_count": 70,
   "id": "interstate-health",
   "metadata": {},
   "outputs": [
    {
     "data": {
      "image/png": "[encoded data removed]",
      "text/plain": [
       "<Figure size 1080x288 with 1 Axes>"
      ]
     },
     "metadata": {
      "needs_background": "light"
     },
     "output_type": "display_data"
    }
   ],
   "source": [
    "# reduce the features to 2D\n",
    "pca = PCA(n_components=2, random_state=seed)\n",
    "reduced_features = pca.fit_transform(vecs2)\n",
    "# reduce the cluster centers to 2D\n",
    "reduced_cluster_centers = pca.transform(cls.cluster_centers_)\n",
    "plt.figure(figsize=(15,4))\n",
    "plt.scatter(reduced_features[:,0], reduced_features[:,1], c=cls.predict(vecs2), alpha=0.2)\n",
    "plt.scatter(reduced_cluster_centers[:, 0], reduced_cluster_centers[:,1],marker='x', s=150, c='b')\n",
    "plt.grid();"
   ]
  },
  {
   "cell_type": "markdown",
   "id": "agreed-services",
   "metadata": {},
   "source": [
    "## LDA with BoW \n",
    "* Forum data"
   ]
  },
  {
   "cell_type": "code",
   "execution_count": 36,
   "id": "pursuant-management",
   "metadata": {},
   "outputs": [],
   "source": [
    "# Gensim\n",
    "import gensim\n",
    "import gensim.corpora as corpora\n",
    "from gensim.utils import simple_preprocess \n",
    "from gensim.models import CoherenceModel"
   ]
  },
  {
   "cell_type": "code",
   "execution_count": 37,
   "id": "forty-green",
   "metadata": {},
   "outputs": [
    {
     "name": "stdout",
     "output_type": "stream",
     "text": [
      "[[(0, 1), (1, 1), (2, 1), (3, 1), (4, 2), (5, 1), (6, 1), (7, 1), (8, 1), (9, 1), (10, 1), (11, 1), (12, 1), (13, 1), (14, 1), (15, 1), (16, 1), (17, 1), (18, 1), (19, 1), (20, 2), (21, 1), (22, 1), (23, 1), (24, 1), (25, 1), (26, 1), (27, 1), (28, 1), (29, 1), (30, 1), (31, 1), (32, 1), (33, 1), (34, 1), (35, 1), (36, 1), (37, 1), (38, 1), (39, 1), (40, 1), (41, 1), (42, 1), (43, 1), (44, 1), (45, 2), (46, 2), (47, 1), (48, 1), (49, 1), (50, 1), (51, 1), (52, 1), (53, 2), (54, 1), (55, 1), (56, 1), (57, 1), (58, 1), (59, 1), (60, 1), (61, 1), (62, 1), (63, 1), (64, 2), (65, 1), (66, 1), (67, 1), (68, 1), (69, 1), (70, 1), (71, 1), (72, 1), (73, 1), (74, 1), (75, 1), (76, 1), (77, 1), (78, 1), (79, 1), (80, 1), (81, 1), (82, 1), (83, 1), (84, 1), (85, 1), (86, 1), (87, 1), (88, 1), (89, 7), (90, 1), (91, 1), (92, 1), (93, 1), (94, 1), (95, 1), (96, 1), (97, 1), (98, 1), (99, 2), (100, 1), (101, 1), (102, 1), (103, 1), (104, 1), (105, 1), (106, 1)]]\n"
     ]
    }
   ],
   "source": [
    " # Create Dictionary as Gensim requires dic of all terms and their respective \n",
    "    #Create document term matrix\n",
    "id2word = corpora.Dictionary(words_doc) \n",
    "# Create Corpus\n",
    "texts = words_doc\n",
    "# Term Document Frequency\n",
    "corpus = [id2word.doc2bow(words_doc) for words_doc in texts]\n",
    "# View\n",
    "print(corpus[:1])"
   ]
  },
  {
   "cell_type": "code",
   "execution_count": 38,
   "id": "figured-reform",
   "metadata": {},
   "outputs": [
    {
     "name": "stdout",
     "output_type": "stream",
     "text": [
      "[(0, '0.028*\"day\" + 0.021*\"back\" + 0.020*\"work\" + 0.020*\"year\" + 0.020*\"week\" + 0.018*\"time\" + 0.018*\"got\" + 0.018*\"last\" + 0.014*\"said\" + 0.013*\"month\"'), (1, '0.027*\"hand\" + 0.014*\"house\" + 0.011*\"car\" + 0.011*\"touch\" + 0.010*\"clean\" + 0.010*\"wash\" + 0.010*\"blood\" + 0.010*\"room\" + 0.009*\"contamination\" + 0.009*\"door\"'), (2, '0.041*\"u\" + 0.023*\"uk\" + 0.018*\"member\" + 0.014*\"website\" + 0.012*\"forum\" + 0.012*\"thread\" + 0.012*\"ocd\" + 0.011*\"view\" + 0.011*\"email\" + 0.010*\"sufferer\"'), (3, '0.035*\"child\" + 0.027*\"girl\" + 0.026*\"remember\" + 0.021*\"relationship\" + 0.019*\"boyfriend\" + 0.019*\"kid\" + 0.019*\"sexual\" + 0.017*\"gay\" + 0.014*\"would\" + 0.014*\"woman\"'), (4, '0.376*\"thought\" + 0.042*\"intrusive\" + 0.023*\"mind\" + 0.019*\"urge\" + 0.016*\"harm\" + 0.011*\"daughter\" + 0.011*\"head\" + 0.011*\"act\" + 0.011*\"image\" + 0.011*\"anxiety\"'), (5, '0.194*\"im\" + 0.132*\"dont\" + 0.075*\"cant\" + 0.054*\"ive\" + 0.032*\"didnt\" + 0.024*\"thats\" + 0.017*\"wont\" + 0.015*\"doesnt\" + 0.015*\"alot\" + 0.014*\"recovery\"'), (6, '0.066*\"ocd\" + 0.015*\"people\" + 0.012*\"would\" + 0.011*\"anxiety\" + 0.009*\"fear\" + 0.009*\"one\" + 0.009*\"time\" + 0.009*\"life\" + 0.009*\"help\" + 0.009*\"problem\"'), (7, '0.032*\"cbt\" + 0.026*\"edited\" + 0.023*\"therapist\" + 0.020*\"health\" + 0.020*\"therapy\" + 0.015*\"mental\" + 0.014*\"help\" + 0.012*\"treatment\" + 0.011*\"support\" + 0.009*\"guest\"'), (8, '0.034*\"like\" + 0.033*\"feel\" + 0.028*\"know\" + 0.023*\"really\" + 0.023*\"get\" + 0.022*\"thing\" + 0.022*\"think\" + 0.016*\"want\" + 0.015*\"something\" + 0.014*\"even\"')]\n"
     ]
    }
   ],
   "source": [
    " # Have the corpus(term-doc matrix) and id2word (dictionary), need to specify no of topics and iteration\n",
    "lda_model = gensim.models.ldamodel.LdaModel(corpus=corpus,  # BoW\n",
    "                                           id2word=id2word, # vocanulary of the corpus\n",
    "                                           num_topics=9, \n",
    "                                           random_state=100, \n",
    "                                           update_every=1, \n",
    "                                           chunksize=100, \n",
    "                                           passes=50,\n",
    "                                           alpha='auto',\n",
    "                                           per_word_topics=True)\n",
    "print(lda_model.print_topics())"
   ]
  },
  {
   "cell_type": "code",
   "execution_count": 39,
   "id": "asian-tackle",
   "metadata": {},
   "outputs": [
    {
     "data": {
      "text/html": [
       "\n",
       "<link rel=\"stylesheet\" type=\"text/css\" href=\"https://cdn.jsdelivr.net/gh/bmabey/pyLDAvis@3.2.2/pyLDAvis/js/ldavis.v1.0.0.css\">\n",
       "\n",
       "\n",
       "<div id=\"ldavis_el168773472874357241609184886887\"></div>\n",
       "<script type=\"text/javascript\">\n",
       "\n",
       "var ldavis_el168773472874357241609184886887_data = {\"mdsDat\": {\"x\": [0.270310523224109, 0.21143054668578998, 0.23614853958071522, -0.006675355427286398, -0.09027598368677797, 0.002523754729326924, -0.1822169581151859, -0.1736675186141316, -0.2675775483765598], \"y\": [-0.06518372268572531, 0.030313401759755085, -0.0034950554756901903, 0.034203764496057644, 0.24455890450569986, -0.049865802453874244, -0.36192955683444844, 0.15313122525396977, 0.018266841434255922], \"topics\": [1, 2, 3, 4, 5, 6, 7, 8, 9], \"cluster\": [1, 1, 1, 1, 1, 1, 1, 1, 1], \"Freq\": [35.256573228047664, 25.969944958513874, 16.309177457772652, 5.4261258430476, 4.903661762185991, 4.142017636133958, 3.654204097617374, 2.558339153943311, 1.779955862737581]}, \"tinfo\": {\"Term\": [\"thought\", \"ocd\", \"im\", \"like\", \"feel\", \"know\", \"dont\", \"really\", \"think\", \"day\", \"thing\", \"get\", \"back\", \"mind\", \"week\", \"want\", \"work\", \"something\", \"year\", \"cant\", \"anxiety\", \"last\", \"would\", \"intrusive\", \"never\", \"u\", \"got\", \"cbt\", \"help\", \"even\", \"like\", \"feel\", \"know\", \"really\", \"think\", \"want\", \"something\", \"feeling\", \"bad\", \"worry\", \"thinking\", \"someone\", \"keep\", \"though\", \"tell\", \"done\", \"stop\", \"scared\", \"maybe\", \"wrong\", \"sorry\", \"nothing\", \"worrying\", \"happen\", \"sick\", \"saying\", \"happy\", \"anymore\", \"sort\", \"telling\", \"thing\", \"even\", \"anything\", \"everything\", \"say\", \"get\", \"else\", \"sometimes\", \"make\", \"always\", \"right\", \"person\", \"go\", \"going\", \"never\", \"much\", \"would\", \"one\", \"could\", \"time\", \"see\", \"problem\", \"many\", \"obsession\", \"compulsion\", \"read\", \"however\", \"question\", \"others\", \"wondering\", \"reading\", \"often\", \"become\", \"hello\", \"symptom\", \"difficult\", \"suffer\", \"possible\", \"similar\", \"ritual\", \"step\", \"suffering\", \"struggling\", \"le\", \"trigger\", \"exposure\", \"positive\", \"level\", \"avoid\", \"main\", \"theme\", \"ocd\", \"thank\", \"thanks\", \"may\", \"change\", \"anxiety\", \"fear\", \"post\", \"issue\", \"find\", \"advice\", \"self\", \"people\", \"different\", \"experience\", \"give\", \"life\", \"hope\", \"would\", \"help\", \"also\", \"one\", \"way\", \"anyone\", \"lot\", \"time\", \"hi\", \"take\", \"need\", \"good\", \"week\", \"last\", \"month\", \"told\", \"2\", \"job\", \"3\", \"doctor\", \"next\", \"morning\", \"sleep\", \"couple\", \"asked\", \"med\", \"attack\", \"husband\", \"appointment\", \"decided\", \"tomorrow\", \"half\", \"gave\", \"weekend\", \"wondered\", \"set\", \"holiday\", \"changed\", \"nearly\", \"summer\", \"letter\", \"late\", \"ago\", \"went\", \"night\", \"4\", \"took\", \"day\", \"hour\", \"yesterday\", \"back\", \"got\", \"started\", \"work\", \"year\", \"today\", \"since\", \"said\", \"two\", \"home\", \"time\", \"came\", \"first\", \"go\", \"going\", \"well\", \"take\", \"one\", \"felt\", \"hand\", \"car\", \"touch\", \"clean\", \"wash\", \"blood\", \"contamination\", \"door\", \"washing\", \"toilet\", \"dog\", \"wife\", \"walk\", \"food\", \"shower\", \"touched\", \"clothes\", \"water\", \"dirty\", \"hair\", \"charity\", \"floor\", \"skin\", \"touching\", \"shoe\", \"germ\", \"walked\", \"shop\", \"road\", \"foot\", \"room\", \"house\", \"front\", \"walking\", \"check\", \"outside\", \"put\", \"area\", \"use\", \"home\", \"cbt\", \"edited\", \"therapist\", \"health\", \"therapy\", \"treatment\", \"guest\", \"session\", \"group\", \"list\", \"psychologist\", \"video\", \"team\", \"diagnosis\", \"offer\", \"pay\", \"coping\", \"dr\", \"january\", \"nh\", \"professional\", \"overcome\", \"study\", \"mg\", \"2014\", \"class\", \"bought\", \"october\", \"december\", \"march\", \"mental\", \"name\", \"psychiatrist\", \"support\", \"local\", \"money\", \"help\", \"disorder\", \"online\", \"book\", \"drug\", \"medication\", \"1\", \"need\", \"child\", \"girl\", \"relationship\", \"boyfriend\", \"kid\", \"sexual\", \"gay\", \"woman\", \"memory\", \"sex\", \"sister\", \"dream\", \"girlfriend\", \"young\", \"man\", \"hiv\", \"picture\", \"attracted\", \"ex\", \"younger\", \"boy\", \"woke\", \"men\", \"pocd\", \"cheated\", \"photo\", \"split\", \"older\", \"hearing\", \"bottom\", \"remember\", \"looked\", \"age\", \"false\", \"guy\", \"friend\", \"never\", \"would\", \"old\", \"look\", \"happened\", \"love\", \"looking\", \"felt\", \"year\", \"thought\", \"intrusive\", \"urge\", \"harm\", \"daughter\", \"act\", \"baby\", \"son\", \"pop\", \"harming\", \"spike\", \"unwanted\", \"mouth\", \"tablet\", \"episode\", \"dose\", \"pregnant\", \"knife\", \"random\", \"july\", \"violent\", \"sertraline\", \"killing\", \"teeth\", \"schizophrenia\", \"increased\", \"2010\", \"law\", \"denial\", \"ifs\", \"suicide\", \"image\", \"suicidal\", \"mind\", \"kill\", \"horrible\", \"head\", \"brain\", \"anxiety\", \"uk\", \"member\", \"website\", \"thread\", \"view\", \"email\", \"compulsive\", \"link\", \"challenge\", \"article\", \"p\", \"research\", \"send\", \"awareness\", \"title\", \"user\", \"page\", \"community\", \"account\", \"2006\", \"mark\", \"address\", \"conference\", \"ashley\", \"cover\", \"via\", \"2017\", \"raise\", \"include\", \"folk\", \"u\", \"b\", \"event\", \"sufferer\", \"information\", \"forum\", \"message\", \"ocd\", \"please\", \"im\", \"dont\", \"cant\", \"ive\", \"didnt\", \"thats\", \"wont\", \"doesnt\", \"recovery\", \"id\", \"couldnt\", \"wasnt\", \"havent\", \"whats\", \"adult\", \"wouldnt\", \"there\", \"bdd\", \"isnt\", \"tho\", \"disturbing\", \"blue\", \"fantastic\", \"shes\", \"testing\", \"ur\", \"thus\", \"he\", \"medium\", \"omg\", \"alot\", \"u\", \"ill\"], \"Freq\": [76615.0, 97188.0, 19205.0, 66307.0, 64631.0, 55621.0, 13077.0, 45712.0, 43562.0, 29672.0, 44420.0, 49339.0, 23672.0, 14458.0, 18165.0, 31468.0, 23652.0, 29974.0, 25173.0, 7476.0, 18500.0, 16051.0, 40245.0, 8595.0, 15676.0, 8972.0, 20033.0, 8680.0, 24333.0, 26864.0, 66306.27169027743, 64630.36883309349, 55620.52961794477, 45711.57223165097, 43561.21897534805, 31467.40091910393, 29973.567039050387, 23114.454449907786, 20664.47932776409, 17773.03479695045, 16109.700222863823, 15302.816264992012, 12684.550239863336, 11271.769614667232, 11134.708158964826, 10993.561599450974, 10450.158601321047, 9200.158015500485, 8339.442931597197, 8274.548897864877, 7173.194752446766, 7128.0911432275125, 6844.187867354773, 6774.881573759797, 6466.810388140554, 5998.823952008163, 5565.398006588827, 4937.598813587303, 4624.348038458028, 4531.063722894523, 44161.58647662648, 26691.956659127132, 13851.922646171555, 9427.612459371176, 17069.88996389256, 44503.01476776342, 12413.508543631719, 9223.438714640984, 21116.26948033759, 12250.09157946837, 11037.988018522272, 10479.18260501366, 21286.62489815201, 19039.276049738248, 12899.03466215705, 15690.325515453638, 15594.283480280861, 14002.504111665696, 11981.078708315152, 12790.393229745026, 11449.14950758395, 12339.82210681929, 9368.112951110113, 8312.6053008715, 8139.119318499817, 6912.007036239212, 6440.106937132177, 5954.64979100508, 5939.341490596091, 5478.58658915362, 5246.080064595229, 4912.168014703205, 4615.168112598327, 4456.02548867018, 4326.294551998538, 3663.3652661035208, 3399.563007628865, 3224.9516528427034, 3166.3608350730246, 3154.7505239217944, 3127.1123346122745, 3020.1261215161567, 3003.8902904439005, 2998.3149953015513, 2927.550674615265, 2586.3395448507777, 2474.4465529897043, 2471.522741760114, 2365.286776940315, 2286.6911921819665, 2226.3256968296473, 95485.39909673402, 3804.8709888405183, 8113.040607525664, 9762.067444704478, 4402.440370541062, 16298.632178196181, 13367.120287052803, 7235.991609500967, 4575.368216728745, 10574.297148703263, 6723.292294605534, 5066.093278650481, 21177.392237083888, 4717.670025013212, 5222.208620450193, 6548.46354982017, 12784.7955054359, 6293.8813236217875, 17215.897989034667, 12578.291858131011, 10641.283601946037, 13347.514068396005, 9355.830584674526, 9534.633690499582, 7802.057641410039, 12901.958266804786, 7208.3503868426205, 6772.712287757674, 6674.009139189327, 6627.238270678637, 18164.087965788993, 16050.920265783883, 11959.69655839267, 9976.429456805543, 8079.038309061433, 6687.8742720992805, 6406.662716903852, 6106.816949227941, 5870.8936548698675, 5421.1618323726925, 4932.310820995229, 4704.130509905302, 4082.4643279267516, 3737.370515006425, 3370.6282250842205, 2905.652364591443, 2793.22501798406, 2749.6217904909095, 2704.7608732438007, 2442.9194758796657, 2095.7336054823736, 2027.92524758141, 1948.9054173516938, 1871.8364667016206, 1557.3062927550247, 1533.072058957583, 1495.505297795303, 1474.7070630925925, 1445.2804670939993, 1375.4918087322415, 9550.421024244959, 11409.69456303401, 8501.354526868054, 4326.274535043494, 3502.713800164961, 25354.365057442606, 5459.891988306537, 4013.4543704409302, 19393.18316320111, 16250.626667105877, 10689.602622282837, 18594.821518859062, 18407.948548227418, 9659.509418333206, 8117.544527640904, 12360.573208619686, 5705.999987407288, 5560.981712619944, 16641.35798153909, 5096.885726968501, 6208.636480722709, 10830.235280829516, 9123.369526200107, 7220.33718907153, 6140.405859095871, 6261.119522798128, 5707.352077974149, 8040.245950524149, 3399.769399067982, 3341.6995849279374, 2989.8081277935676, 2958.870178995856, 2944.5545504161273, 2694.1459764142924, 2648.376921481838, 2637.433023139002, 2488.850420609596, 2451.1661945208584, 2292.7852932203323, 2261.508481308587, 2200.868884800024, 2148.8686076089716, 2059.1443872060913, 1883.9535656593634, 1870.3929849409542, 1719.5803082022346, 1717.875288726553, 1646.0323650073026, 1580.7793852222294, 1522.8961852243688, 1357.3083161731313, 1339.6322246254724, 1234.7881743206974, 1183.3009803900047, 1169.8725788206063, 1160.7076414060155, 1140.209310244657, 2918.9296822974684, 4379.4429428231215, 1522.4983097891463, 1319.5455008833837, 2298.982572831182, 1441.7846652160767, 2389.643807489119, 1583.6971853608134, 1840.7783768828347, 1578.1781953414788, 8679.664471408412, 7122.360053529759, 6415.338852337159, 5512.518627126343, 5508.761837976949, 3379.6299709427153, 2455.727382229824, 2213.4460474723405, 2137.0127746962535, 2112.703105811605, 1967.5895517710526, 1803.3697796523809, 1713.1631831121208, 1337.6490954511294, 1328.0557660105515, 1241.0157624113324, 1164.544942108512, 1143.7213383415196, 1123.303884262009, 1093.5040032903873, 1047.4857545255963, 1045.5938682972258, 1029.4362129455885, 1008.7773091772176, 995.1227374213242, 985.9885696847861, 982.9197275930043, 970.3624982158714, 967.6734589029821, 930.0582193414358, 4126.027963459554, 2167.512312462638, 1765.3882289656158, 2881.997198291383, 1038.0731623323466, 1360.8921600170383, 3691.228367562117, 1635.70798121012, 1243.1918643251142, 1602.5916990297776, 1218.5608140675756, 1472.9236701304392, 1327.1567891247212, 1206.7726725897248, 7980.293975779976, 6164.838652484179, 4933.5320017380345, 4469.313837641869, 4306.751557841363, 4283.623475701895, 3878.241490886727, 3268.0980770514084, 2999.9102017645832, 2734.79239543136, 2469.1989627831513, 2463.6742148006715, 2162.453317862705, 2123.4500248454265, 2107.0976825060634, 1699.759974748783, 1660.6770164739535, 1607.4504109355, 1523.8991874816925, 1470.4041283020726, 1450.736485629252, 1366.299913462988, 1256.7744832230985, 1227.7702013778937, 1020.5574261534048, 1019.612839172513, 968.0670523068643, 962.7875357042403, 922.6590381181006, 917.1125730208769, 6040.917785462199, 2021.4883861436272, 1963.4353131190394, 1283.604795874061, 3004.2557749227494, 2692.9626521833, 2776.449476866159, 3319.9996160590754, 1794.613128748831, 1991.3329897065253, 1753.435544005903, 1746.5744408933883, 1638.8818491295112, 1673.891773285164, 1661.763409763495, 76614.33451724946, 8594.978254860936, 3846.047015553241, 3357.133956386701, 2320.2589897709777, 2253.9805800437803, 1937.2092765673974, 1767.1955474387319, 1734.8970818976982, 1412.4134175863883, 1386.0312376934035, 1153.793977761161, 1112.6997133620434, 1071.0782796088179, 1069.3319244184902, 1038.8414657554722, 1031.4305535003634, 1008.4643513490498, 1001.9296518491143, 945.4346061680133, 928.6827992869081, 872.0258467890632, 822.7825571600853, 700.5734043916335, 650.0886868944934, 642.6970289356934, 574.1286858302601, 563.3719364843192, 557.4380563930915, 551.3908794696433, 1096.816721033589, 2247.4635224113986, 1005.6724783842826, 4677.680099300327, 1060.0515432951784, 1725.7124980121785, 2281.516500135285, 1675.1203643053357, 2201.229688780352, 3344.5992138974375, 2623.8736244043203, 1967.1548484564917, 1702.7241160358644, 1617.8097408101817, 1611.2368993791324, 1296.3045497576418, 1262.8117584458182, 1244.611903037196, 1209.4283226069733, 1134.1842889779532, 1089.5067370672596, 989.9581576976452, 942.8531261305149, 937.8154218779728, 819.6505650369962, 788.5640703744315, 775.8960344422145, 756.7499825781657, 713.7804849327877, 706.4557463535319, 688.9232552776372, 686.2049907044824, 654.295745386943, 640.2020067459041, 631.174127827763, 629.4770302902983, 613.7652817655536, 604.3854594679641, 591.5372019637051, 5808.175511418789, 987.5642122688728, 1224.1137909563643, 1413.3820343649452, 946.5774839380135, 1705.2632879119678, 870.9135752168701, 1702.3688524358552, 1056.143832783776, 19204.703660601346, 13076.864374284867, 7475.050117492937, 5329.747524270718, 3137.6362847619853, 2342.0526633747586, 1706.4463549341988, 1519.1476432917905, 1425.4633597823706, 1341.6873591699248, 1197.9264728948267, 1116.8125534926824, 1114.7897968187947, 1039.4807113560307, 796.8736358189174, 767.28364681305, 750.3949083439754, 726.6982737148182, 711.8269326447199, 632.9124411859565, 567.7188947171713, 562.788777604494, 511.60599277671514, 492.4992075040071, 486.2080193664169, 485.1649011858167, 457.42261460694664, 450.9142834341531, 429.4249770588066, 420.9206393860365, 1499.8824360046756, 972.0956834549403, 624.2427976025571], \"Total\": [76615.0, 97188.0, 19205.0, 66307.0, 64631.0, 55621.0, 13077.0, 45712.0, 43562.0, 29672.0, 44420.0, 49339.0, 23672.0, 14458.0, 18165.0, 31468.0, 23652.0, 29974.0, 25173.0, 7476.0, 18500.0, 16051.0, 40245.0, 8595.0, 15676.0, 8972.0, 20033.0, 8680.0, 24333.0, 26864.0, 66307.24207931726, 64631.33917390344, 55621.50001856976, 45712.54259847021, 43562.18939027061, 31468.371303304255, 29974.537441581007, 23115.424778980905, 20665.449675196625, 17774.00538367787, 16110.67060511422, 15303.786726114982, 12685.520614726185, 11272.740002320661, 11135.678586484193, 10994.532020514993, 10451.128969513755, 9201.128369756869, 8340.413398489687, 8275.51929909529, 7174.165121131602, 7129.0615816459485, 6845.158358119763, 6775.851951183161, 6467.780847101486, 5999.794374350202, 5566.36849918155, 4938.569122935675, 4625.3184786506445, 4532.03412844486, 44420.90139074219, 26864.394204118224, 13932.040708478557, 9497.013221549412, 17948.217638053648, 49339.650159758894, 12866.111771812062, 9430.502212418554, 25274.38369478976, 13489.867063263568, 12085.594619563175, 11450.242103771212, 32117.708514731945, 28163.49388743551, 15676.323464481924, 22027.068790099893, 40245.74274433034, 33611.86091596864, 20048.53265293792, 42334.43261613144, 17996.354981635453, 12340.78906101977, 9369.07993618387, 8313.572175419042, 8140.086144684253, 6912.973975377482, 6441.073937971658, 5955.616786320215, 5940.308453053052, 5479.55357057016, 5247.047018037629, 4913.135004825642, 4616.135067892654, 4456.992443461454, 4327.261520339794, 3664.332116401432, 3400.529990988191, 3225.9186708319266, 3167.3278761229017, 3155.7173752796907, 3128.079219125657, 3021.0931023862026, 3004.8571677902696, 2999.2819646610205, 2928.517507786701, 2587.3064116210458, 2475.413385746236, 2472.489742801158, 2366.2538077398813, 2287.6581693044986, 2227.2925934795976, 97188.61992199735, 3891.0466324904555, 8680.799376341185, 10623.063550002797, 4566.167701233963, 18500.70524335658, 15413.06541842739, 7931.8099000093, 4789.458118934422, 12150.057448482892, 7420.833543430394, 5431.1020856878895, 31053.235612843924, 5129.133168694762, 5905.957452575254, 8142.0492425124985, 20689.849883614657, 7753.414524567281, 40245.74274433034, 24333.96185706732, 20048.89137342834, 33611.86091596864, 17682.4660518383, 20037.762849824503, 13308.93927096923, 42334.43261613144, 15640.768687374171, 13308.202993749654, 16064.96315870516, 15538.974520245196, 18165.05795680462, 16051.890245431332, 11960.66654623397, 9977.399477063402, 8080.008360175073, 6688.844342444508, 6407.632768250855, 6107.7869054597295, 5871.863669152936, 5422.131834306271, 4933.280840097, 4705.100526585349, 4083.434346014334, 3738.3403752384174, 3371.5982630669437, 2906.622449432252, 2794.1949256766984, 2750.5918097263802, 2705.7308660383655, 2443.8895136288666, 2096.70360283069, 2028.8951996494818, 1949.8756613992948, 1872.8065357470628, 1558.2762363906324, 1534.042148761765, 1496.47534904841, 1475.6772148778896, 1446.2505332091787, 1376.4618531700498, 9852.253074842809, 11936.545749629004, 8859.26444121756, 4479.809591026956, 3628.466916513939, 29672.039761011598, 5881.424170363385, 4263.362065637713, 23672.285943184248, 20033.07982184469, 12671.929498390366, 23652.55047287712, 25173.643865881255, 11975.640406657458, 9764.009743173803, 17353.313632663765, 7032.6413769649225, 7140.013047402495, 42334.43261613144, 6239.966162770801, 9394.132622731251, 32117.708514731945, 28163.49388743551, 15316.18841023403, 13308.202993749654, 33611.86091596864, 13231.437106977208, 8041.221088406159, 3400.744544621172, 3342.6748938557894, 2990.78306697551, 2959.8450988020954, 2945.529678760556, 2695.1211852201886, 2649.3520118788724, 2638.4080201455167, 2489.825387592508, 2452.1413645043176, 2293.7608372834484, 2262.483727158925, 2201.844044432619, 2149.8435435209253, 2060.1193371951617, 1884.9285596158861, 1871.3681506423566, 1720.5553310281407, 1718.8503775326976, 1647.0088667866094, 1581.7543769039362, 1523.8714319600183, 1358.2835855888306, 1340.6071754910045, 1235.7633000552075, 1184.276136494759, 1170.8479448009664, 1161.6829208614727, 1141.1843661538262, 3311.588673011774, 5551.309634394227, 1678.4864261466985, 1395.580922485446, 4421.819009660592, 1795.8029751905945, 8702.550807547792, 2585.7374069560256, 5028.567583081146, 7140.013047402495, 8680.63490742714, 7123.330542948989, 6416.309351011525, 5513.4890832636775, 5509.732152915993, 3380.6002570333, 2456.6978206225817, 2214.416282621605, 2137.983233094087, 2113.673607447026, 1968.5600176431617, 1804.3406311946053, 1714.1335997600825, 1338.6196029713471, 1329.026279165781, 1241.986337961917, 1165.515852144152, 1144.691785562139, 1124.2743730395352, 1094.474254319089, 1048.4561754307342, 1046.564562045631, 1030.4065374384325, 1009.7478730131195, 996.0931936912987, 986.9592983377734, 983.8906293338656, 971.3330844559473, 968.6439398385318, 931.0286437783183, 5588.402238730535, 2591.0643306663806, 2192.710068395672, 4503.251078193429, 1081.151493175786, 1881.1673023611181, 24333.96185706732, 3460.0339488848917, 1768.2208787831287, 4341.76741504041, 1844.1740746016178, 5310.4480269454725, 4182.640165603682, 16064.96315870516, 7981.2548866549605, 6165.799427797398, 4934.492960817839, 4470.274740959391, 4307.712500714473, 4284.584321389392, 3879.20217897465, 3269.0589472821225, 3000.871099180617, 2735.7531488142536, 2470.1599520048767, 2464.6351536639254, 2163.414194239409, 2124.411096881304, 2108.0586566269035, 1700.7210335262275, 1661.637963410956, 1608.4111183517823, 1524.860074846515, 1471.3654544001456, 1451.697275488112, 1367.2611307702887, 1257.7353002596697, 1228.7310135265711, 1021.5183445811393, 1020.5739483633439, 969.0282105954049, 963.7485562280738, 923.6203551377631, 918.074572510582, 7849.496211175423, 3152.876043437805, 3171.4144922942164, 1609.914058411656, 8835.718867925603, 12814.657346271182, 15676.323464481924, 40245.74274433034, 5603.1995249739575, 8924.533614566679, 5500.739856712414, 8373.607205250124, 6910.001358761199, 13231.437106977208, 25173.643865881255, 76615.30300798318, 8595.94658506185, 3847.0155033271653, 3358.102476124798, 2321.227711926782, 2254.949068345053, 1938.1778061542093, 1768.164130663733, 1735.865708176454, 1413.3817735679822, 1386.999755413347, 1154.7623755467546, 1113.668514176336, 1072.0469467073342, 1070.3004407510084, 1039.810056438522, 1032.399187490019, 1009.4328582199846, 1002.8980731088675, 946.4035479462582, 929.6511233433678, 872.9943424357808, 823.7511574401857, 701.5419730948176, 651.0572518315134, 643.6658797156289, 575.0980068895021, 564.3409118743152, 558.4070680121158, 552.3597627208413, 1213.1378069984303, 3020.379941323433, 1294.1071969232273, 14458.89927204976, 1586.6108458455665, 5256.374935465669, 12961.286828747818, 6273.09354579277, 18500.70524335658, 3345.5759542724873, 2624.850874975644, 1968.1319508334036, 1703.7012219809494, 1618.7866976787625, 1612.213946943294, 1297.2815875746978, 1263.7887050876063, 1245.5890869157972, 1210.405206929795, 1135.1612799590869, 1090.4836851818197, 990.9353979417511, 943.8298554024027, 938.792694925695, 820.6276969029318, 789.5411105117132, 776.873424851704, 757.7270050350833, 714.757895407585, 707.4330642725531, 689.9001817327601, 687.1818315752963, 655.2725112203618, 641.179520158866, 632.1514609158127, 630.4542392603722, 614.7422478908538, 605.362664527393, 592.5143719464586, 8972.788124972722, 1329.140550931697, 2444.8662172274117, 3516.6376490733146, 1532.432915858948, 6926.478172052129, 1704.6011405986899, 97188.61992199735, 7284.543525539932, 19205.68022231999, 13077.841018842402, 7476.026745283749, 5330.72406352011, 3138.6129914087405, 2343.0294572125977, 1707.4230672239, 1520.124283763627, 1426.4407566039413, 1342.6640121840524, 1198.9031797042712, 1117.7893139235257, 1115.7664004188487, 1040.4575679145526, 797.8512569553191, 768.2603015411124, 751.3715877173253, 727.6751331468229, 712.803476899119, 633.8893113111933, 568.6963151864052, 563.7665688086277, 512.5844998105465, 493.47576071756185, 487.185861333761, 486.1417539851718, 458.400740796129, 451.890788321024, 430.40298959982135, 421.89773350086244, 2186.3971850241587, 8972.788124972722, 3176.0021747987626], \"Category\": [\"Default\", \"Default\", \"Default\", \"Default\", \"Default\", \"Default\", \"Default\", \"Default\", \"Default\", \"Default\", \"Default\", \"Default\", \"Default\", \"Default\", \"Default\", \"Default\", \"Default\", \"Default\", \"Default\", \"Default\", \"Default\", \"Default\", \"Default\", \"Default\", \"Default\", \"Default\", \"Default\", \"Default\", \"Default\", \"Default\", \"Topic1\", \"Topic1\", \"Topic1\", \"Topic1\", \"Topic1\", \"Topic1\", \"Topic1\", \"Topic1\", \"Topic1\", \"Topic1\", \"Topic1\", \"Topic1\", \"Topic1\", \"Topic1\", \"Topic1\", \"Topic1\", \"Topic1\", \"Topic1\", \"Topic1\", \"Topic1\", \"Topic1\", \"Topic1\", \"Topic1\", \"Topic1\", \"Topic1\", \"Topic1\", \"Topic1\", \"Topic1\", \"Topic1\", \"Topic1\", \"Topic1\", \"Topic1\", \"Topic1\", \"Topic1\", \"Topic1\", \"Topic1\", \"Topic1\", \"Topic1\", \"Topic1\", \"Topic1\", \"Topic1\", \"Topic1\", \"Topic1\", \"Topic1\", \"Topic1\", \"Topic1\", \"Topic1\", \"Topic1\", \"Topic1\", \"Topic1\", \"Topic1\", \"Topic2\", \"Topic2\", \"Topic2\", \"Topic2\", \"Topic2\", \"Topic2\", \"Topic2\", \"Topic2\", \"Topic2\", \"Topic2\", \"Topic2\", \"Topic2\", \"Topic2\", \"Topic2\", \"Topic2\", \"Topic2\", \"Topic2\", \"Topic2\", \"Topic2\", \"Topic2\", \"Topic2\", \"Topic2\", \"Topic2\", \"Topic2\", \"Topic2\", \"Topic2\", \"Topic2\", \"Topic2\", \"Topic2\", \"Topic2\", \"Topic2\", \"Topic2\", \"Topic2\", \"Topic2\", \"Topic2\", \"Topic2\", \"Topic2\", \"Topic2\", \"Topic2\", \"Topic2\", \"Topic2\", \"Topic2\", \"Topic2\", \"Topic2\", \"Topic2\", \"Topic2\", \"Topic2\", \"Topic2\", \"Topic2\", \"Topic2\", \"Topic2\", \"Topic2\", \"Topic2\", \"Topic2\", \"Topic2\", \"Topic2\", \"Topic2\", \"Topic2\", \"Topic2\", \"Topic2\", \"Topic3\", \"Topic3\", \"Topic3\", \"Topic3\", \"Topic3\", \"Topic3\", \"Topic3\", \"Topic3\", \"Topic3\", \"Topic3\", \"Topic3\", \"Topic3\", \"Topic3\", \"Topic3\", \"Topic3\", \"Topic3\", \"Topic3\", \"Topic3\", \"Topic3\", \"Topic3\", \"Topic3\", \"Topic3\", \"Topic3\", \"Topic3\", \"Topic3\", \"Topic3\", \"Topic3\", \"Topic3\", \"Topic3\", \"Topic3\", \"Topic3\", \"Topic3\", \"Topic3\", \"Topic3\", \"Topic3\", \"Topic3\", \"Topic3\", \"Topic3\", \"Topic3\", \"Topic3\", \"Topic3\", \"Topic3\", \"Topic3\", \"Topic3\", \"Topic3\", \"Topic3\", \"Topic3\", \"Topic3\", \"Topic3\", \"Topic3\", \"Topic3\", \"Topic3\", \"Topic3\", \"Topic3\", \"Topic3\", \"Topic3\", \"Topic3\", \"Topic4\", \"Topic4\", \"Topic4\", \"Topic4\", \"Topic4\", \"Topic4\", \"Topic4\", \"Topic4\", \"Topic4\", \"Topic4\", \"Topic4\", \"Topic4\", \"Topic4\", \"Topic4\", \"Topic4\", \"Topic4\", \"Topic4\", \"Topic4\", \"Topic4\", \"Topic4\", \"Topic4\", \"Topic4\", \"Topic4\", \"Topic4\", \"Topic4\", \"Topic4\", \"Topic4\", \"Topic4\", \"Topic4\", \"Topic4\", \"Topic4\", \"Topic4\", \"Topic4\", \"Topic4\", \"Topic4\", \"Topic4\", \"Topic4\", \"Topic4\", \"Topic4\", \"Topic4\", \"Topic5\", \"Topic5\", \"Topic5\", \"Topic5\", \"Topic5\", \"Topic5\", \"Topic5\", \"Topic5\", \"Topic5\", \"Topic5\", \"Topic5\", \"Topic5\", \"Topic5\", \"Topic5\", \"Topic5\", \"Topic5\", \"Topic5\", \"Topic5\", \"Topic5\", \"Topic5\", \"Topic5\", \"Topic5\", \"Topic5\", \"Topic5\", \"Topic5\", \"Topic5\", \"Topic5\", \"Topic5\", \"Topic5\", \"Topic5\", \"Topic5\", \"Topic5\", \"Topic5\", \"Topic5\", \"Topic5\", \"Topic5\", \"Topic5\", \"Topic5\", \"Topic5\", \"Topic5\", \"Topic5\", \"Topic5\", \"Topic5\", \"Topic5\", \"Topic6\", \"Topic6\", \"Topic6\", \"Topic6\", \"Topic6\", \"Topic6\", \"Topic6\", \"Topic6\", \"Topic6\", \"Topic6\", \"Topic6\", \"Topic6\", \"Topic6\", \"Topic6\", \"Topic6\", \"Topic6\", \"Topic6\", \"Topic6\", \"Topic6\", \"Topic6\", \"Topic6\", \"Topic6\", \"Topic6\", \"Topic6\", \"Topic6\", \"Topic6\", \"Topic6\", \"Topic6\", \"Topic6\", \"Topic6\", \"Topic6\", \"Topic6\", \"Topic6\", \"Topic6\", \"Topic6\", \"Topic6\", \"Topic6\", \"Topic6\", \"Topic6\", \"Topic6\", \"Topic6\", \"Topic6\", \"Topic6\", \"Topic6\", \"Topic6\", \"Topic7\", \"Topic7\", \"Topic7\", \"Topic7\", \"Topic7\", \"Topic7\", \"Topic7\", \"Topic7\", \"Topic7\", \"Topic7\", \"Topic7\", \"Topic7\", \"Topic7\", \"Topic7\", \"Topic7\", \"Topic7\", \"Topic7\", \"Topic7\", \"Topic7\", \"Topic7\", \"Topic7\", \"Topic7\", \"Topic7\", \"Topic7\", \"Topic7\", \"Topic7\", \"Topic7\", \"Topic7\", \"Topic7\", \"Topic7\", \"Topic7\", \"Topic7\", \"Topic7\", \"Topic7\", \"Topic7\", \"Topic7\", \"Topic7\", \"Topic7\", \"Topic7\", \"Topic8\", \"Topic8\", \"Topic8\", \"Topic8\", \"Topic8\", \"Topic8\", \"Topic8\", \"Topic8\", \"Topic8\", \"Topic8\", \"Topic8\", \"Topic8\", \"Topic8\", \"Topic8\", \"Topic8\", \"Topic8\", \"Topic8\", \"Topic8\", \"Topic8\", \"Topic8\", \"Topic8\", \"Topic8\", \"Topic8\", \"Topic8\", \"Topic8\", \"Topic8\", \"Topic8\", \"Topic8\", \"Topic8\", \"Topic8\", \"Topic8\", \"Topic8\", \"Topic8\", \"Topic8\", \"Topic8\", \"Topic8\", \"Topic8\", \"Topic8\", \"Topic8\", \"Topic9\", \"Topic9\", \"Topic9\", \"Topic9\", \"Topic9\", \"Topic9\", \"Topic9\", \"Topic9\", \"Topic9\", \"Topic9\", \"Topic9\", \"Topic9\", \"Topic9\", \"Topic9\", \"Topic9\", \"Topic9\", \"Topic9\", \"Topic9\", \"Topic9\", \"Topic9\", \"Topic9\", \"Topic9\", \"Topic9\", \"Topic9\", \"Topic9\", \"Topic9\", \"Topic9\", \"Topic9\", \"Topic9\", \"Topic9\", \"Topic9\", \"Topic9\", \"Topic9\"], \"logprob\": [30.0, 29.0, 28.0, 27.0, 26.0, 25.0, 24.0, 23.0, 22.0, 21.0, 20.0, 19.0, 18.0, 17.0, 16.0, 15.0, 14.0, 13.0, 12.0, 11.0, 10.0, 9.0, 8.0, 7.0, 6.0, 5.0, 4.0, 3.0, 2.0, 1.0, -3.3891, -3.4147, -3.5648, -3.761, -3.8092, -4.1344, -4.183, -4.4429, -4.5549, -4.7057, -4.8039, -4.8553, -5.043, -5.1611, -5.1733, -5.186, -5.2367, -5.3641, -5.4624, -5.4702, -5.613, -5.6193, -5.66, -5.6701, -5.7167, -5.7918, -5.8668, -5.9865, -6.052, -6.0724, -3.7955, -4.299, -4.9549, -5.3397, -4.746, -3.7878, -5.0646, -5.3616, -4.5333, -5.0778, -5.182, -5.234, -4.5253, -4.6368, -5.0262, -4.8303, -4.8364, -4.9441, -5.1, -5.0347, -5.1454, -4.7648, -5.0403, -5.1599, -5.181, -5.3444, -5.4151, -5.4935, -5.496, -5.5768, -5.6202, -5.6859, -5.7483, -5.7834, -5.8129, -5.9793, -6.054, -6.1067, -6.1251, -6.1287, -6.1375, -6.1723, -6.1777, -6.1796, -6.2035, -6.3274, -6.3716, -6.3728, -6.4167, -6.4505, -6.4773, -2.7187, -5.9414, -5.1842, -4.9991, -5.7955, -4.4866, -4.6848, -5.2986, -5.757, -4.9192, -5.3721, -5.6551, -4.2247, -5.7263, -5.6247, -5.3984, -4.7294, -5.4381, -4.4318, -4.7457, -4.9129, -4.6863, -5.0416, -5.0227, -5.2233, -4.7203, -5.3024, -5.3647, -5.3794, -5.3865, -3.913, -4.0367, -4.3309, -4.5122, -4.7232, -4.9121, -4.9551, -5.003, -5.0424, -5.1221, -5.2166, -5.264, -5.4057, -5.494, -5.5973, -5.7458, -5.7852, -5.801, -5.8174, -5.9192, -6.0725, -6.1054, -6.1452, -6.1855, -6.3695, -6.3852, -6.41, -6.424, -6.4441, -6.4936, -4.5558, -4.378, -4.6722, -5.3477, -5.5589, -3.5795, -5.115, -5.4228, -3.8475, -4.0243, -4.4432, -3.8895, -3.8996, -4.5445, -4.7184, -4.2979, -5.0709, -5.0967, -4.0005, -5.1838, -4.9865, -4.4301, -4.6016, -4.8355, -4.9975, -4.9781, -5.0707, -3.6275, -4.4882, -4.5054, -4.6167, -4.6271, -4.632, -4.7208, -4.738, -4.7421, -4.8001, -4.8154, -4.8822, -4.8959, -4.9231, -4.947, -4.9896, -5.0786, -5.0858, -5.1698, -5.1708, -5.2136, -5.254, -5.2913, -5.4064, -5.4195, -5.501, -5.5436, -5.555, -5.5629, -5.5807, -4.6407, -4.235, -5.2916, -5.4346, -4.8795, -5.346, -4.8408, -5.2522, -5.1017, -5.2557, -3.4497, -3.6474, -3.752, -3.9037, -3.9043, -4.3929, -4.7123, -4.8161, -4.8513, -4.8627, -4.9339, -5.021, -5.0723, -5.3198, -5.327, -5.3948, -5.4584, -5.4764, -5.4944, -5.5213, -5.5643, -5.5661, -5.5817, -5.6019, -5.6156, -5.6248, -5.6279, -5.6408, -5.6435, -5.6832, -4.1934, -4.8371, -5.0423, -4.5522, -5.5733, -5.3025, -4.3047, -5.1186, -5.393, -5.1391, -5.413, -5.2234, -5.3276, -5.4227, -3.3649, -3.623, -3.8458, -3.9447, -3.9817, -3.9871, -4.0865, -4.2577, -4.3433, -4.4358, -4.538, -4.5402, -4.6706, -4.6888, -4.6966, -4.9114, -4.9347, -4.9672, -5.0206, -5.0563, -5.0698, -5.1298, -5.2133, -5.2367, -5.4215, -5.4225, -5.4743, -5.4798, -5.5224, -5.5284, -3.6433, -4.7381, -4.7672, -5.1922, -4.3419, -4.4512, -4.4207, -4.2419, -4.8571, -4.7531, -4.8803, -4.8842, -4.9479, -4.9267, -4.934, -0.9778, -3.1654, -3.9695, -4.1055, -4.4749, -4.5039, -4.6553, -4.7472, -4.7656, -4.9713, -4.9901, -5.1735, -5.2098, -5.2479, -5.2495, -5.2785, -5.2856, -5.3082, -5.3147, -5.3727, -5.3906, -5.4535, -5.5116, -5.6724, -5.7472, -5.7587, -5.8715, -5.8904, -5.901, -5.9119, -5.2242, -4.5068, -5.3109, -3.7738, -5.2583, -4.7709, -4.4917, -4.8007, -4.5276, -3.7527, -3.9954, -4.2835, -4.4278, -4.479, -4.4831, -4.7005, -4.7267, -4.7412, -4.7699, -4.8341, -4.8743, -4.9702, -5.0189, -5.0243, -5.1589, -5.1976, -5.2138, -5.2388, -5.2972, -5.3076, -5.3327, -5.3366, -5.3843, -5.406, -5.4202, -5.4229, -5.4482, -5.4636, -5.4851, -3.2008, -4.9726, -4.7578, -4.6141, -5.015, -4.4263, -5.0983, -4.428, -4.9054, -1.6421, -2.0264, -2.5857, -2.924, -3.4538, -3.7463, -4.0629, -4.1791, -4.2428, -4.3034, -4.4167, -4.4868, -4.4886, -4.5586, -4.8243, -4.8622, -4.8844, -4.9165, -4.9372, -5.0547, -5.1634, -5.1721, -5.2675, -5.3056, -5.3184, -5.3206, -5.3794, -5.3938, -5.4426, -5.4626, -4.1919, -4.6256, -5.0685], \"loglift\": [30.0, 29.0, 28.0, 27.0, 26.0, 25.0, 24.0, 23.0, 22.0, 21.0, 20.0, 19.0, 18.0, 17.0, 16.0, 15.0, 14.0, 13.0, 12.0, 11.0, 10.0, 9.0, 8.0, 7.0, 6.0, 5.0, 4.0, 3.0, 2.0, 1.0, 1.0425, 1.0425, 1.0425, 1.0425, 1.0425, 1.0425, 1.0425, 1.0425, 1.0425, 1.0425, 1.0425, 1.0425, 1.0424, 1.0424, 1.0424, 1.0424, 1.0424, 1.0424, 1.0424, 1.0424, 1.0424, 1.0424, 1.0424, 1.0424, 1.0424, 1.0424, 1.0423, 1.0423, 1.0423, 1.0423, 1.0367, 1.0361, 1.0368, 1.0352, 0.9923, 0.9393, 1.0067, 1.0203, 0.8628, 0.9461, 0.9518, 0.9539, 0.6312, 0.651, 0.8475, 0.7033, 0.0944, 0.1669, 0.5277, -0.1544, 0.5903, 1.3482, 1.3481, 1.3481, 1.3481, 1.3481, 1.3481, 1.3481, 1.3481, 1.3481, 1.348, 1.348, 1.348, 1.348, 1.348, 1.348, 1.3479, 1.3479, 1.3479, 1.3479, 1.3479, 1.3479, 1.3479, 1.3479, 1.3479, 1.3479, 1.3478, 1.3478, 1.3478, 1.3478, 1.3478, 1.3306, 1.3258, 1.2806, 1.2637, 1.3117, 1.2215, 1.2058, 1.2564, 1.3025, 1.2093, 1.2495, 1.2787, 0.9655, 1.2646, 1.2252, 1.1304, 0.8668, 1.1397, 0.4991, 0.6883, 0.7148, 0.4247, 0.7117, 0.6055, 0.8142, 0.16, 0.5736, 0.6728, 0.4698, 0.4961, 1.8134, 1.8134, 1.8134, 1.8133, 1.8133, 1.8133, 1.8133, 1.8133, 1.8133, 1.8133, 1.8132, 1.8132, 1.8132, 1.8132, 1.8132, 1.8131, 1.8131, 1.8131, 1.8131, 1.813, 1.813, 1.813, 1.8129, 1.8129, 1.8128, 1.8128, 1.8128, 1.8128, 1.8128, 1.8127, 1.7823, 1.7683, 1.7722, 1.7786, 1.7782, 1.6562, 1.7391, 1.753, 1.6141, 1.6042, 1.6433, 1.5729, 1.5004, 1.5985, 1.6288, 1.4742, 1.6044, 1.5635, 0.8797, 1.6111, 1.3993, 0.7264, 0.6863, 1.0614, 1.04, 0.1329, 0.9726, 2.9138, 2.9137, 2.9137, 2.9136, 2.9136, 2.9136, 2.9136, 2.9136, 2.9136, 2.9136, 2.9135, 2.9135, 2.9135, 2.9135, 2.9135, 2.9135, 2.9134, 2.9134, 2.9134, 2.9134, 2.9134, 2.9133, 2.9133, 2.9132, 2.9132, 2.9132, 2.9131, 2.9131, 2.9131, 2.9131, 2.7877, 2.6768, 2.8164, 2.8579, 2.2599, 2.6944, 1.6215, 2.4237, 1.909, 1.4045, 3.0151, 3.0151, 3.015, 3.015, 3.015, 3.0149, 3.0148, 3.0147, 3.0147, 3.0147, 3.0147, 3.0146, 3.0146, 3.0145, 3.0145, 3.0144, 3.0144, 3.0143, 3.0143, 3.0143, 3.0143, 3.0143, 3.0142, 3.0142, 3.0142, 3.0142, 3.0142, 3.0142, 3.0142, 3.0141, 2.7118, 2.8367, 2.7984, 2.5689, 2.9745, 2.6914, 1.1293, 2.266, 2.6629, 2.0185, 2.6008, 1.7328, 1.8673, 0.4265, 3.1839, 3.1838, 3.1838, 3.1838, 3.1838, 3.1838, 3.1837, 3.1837, 3.1837, 3.1836, 3.1836, 3.1836, 3.1835, 3.1835, 3.1835, 3.1834, 3.1834, 3.1834, 3.1834, 3.1833, 3.1833, 3.1833, 3.1832, 3.1832, 3.183, 3.183, 3.183, 3.183, 3.1829, 3.1829, 2.9221, 2.7395, 2.7045, 2.9575, 2.1052, 1.624, 1.453, 0.6889, 2.0454, 1.684, 2.0407, 1.6166, 1.745, 1.1165, 0.4661, 3.3093, 3.3092, 3.309, 3.309, 3.3089, 3.3089, 3.3088, 3.3087, 3.3087, 3.3086, 3.3086, 3.3085, 3.3084, 3.3084, 3.3084, 3.3084, 3.3084, 3.3083, 3.3083, 3.3083, 3.3082, 3.3082, 3.3081, 3.3079, 3.3078, 3.3078, 3.3076, 3.3076, 3.3076, 3.3075, 3.2085, 3.0137, 3.0571, 2.1808, 2.906, 2.1955, 1.5722, 1.9889, 1.1805, 3.6655, 3.6654, 3.6653, 3.6652, 3.6652, 3.6652, 3.6651, 3.665, 3.665, 3.665, 3.665, 3.6649, 3.6648, 3.6648, 3.6648, 3.6646, 3.6646, 3.6646, 3.6645, 3.6644, 3.6644, 3.6644, 3.6644, 3.6643, 3.6643, 3.6643, 3.6643, 3.6642, 3.6642, 3.6642, 3.2309, 3.3688, 2.974, 2.7543, 3.1841, 2.2642, 2.9943, -0.3788, 1.7347, 4.0285, 4.0285, 4.0285, 4.0284, 4.0283, 4.0282, 4.028, 4.0279, 4.0279, 4.0279, 4.0278, 4.0277, 4.0277, 4.0276, 4.0274, 4.0273, 4.0273, 4.0272, 4.0272, 4.027, 4.0269, 4.0268, 4.0267, 4.0266, 4.0266, 4.0266, 4.0264, 4.0264, 4.0263, 4.0263, 3.6517, 1.8061, 2.4017]}, \"token.table\": {\"Topic\": [3, 5, 3, 8, 7, 5, 8, 3, 3, 5, 8, 7, 8, 9, 2, 3, 2, 3, 6, 3, 6, 1, 9, 1, 2, 3, 4, 1, 2, 2, 7, 1, 1, 2, 1, 4, 3, 4, 5, 8, 8, 3, 3, 6, 2, 8, 3, 8, 7, 1, 3, 1, 9, 2, 4, 9, 2, 5, 6, 5, 6, 6, 2, 7, 3, 6, 9, 4, 5, 8, 2, 3, 3, 4, 6, 1, 4, 6, 6, 5, 4, 4, 8, 2, 8, 8, 4, 5, 1, 2, 3, 4, 9, 3, 8, 7, 1, 3, 5, 3, 7, 5, 9, 1, 2, 2, 4, 2, 5, 8, 9, 3, 9, 4, 1, 9, 4, 7, 5, 6, 3, 5, 5, 1, 2, 8, 7, 1, 8, 2, 6, 8, 1, 4, 6, 2, 5, 2, 2, 6, 8, 9, 1, 2, 4, 1, 1, 1, 3, 6, 1, 2, 2, 3, 4, 8, 4, 4, 2, 8, 1, 3, 6, 3, 4, 3, 6, 4, 1, 3, 6, 6, 1, 2, 3, 1, 3, 1, 3, 1, 2, 3, 1, 3, 4, 5, 5, 1, 3, 6, 4, 3, 4, 1, 1, 6, 1, 7, 7, 9, 9, 1, 7, 5, 6, 2, 1, 2, 3, 5, 1, 2, 3, 6, 3, 3, 4, 1, 2, 3, 1, 7, 3, 4, 3, 4, 2, 3, 9, 7, 1, 3, 4, 9, 9, 6, 7, 8, 8, 7, 5, 8, 7, 9, 2, 4, 9, 5, 3, 7, 1, 6, 1, 7, 7, 7, 1, 3, 3, 7, 2, 3, 2, 1, 2, 1, 8, 5, 4, 5, 1, 2, 4, 6, 3, 4, 6, 1, 2, 6, 1, 2, 3, 1, 6, 2, 1, 2, 6, 2, 5, 8, 2, 4, 5, 1, 3, 3, 5, 9, 8, 6, 6, 2, 5, 1, 3, 8, 5, 1, 2, 7, 4, 5, 3, 3, 7, 1, 2, 3, 2, 5, 3, 1, 2, 5, 1, 6, 3, 5, 3, 6, 1, 2, 2, 8, 5, 5, 2, 3, 6, 6, 9, 1, 2, 3, 5, 6, 2, 1, 4, 5, 8, 8, 5, 1, 2, 8, 1, 2, 6, 6, 1, 5, 8, 6, 7, 2, 2, 1, 2, 7, 2, 5, 3, 5, 5, 1, 3, 4, 2, 8, 7, 2, 2, 1, 9, 6, 1, 2, 6, 8, 1, 2, 2, 4, 1, 3, 4, 1, 3, 1, 2, 1, 1, 7, 1, 2, 3, 1, 2, 8, 7, 5, 3, 6, 6, 9, 4, 4, 4, 1, 2, 2, 3, 6, 6, 4, 3, 1, 1, 1, 2, 7, 1, 1, 7, 6, 3, 6, 7, 2, 1, 2, 5, 2, 2, 8, 2, 3, 7, 3, 7, 3, 2, 5, 8, 2, 7, 2, 3, 5, 5, 7, 1, 1, 9, 2, 5, 2, 3, 9, 2, 5, 5, 9, 1, 2, 1, 1, 9, 1, 7, 8, 9, 1, 2, 3, 8, 1, 3, 4, 3, 3, 3, 4, 4, 4, 4, 5, 2, 2, 3, 1, 8, 9, 8, 7, 9, 7, 2, 4, 5, 8, 8, 8, 5, 8, 7, 4, 4, 1, 4, 1, 4, 4, 9, 4, 1, 2, 8, 3, 3, 1, 2, 3, 3, 4, 6, 9, 4, 6, 6, 3, 2, 9, 2, 3, 1, 1, 1, 2, 3, 6, 9, 1, 2, 3, 6, 1, 3, 6, 6], \"Freq\": [0.6825832218315956, 0.3172637251735647, 0.9998752030777539, 0.998939647379267, 0.998090748226653, 0.9989025186616851, 0.9976933468445255, 0.9999012477347343, 0.9656660427409602, 0.03415323729527668, 0.999040544905682, 0.9995791176136188, 0.9986952000353164, 0.9989330630892687, 0.9059629165178917, 0.09392475871083898, 0.0643246098848547, 0.31626266526720226, 0.6189667117841655, 0.969321426018319, 0.03055138735408524, 0.31375817930007993, 0.6860601588194167, 0.24809351835744176, 0.5307525389709565, 0.21462533363330757, 0.006484149052365788, 0.9080890080347752, 0.09184671681266013, 0.8809934424447311, 0.11896843774592632, 0.9998847595484627, 0.5241104048744633, 0.4758515245170451, 0.9942549185612236, 0.005670382512730051, 0.9995723542170527, 0.6125912073433288, 0.3871236101961314, 0.9988390607362312, 0.9980580427248628, 0.9996487402777189, 0.9998225580213701, 0.999122663145211, 0.999470129647217, 0.9991207574144294, 0.25655676501703817, 0.7433374892575768, 0.9993923126400119, 0.18071765482503926, 0.8192280224455322, 0.9999298502950862, 0.9990722052794311, 0.9997541086047181, 0.9998201753781755, 0.9986402726748278, 0.6306187638046283, 0.3692044844334621, 0.9988295367906297, 0.9990947882749238, 0.9995196825812892, 0.99971484057843, 0.7328122825592343, 0.2670133942324815, 0.8168313524534759, 0.1830138129295408, 0.9998626616358219, 0.999781064231258, 0.9999268593329969, 0.999527061595204, 0.9640469400215856, 0.03569733103669206, 0.9993206518069884, 0.9993874551576776, 0.999492574378239, 0.43375814247703026, 0.5199217776614664, 0.04613485978379258, 0.999842770758135, 0.9990280264450733, 0.9997381732616596, 0.999507376759109, 0.9988757179435366, 0.9998665684041977, 0.9990120976147563, 0.9982801763361714, 0.9995839945059476, 0.9995574044375262, 0.5975998447070539, 0.21871924873052595, 0.16021122620808423, 0.02344311217864246, 0.9992466616824771, 0.9997660992407854, 0.9981603901531761, 0.9994710937145572, 0.1454905033415479, 0.8544744548810761, 0.9993352151269959, 0.9997848427657322, 0.9974802109559163, 0.9995371329017058, 0.9998046935348772, 0.08013049895224096, 0.9198435378507855, 0.9996364640651787, 0.9996772373325484, 0.36791546522549745, 0.4728277306432944, 0.1592469924110362, 0.9987755939896025, 0.9998711635700607, 0.9992604001030472, 0.9995345437580234, 0.9999516104447193, 0.9999356913085891, 0.9994896820532679, 0.9992209572955117, 0.99939565779115, 0.9997422930274361, 0.3389051004499202, 0.6610005079175244, 0.9998132133640343, 0.9648602639375029, 0.03513104875944509, 0.9992470311117233, 0.9987849759735725, 0.9935827994925791, 0.006402526656403552, 0.41311053868026587, 0.08589427041866915, 0.5006408904402431, 0.9927331656869955, 0.007265442133262907, 0.9994359647414851, 0.8841919438012512, 0.11564593979629541, 0.99949506884257, 0.12733598972497534, 0.7975581014969187, 0.07515929149620497, 0.9988597005747101, 0.13118740140962215, 0.8672512337499602, 0.0015571204915088685, 0.9999792798057326, 0.9999383624140794, 0.44205326698153613, 0.4313212505836257, 0.12651686936691597, 0.12962901670861326, 0.8702839509059535, 0.3390414131788138, 0.6609444692079294, 0.9995230758233066, 0.9991318827511831, 0.9996166647520959, 0.9989621605509564, 0.7536297480965648, 0.24615684300855228, 0.5247116499729549, 0.26508707242089946, 0.21014998116852582, 0.0923451018640845, 0.9067693228202361, 0.9996644242754482, 0.9996900963344562, 0.9993823250333026, 0.9019723458902099, 0.09801447688302037, 0.9998703448260425, 0.9993463136910284, 0.14713740537760706, 0.8042201422475551, 0.04851358524553822, 0.6627807830759767, 0.3371971569837378, 0.6760169770162575, 0.3239299795850264, 0.39552159584228597, 0.4264760194674307, 0.177939670111279, 0.17301383665533876, 0.8112082687495412, 0.01577391009321611, 0.9995401118779289, 0.9997159517883217, 0.5974612908026319, 0.06247369435935836, 0.33998365553534876, 0.9995052637833909, 0.9996360254324486, 0.9998481463955867, 0.9998742665587591, 0.6809993014719377, 0.3186844034918064, 0.9997541486551329, 0.9996716966999558, 0.9990223635299229, 0.9993131174961345, 0.9980287530880334, 0.8239151051201365, 0.1760627652293428, 0.9999112933287267, 0.9993283440167681, 0.9997773288884728, 0.3033209324217106, 0.516890758433854, 0.028067768167460826, 0.15168101362532635, 0.24193184335336346, 0.46084691514033926, 0.2971081596361205, 0.9995760424478713, 0.9991809947679183, 0.7788501173710133, 0.22100799949855404, 0.11801252172197853, 0.8117713789269211, 0.07003366043173152, 0.6715654882574073, 0.32836318207713455, 0.9283465776049702, 0.07158130204609751, 0.21094121515846279, 0.788822870349196, 0.9998332672498407, 0.9997858512954191, 0.9995054517153757, 0.9975382661580139, 0.3853901643116963, 0.34697709237866775, 0.07115864144970864, 0.19647341710008048, 0.9999645822323336, 0.1605758247048511, 0.7439461404367019, 0.09535224229896312, 0.9977490112832498, 0.9989654885607373, 0.3817459113191262, 0.6179715863576283, 0.9998898800670195, 0.9988727932380264, 0.9552228845917677, 0.04447267200394459, 0.9998641716375708, 0.998866492850771, 0.9998737685613118, 0.9985169667323163, 0.9999589599243108, 0.9998345988237713, 0.33152426846021854, 0.6680907311175507, 0.9990881257848305, 0.9985805314258234, 0.999991010336478, 0.9999445395266402, 0.9989379631795221, 0.997623932899244, 0.9995725761445154, 0.9991353273997391, 0.9998019232222969, 0.3820230714317352, 0.6179358512468034, 0.99998126781814, 0.9993759201325101, 0.9996813096191141, 0.03884746981815541, 0.9600874683629836, 0.5791899300556307, 0.1260570074119916, 0.07148832953675613, 0.22309289045091135, 0.10783804859935876, 0.25088204835909644, 0.6410020477038355, 0.37959471551684937, 0.3832126598126638, 0.23719242803359364, 0.33811860647796654, 0.5862225261646878, 0.07558829291485208, 0.7912957746388676, 0.20863171118232746, 0.9997122956072153, 0.8354704215538596, 0.16447483152109277, 0.9994978049478958, 0.9998847340196447, 0.9988951534572086, 0.9979742758079498, 0.9189439519071153, 0.014496759741210384, 0.06645917128113332, 0.9998305361590418, 0.999641451793075, 0.7225379065063577, 0.27737772642269093, 0.9967402884419417, 0.9996758387366856, 0.999709717894629, 0.9994153775762532, 0.2616132371194721, 0.7383147854684964, 0.3238294207676798, 0.16484794789079352, 0.5109699737113208, 0.9992593467804118, 0.5449239151441323, 0.13154528323443834, 0.32353776812339774, 0.275892526596962, 0.7234869531762337, 0.999944271815338, 0.9997912565867341, 0.9993997188859826, 0.7123053979407328, 0.2464240726591649, 0.04122200773296274, 0.16325337622598168, 0.8367217958816271, 0.999682354240775, 0.5093693598398237, 0.4154382387353029, 0.07513244743085265, 0.8228332382414444, 0.17708233734074344, 0.999852913963675, 0.999566682982978, 0.9595604755231437, 0.04029679917206944, 0.9998510909698576, 0.9999311757440762, 0.9824709937916121, 0.01751233839276665, 0.9986275722743512, 0.9992277961829128, 0.999768985622311, 0.67961170810131, 0.3203526827840996, 0.9992232867969177, 0.9978721537719268, 0.41660888800558266, 0.3971217194243032, 0.18627353051510057, 0.7029664760295217, 0.29634306793199466, 0.9997797331462848, 0.1965694482505994, 0.8029834118338933, 0.9994605568866889, 0.9989769912173813, 0.9993146518851153, 0.9992058383157938, 0.30238394855434014, 0.681957921036769, 0.015618340260793926, 0.9151771556470997, 0.08471436596790596, 0.9994376219731413, 0.9996160635318861, 0.7183703387388476, 0.13659057654216575, 0.14496447118444927, 0.9994050662687571, 0.9995012815954735, 0.9994290304179598, 0.9997152219489496, 0.08762186799247233, 0.9122760241633522, 0.998644722402949, 0.9999360607319461, 0.9986111241796674, 0.19428013130422167, 0.8049399806383832, 0.9997155191418384, 0.1963792039591163, 0.5289253808214233, 0.274632122564241, 0.9998964361975686, 0.9987925868225253, 0.9991045220516941, 0.9998591090634869, 0.9998004557546313, 0.9999881302058611, 0.9989899639383752, 0.9999000989925908, 0.11287348591092904, 0.11733237079454362, 0.7696035309118763, 0.9995564489516052, 0.9133187358553783, 0.08663206345720068, 0.9997726744209382, 0.9994121280004993, 0.07277473859119675, 0.04559745032062535, 0.8814500495755324, 0.28766840187822496, 0.7123135247629685, 0.9510693676796264, 0.04886279059490523, 0.9998675997374846, 0.9998773661542885, 0.9983761000610326, 0.6361843835422917, 0.13702774825882533, 0.22671257619465018, 0.06702138797192149, 0.9327756908399841, 0.9990560454862204, 0.9988609978467827, 0.9993604262067978, 0.9995693437994432, 0.9997247014722144, 0.9998636223853793, 0.9970094565224117, 0.9995470891830919, 0.9992757857203135, 0.9996076256230517, 0.9998792712492979, 0.9995807582369631, 0.14666105807617993, 0.8314207188983441, 0.021917225159429125, 0.9995304142130815, 0.999428146009078, 0.999740367487983, 0.9999485927157075, 0.9999820700625638, 0.9779966954309914, 0.02184401162948978, 0.9993416161749102, 0.9998375948822017, 0.9997149431640804, 0.9992791956815817, 0.9989389260455347, 0.8435968651307508, 0.11371591044465967, 0.042613873449074406, 0.9996549898355968, 0.9998919763102103, 0.9997147392563421, 0.9986349684446596, 0.9998441445922854, 0.5977300506220502, 0.40180426333442293, 0.9996381765310909, 0.22254725163782976, 0.7773699137071415, 0.09479549589220641, 0.9042665999456561, 0.9995410819716792, 0.2618108516554178, 0.6399820818243546, 0.09815131164689962, 0.9997084714353722, 0.9990234133770449, 0.5089342267457909, 0.46136957806277223, 0.029605800286112746, 0.9993386747916025, 0.9992274544993698, 0.9999390619548757, 0.9997718180367687, 0.9975658954253834, 0.9778859929942856, 0.021845022182526746, 0.9345913490537892, 0.06531656537821995, 0.9995606298463604, 0.9994196570835006, 0.9997959339333727, 0.999867116423145, 0.9981745547213301, 0.994171631312368, 0.005808076646859086, 0.9999726967288087, 0.9999583750961921, 0.9985970558340008, 0.9999343547069738, 0.9999829928495741, 0.9995884125855506, 0.9969442876691336, 0.30211813905653717, 0.30476373964874454, 0.3930842808475242, 0.9991556230358635, 0.19330907754319784, 0.8066374466813353, 0.9996684957922668, 0.9998597352880759, 0.9997298822112949, 0.9654215073746678, 0.0344498111395471, 0.999798097668119, 0.999456663905361, 0.9990549944043723, 0.9998224406946515, 0.9998232867704137, 0.18854935562948638, 0.811359444360369, 0.24429418921631607, 0.64729044296002, 0.10832753280942484, 0.999827846003092, 0.9993397987647514, 0.9976513969931358, 0.9997360282727514, 0.4530117100671847, 0.36610823451873886, 0.08034097052991336, 0.10062507695083207, 0.9992351014896271, 0.9981785046986295, 0.9992569966161446, 0.9995140201733245, 0.999299604629072, 0.9997861964030422, 0.9989224333283148, 0.05374106136850129, 0.9458426800856227, 0.9999564228065368, 0.9997144787061872, 0.9994663372250365, 0.9992938616305472, 0.9992689035335527, 0.4708619247785529, 0.5291117184996565, 0.9994248602930691, 0.9999417586881839, 0.999558774820091, 0.3280842377626, 0.20044151441416558, 0.47139665604894965, 0.9558879293328751, 0.03970998058753574, 0.004356369178379448, 0.9985991087387888, 0.9996683013891067, 0.9990776225975369, 0.9996760696888005, 0.9995509142369281, 0.999898975242594, 0.999166540940428, 0.21380358138539726, 0.7861731453156936, 0.999943435165222, 0.9998307770165187, 0.38746955421009893, 0.42777195365403764, 0.10224683952639202, 0.08249319738216804, 0.9983595383770523, 0.9999372487602868, 0.20271201210231943, 0.7312409795766208, 0.06602143133726335, 0.05840461029733223, 0.9412759081252781, 0.9993357703302457, 0.9990719814740368], \"Term\": [\"1\", \"1\", \"2\", \"2006\", \"2010\", \"2014\", \"2017\", \"3\", \"4\", \"4\", \"account\", \"act\", \"address\", \"adult\", \"advice\", \"advice\", \"age\", \"age\", \"age\", \"ago\", \"ago\", \"alot\", \"alot\", \"also\", \"also\", \"also\", \"also\", \"always\", \"always\", \"anxiety\", \"anxiety\", \"anymore\", \"anyone\", \"anyone\", \"anything\", \"anything\", \"appointment\", \"area\", \"area\", \"article\", \"ashley\", \"asked\", \"attack\", \"attracted\", \"avoid\", \"awareness\", \"b\", \"b\", \"baby\", \"back\", \"back\", \"bad\", \"bdd\", \"become\", \"blood\", \"blue\", \"book\", \"book\", \"bottom\", \"bought\", \"boy\", \"boyfriend\", \"brain\", \"brain\", \"came\", \"came\", \"cant\", \"car\", \"cbt\", \"challenge\", \"change\", \"change\", \"changed\", \"charity\", \"cheated\", \"check\", \"check\", \"check\", \"child\", \"class\", \"clean\", \"clothes\", \"community\", \"compulsion\", \"compulsive\", \"conference\", \"contamination\", \"coping\", \"could\", \"could\", \"could\", \"could\", \"couldnt\", \"couple\", \"cover\", \"daughter\", \"day\", \"day\", \"december\", \"decided\", \"denial\", \"diagnosis\", \"didnt\", \"different\", \"different\", \"difficult\", \"dirty\", \"disorder\", \"disorder\", \"disorder\", \"disturbing\", \"doctor\", \"doesnt\", \"dog\", \"done\", \"dont\", \"door\", \"dose\", \"dr\", \"dream\", \"drug\", \"drug\", \"edited\", \"else\", \"else\", \"email\", \"episode\", \"even\", \"even\", \"event\", \"event\", \"event\", \"everything\", \"everything\", \"ex\", \"experience\", \"experience\", \"exposure\", \"false\", \"false\", \"false\", \"fantastic\", \"fear\", \"fear\", \"fear\", \"feel\", \"feeling\", \"felt\", \"felt\", \"felt\", \"find\", \"find\", \"first\", \"first\", \"floor\", \"folk\", \"food\", \"foot\", \"forum\", \"forum\", \"friend\", \"friend\", \"friend\", \"front\", \"front\", \"gave\", \"gay\", \"germ\", \"get\", \"get\", \"girl\", \"girlfriend\", \"give\", \"give\", \"give\", \"go\", \"go\", \"going\", \"going\", \"good\", \"good\", \"good\", \"got\", \"got\", \"got\", \"group\", \"guest\", \"guy\", \"guy\", \"guy\", \"hair\", \"half\", \"hand\", \"happen\", \"happened\", \"happened\", \"happy\", \"harm\", \"harming\", \"havent\", \"he\", \"head\", \"head\", \"health\", \"hearing\", \"hello\", \"help\", \"help\", \"help\", \"help\", \"hi\", \"hi\", \"hi\", \"hiv\", \"holiday\", \"home\", \"home\", \"hope\", \"hope\", \"hope\", \"horrible\", \"horrible\", \"hour\", \"hour\", \"house\", \"house\", \"however\", \"husband\", \"id\", \"ifs\", \"ill\", \"ill\", \"ill\", \"ill\", \"im\", \"image\", \"image\", \"image\", \"include\", \"increased\", \"information\", \"information\", \"intrusive\", \"isnt\", \"issue\", \"issue\", \"ive\", \"january\", \"job\", \"july\", \"keep\", \"kid\", \"kill\", \"kill\", \"killing\", \"knife\", \"know\", \"last\", \"late\", \"law\", \"le\", \"letter\", \"level\", \"life\", \"life\", \"like\", \"link\", \"list\", \"local\", \"local\", \"look\", \"look\", \"look\", \"look\", \"looked\", \"looked\", \"looked\", \"looking\", \"looking\", \"looking\", \"lot\", \"lot\", \"lot\", \"love\", \"love\", \"main\", \"make\", \"make\", \"man\", \"many\", \"march\", \"mark\", \"may\", \"may\", \"may\", \"maybe\", \"med\", \"medication\", \"medication\", \"medium\", \"member\", \"memory\", \"men\", \"mental\", \"mental\", \"message\", \"message\", \"message\", \"mg\", \"mind\", \"mind\", \"mind\", \"money\", \"money\", \"month\", \"morning\", \"mouth\", \"much\", \"much\", \"much\", \"name\", \"name\", \"nearly\", \"need\", \"need\", \"need\", \"never\", \"never\", \"next\", \"nh\", \"night\", \"night\", \"nothing\", \"obsession\", \"ocd\", \"ocd\", \"october\", \"offer\", \"often\", \"old\", \"old\", \"older\", \"omg\", \"one\", \"one\", \"one\", \"online\", \"online\", \"others\", \"outside\", \"outside\", \"overcome\", \"p\", \"page\", \"pay\", \"people\", \"people\", \"people\", \"person\", \"person\", \"photo\", \"picture\", \"please\", \"please\", \"please\", \"pocd\", \"pop\", \"positive\", \"possible\", \"post\", \"post\", \"pregnant\", \"problem\", \"professional\", \"psychiatrist\", \"psychiatrist\", \"psychologist\", \"put\", \"put\", \"put\", \"question\", \"raise\", \"random\", \"read\", \"reading\", \"really\", \"recovery\", \"relationship\", \"remember\", \"remember\", \"remember\", \"research\", \"right\", \"right\", \"ritual\", \"road\", \"room\", \"room\", \"room\", \"said\", \"said\", \"say\", \"say\", \"saying\", \"scared\", \"schizophrenia\", \"see\", \"see\", \"see\", \"self\", \"self\", \"send\", \"sertraline\", \"session\", \"set\", \"sex\", \"sexual\", \"shes\", \"shoe\", \"shop\", \"shower\", \"sick\", \"similar\", \"since\", \"since\", \"since\", \"sister\", \"skin\", \"sleep\", \"someone\", \"something\", \"sometimes\", \"sometimes\", \"son\", \"sorry\", \"sort\", \"spike\", \"split\", \"started\", \"started\", \"started\", \"step\", \"stop\", \"struggling\", \"study\", \"suffer\", \"sufferer\", \"sufferer\", \"suffering\", \"suicidal\", \"suicidal\", \"suicide\", \"suicide\", \"summer\", \"support\", \"support\", \"support\", \"symptom\", \"tablet\", \"take\", \"take\", \"take\", \"team\", \"teeth\", \"tell\", \"telling\", \"testing\", \"thank\", \"thank\", \"thanks\", \"thanks\", \"thats\", \"theme\", \"therapist\", \"therapy\", \"there\", \"thing\", \"thing\", \"think\", \"thinking\", \"tho\", \"though\", \"thought\", \"thread\", \"thus\", \"time\", \"time\", \"time\", \"title\", \"today\", \"today\", \"toilet\", \"told\", \"tomorrow\", \"took\", \"took\", \"touch\", \"touched\", \"touching\", \"treatment\", \"trigger\", \"two\", \"two\", \"u\", \"u\", \"u\", \"uk\", \"unwanted\", \"ur\", \"urge\", \"use\", \"use\", \"use\", \"use\", \"user\", \"via\", \"video\", \"view\", \"violent\", \"walk\", \"walked\", \"walking\", \"walking\", \"want\", \"wash\", \"washing\", \"wasnt\", \"water\", \"way\", \"way\", \"website\", \"week\", \"weekend\", \"well\", \"well\", \"well\", \"went\", \"went\", \"went\", \"whats\", \"wife\", \"woke\", \"woman\", \"wondered\", \"wondering\", \"wont\", \"work\", \"work\", \"worry\", \"worrying\", \"would\", \"would\", \"would\", \"would\", \"wouldnt\", \"wrong\", \"year\", \"year\", \"year\", \"yesterday\", \"yesterday\", \"young\", \"younger\"]}, \"R\": 30, \"lambda.step\": 0.01, \"plot.opts\": {\"xlab\": \"PC1\", \"ylab\": \"PC2\"}, \"topic.order\": [9, 7, 1, 2, 8, 4, 5, 3, 6]};\n",
       "\n",
       "function LDAvis_load_lib(url, callback){\n",
       "  var s = document.createElement('script');\n",
       "  s.src = url;\n",
       "  s.async = true;\n",
       "  s.onreadystatechange = s.onload = callback;\n",
       "  s.onerror = function(){console.warn(\"failed to load library \" + url);};\n",
       "  document.getElementsByTagName(\"head\")[0].appendChild(s);\n",
       "}\n",
       "\n",
       "if(typeof(LDAvis) !== \"undefined\"){\n",
       "   // already loaded: just create the visualization\n",
       "   !function(LDAvis){\n",
       "       new LDAvis(\"#\" + \"ldavis_el168773472874357241609184886887\", ldavis_el168773472874357241609184886887_data);\n",
       "   }(LDAvis);\n",
       "}else if(typeof define === \"function\" && define.amd){\n",
       "   // require.js is available: use it to load d3/LDAvis\n",
       "   require.config({paths: {d3: \"https://d3js.org/d3.v5\"}});\n",
       "   require([\"d3\"], function(d3){\n",
       "      window.d3 = d3;\n",
       "      LDAvis_load_lib(\"https://cdn.jsdelivr.net/gh/bmabey/pyLDAvis@3.2.2/pyLDAvis/js/ldavis.v3.0.0.js\", function(){\n",
       "        new LDAvis(\"#\" + \"ldavis_el168773472874357241609184886887\", ldavis_el168773472874357241609184886887_data);\n",
       "      });\n",
       "    });\n",
       "}else{\n",
       "    // require.js not available: dynamically load d3 & LDAvis\n",
       "    LDAvis_load_lib(\"https://d3js.org/d3.v5.js\", function(){\n",
       "         LDAvis_load_lib(\"https://cdn.jsdelivr.net/gh/bmabey/pyLDAvis@3.2.2/pyLDAvis/js/ldavis.v3.0.0.js\", function(){\n",
       "                 new LDAvis(\"#\" + \"ldavis_el168773472874357241609184886887\", ldavis_el168773472874357241609184886887_data);\n",
       "            })\n",
       "         });\n",
       "}\n",
       "</script>"
      ],
      "text/plain": [
       "PreparedData(topic_coordinates=              x         y  topics  cluster       Freq\n",
       "topic                                                \n",
       "8      0.270311 -0.065184       1        1  35.256573\n",
       "6      0.211431  0.030313       2        1  25.969945\n",
       "0      0.236149 -0.003495       3        1  16.309177\n",
       "1     -0.006675  0.034204       4        1   5.426126\n",
       "7     -0.090276  0.244559       5        1   4.903662\n",
       "3      0.002524 -0.049866       6        1   4.142018\n",
       "4     -0.182217 -0.361930       7        1   3.654204\n",
       "2     -0.173668  0.153131       8        1   2.558339\n",
       "5     -0.267578  0.018267       9        1   1.779956, topic_info=         Term          Freq         Total Category  logprob  loglift\n",
       "89    thought  76615.000000  76615.000000  Default  30.0000  30.0000\n",
       "133       ocd  97188.000000  97188.000000  Default  29.0000  29.0000\n",
       "989        im  19205.000000  19205.000000  Default  28.0000  28.0000\n",
       "52       like  66307.000000  66307.000000  Default  27.0000  27.0000\n",
       "35       feel  64631.000000  64631.000000  Default  26.0000  26.0000\n",
       "...       ...           ...           ...      ...      ...      ...\n",
       "3144   medium    429.424977    430.402990   Topic9  -5.4426   4.0263\n",
       "2739      omg    420.920639    421.897734   Topic9  -5.4626   4.0263\n",
       "1706     alot   1499.882436   2186.397185   Topic9  -4.1919   3.6517\n",
       "682         u    972.095683   8972.788125   Topic9  -4.6256   1.8061\n",
       "461       ill    624.242798   3176.002175   Topic9  -5.0685   2.4017\n",
       "\n",
       "[438 rows x 6 columns], token_table=      Topic      Freq       Term\n",
       "term                            \n",
       "1855      3  0.682583          1\n",
       "1855      5  0.317264          1\n",
       "203       3  0.999875          2\n",
       "2581      8  0.998940       2006\n",
       "3746      7  0.998091       2010\n",
       "...     ...       ...        ...\n",
       "244       6  0.066021       year\n",
       "1633      1  0.058405  yesterday\n",
       "1633      3  0.941276  yesterday\n",
       "106       6  0.999336      young\n",
       "1744      6  0.999072    younger\n",
       "\n",
       "[563 rows x 3 columns], R=30, lambda_step=0.01, plot_opts={'xlab': 'PC1', 'ylab': 'PC2'}, topic_order=[9, 7, 1, 2, 8, 4, 5, 3, 6])"
      ]
     },
     "execution_count": 39,
     "metadata": {},
     "output_type": "execute_result"
    }
   ],
   "source": [
    "import pyLDAvis.gensim\n",
    "import pyLDAvis.sklearn\n",
    "pyLDAvis.enable_notebook()\n",
    "\n",
    "#Creating Topic Distance Visualization \n",
    "pyLDAvis.enable_notebook()\n",
    "vis = pyLDAvis.gensim.prepare(lda_model, corpus, id2word)\n",
    "vis"
   ]
  },
  {
   "cell_type": "markdown",
   "id": "tight-timing",
   "metadata": {},
   "source": [
    "## LDA with BoW \n",
    "* Raditt data"
   ]
  },
  {
   "cell_type": "code",
   "execution_count": 40,
   "id": "selective-intermediate",
   "metadata": {},
   "outputs": [
    {
     "name": "stderr",
     "output_type": "stream",
     "text": [
      "/home/c.c1909412/.conda/envs/ocd/lib/python3.9/site-packages/ipykernel/ipkernel.py:287: DeprecationWarning: `should_run_async` will not call `transform_cell` automatically in the future. Please pass the result to `transformed_cell` argument and any exception that happen during thetransform in `preprocessing_exc_tuple` in IPython 7.17 and above.\n",
      "  and should_run_async(code)\n"
     ]
    },
    {
     "name": "stdout",
     "output_type": "stream",
     "text": [
      "[[(0, 1), (1, 1), (2, 2), (3, 1), (4, 1), (5, 1), (6, 3), (7, 2), (8, 1), (9, 2), (10, 1), (11, 1), (12, 1), (13, 1), (14, 2), (15, 1), (16, 1), (17, 1), (18, 1), (19, 1), (20, 1), (21, 1), (22, 1), (23, 1), (24, 1), (25, 6), (26, 1), (27, 1), (28, 2), (29, 2), (30, 1), (31, 2), (32, 1), (33, 1), (34, 3), (35, 1), (36, 2), (37, 1), (38, 2), (39, 2), (40, 2), (41, 1), (42, 7), (43, 1), (44, 2), (45, 1), (46, 1), (47, 1), (48, 2), (49, 1), (50, 6), (51, 2), (52, 1), (53, 1), (54, 1), (55, 1), (56, 1), (57, 3), (58, 1), (59, 2), (60, 1), (61, 1), (62, 1), (63, 2), (64, 1), (65, 1), (66, 3), (67, 2), (68, 1), (69, 1), (70, 1), (71, 1), (72, 9), (73, 1), (74, 1), (75, 1), (76, 1), (77, 4), (78, 4), (79, 2), (80, 3), (81, 2), (82, 1)]]\n"
     ]
    }
   ],
   "source": [
    " # Create Dictionary as Gensim requires dic of all terms and their respective \n",
    "    #Create document term matrix\n",
    "id2word = corpora.Dictionary(words_doc2) \n",
    "# Create Corpus\n",
    "texts = words_doc2\n",
    "# Term Document Frequency\n",
    "corpus = [id2word.doc2bow(words_doc2) for words_doc2 in texts]\n",
    "# View\n",
    "print(corpus[:1])"
   ]
  },
  {
   "cell_type": "code",
   "execution_count": 41,
   "id": "decreased-multiple",
   "metadata": {},
   "outputs": [
    {
     "name": "stderr",
     "output_type": "stream",
     "text": [
      "/home/c.c1909412/.conda/envs/ocd/lib/python3.9/site-packages/ipykernel/ipkernel.py:287: DeprecationWarning: `should_run_async` will not call `transform_cell` automatically in the future. Please pass the result to `transformed_cell` argument and any exception that happen during thetransform in `preprocessing_exc_tuple` in IPython 7.17 and above.\n",
      "  and should_run_async(code)\n"
     ]
    },
    {
     "name": "stdout",
     "output_type": "stream",
     "text": [
      "[(0, '0.029*\"thought\" + 0.028*\"like\" + 0.016*\"feel\" + 0.015*\"think\" + 0.014*\"get\" + 0.011*\"even\" + 0.011*\"thing\" + 0.010*\"person\" + 0.009*\"something\" + 0.009*\"make\"'), (1, '0.012*\"bed\" + 0.011*\"demon\" + 0.007*\"extremely\" + 0.006*\"ritual\" + 0.006*\"period\" + 0.006*\"driving\" + 0.006*\"ima\" + 0.005*\"note\" + 0.005*\"conversation\" + 0.005*\"eye\"'), (2, '0.018*\"asleep\" + 0.014*\"nightmare\" + 0.009*\"subconsciously\" + 0.007*\"racing\" + 0.007*\"vivid\" + 0.007*\"swear\" + 0.007*\"judge\" + 0.006*\"total\" + 0.003*\"tiniest\" + 0.002*\"eyebrow\"'), (3, '0.017*\"dream\" + 0.008*\"second\" + 0.008*\"argument\" + 0.008*\"exercise\" + 0.008*\"remembered\" + 0.007*\"addiction\" + 0.006*\"nowhere\" + 0.006*\"interview\" + 0.006*\"acted\" + 0.006*\"wet\"'), (4, '0.028*\"ocd\" + 0.015*\"like\" + 0.014*\"know\" + 0.012*\"time\" + 0.012*\"feel\" + 0.010*\"thing\" + 0.009*\"really\" + 0.009*\"day\" + 0.009*\"one\" + 0.009*\"would\"'), (5, '0.016*\"age\" + 0.015*\"girl\" + 0.014*\"looked\" + 0.013*\"attracted\" + 0.013*\"old\" + 0.012*\"hocd\" + 0.011*\"pocd\" + 0.009*\"child\" + 0.009*\"17\" + 0.009*\"sexual\"'), (6, '0.037*\"response\" + 0.025*\"groinal\" + 0.012*\"teacher\" + 0.011*\"romantic\" + 0.008*\"relieve\" + 0.004*\"appear\" + 0.003*\"flash\" + 0.003*\"scroll\" + 0.003*\"marked\" + 0.003*\"miscarriage\"'), (7, '0.012*\"next\" + 0.011*\"question\" + 0.010*\"wanna\" + 0.010*\"happened\" + 0.009*\"play\" + 0.009*\"life\" + 0.008*\"false\" + 0.007*\"site\" + 0.007*\"alarm\" + 0.007*\"account\"'), (8, '0.012*\"party\" + 0.005*\"peanut\" + 0.005*\"bus\" + 0.003*\"allergy\" + 0.001*\"breakfast\" + 0.001*\"sweater\" + 0.001*\"typhoid\" + 0.001*\"crowded\" + 0.001*\"si\" + 0.000*\"undefined\"')]\n"
     ]
    }
   ],
   "source": [
    " # Have the corpus(term-doc matrix) and id2word (dictionary), need to specify no of topics and iteration\n",
    "lda_model = gensim.models.ldamodel.LdaModel(corpus=corpus,  # BoW\n",
    "                                           id2word=id2word, # vocanulary of the corpus\n",
    "                                           num_topics=9, \n",
    "                                           random_state=100, \n",
    "                                           update_every=1, \n",
    "                                           chunksize=100, \n",
    "                                           passes=50,\n",
    "                                           alpha='auto',\n",
    "                                           per_word_topics=True)\n",
    "print(lda_model.print_topics())"
   ]
  },
  {
   "cell_type": "code",
   "execution_count": 42,
   "id": "secure-vehicle",
   "metadata": {},
   "outputs": [
    {
     "name": "stderr",
     "output_type": "stream",
     "text": [
      "/home/c.c1909412/.conda/envs/ocd/lib/python3.9/site-packages/ipykernel/ipkernel.py:287: DeprecationWarning: `should_run_async` will not call `transform_cell` automatically in the future. Please pass the result to `transformed_cell` argument and any exception that happen during thetransform in `preprocessing_exc_tuple` in IPython 7.17 and above.\n",
      "  and should_run_async(code)\n"
     ]
    },
    {
     "data": {
      "text/html": [
       "\n",
       "<link rel=\"stylesheet\" type=\"text/css\" href=\"https://cdn.jsdelivr.net/gh/bmabey/pyLDAvis@3.2.2/pyLDAvis/js/ldavis.v1.0.0.css\">\n",
       "\n",
       "\n",
       "<div id=\"ldavis_el168773472874357243845514663742\"></div>\n",
       "<script type=\"text/javascript\">\n",
       "\n",
       "var ldavis_el168773472874357243845514663742_data = {\"mdsDat\": {\"x\": [0.32940770734903585, 0.31770418643771897, -0.11856662863246291, -0.07541590700723531, -0.11226306784492472, -0.11696841575723904, -0.08037826731777267, -0.0735296555275773, -0.06998995169954317], \"y\": [0.017047595532149597, 0.0016851970793687334, 0.29394799483258083, -0.16517526033496427, -0.12439314992144244, -0.012423320839018178, -0.006681642470964693, -0.0025840595990174408, -0.0014233542786917064], \"topics\": [1, 2, 3, 4, 5, 6, 7, 8, 9], \"cluster\": [1, 1, 1, 1, 1, 1, 1, 1, 1], \"Freq\": [52.2517839136302, 31.440016626541745, 7.103436300587347, 3.8750023014596255, 3.2389100797909833, 1.6613923307751899, 0.26558019091479285, 0.12870261155799678, 0.03517564474212695]}, \"tinfo\": {\"Term\": [\"ocd\", \"thought\", \"like\", \"life\", \"want\", \"person\", \"happened\", \"year\", \"think\", \"felt\", \"child\", \"next\", \"day\", \"girl\", \"im\", \"sexual\", \"question\", \"feel\", \"old\", \"get\", \"anything\", \"second\", \"head\", \"anxiety\", \"dont\", \"friend\", \"feeling\", \"bed\", \"attracted\", \"even\", \"ocd\", \"day\", \"anxiety\", \"lot\", \"help\", \"still\", \"month\", \"obsession\", \"last\", \"work\", \"compulsion\", \"experience\", \"better\", \"long\", \"ago\", \"therapist\", \"week\", \"find\", \"post\", \"cause\", \"hour\", \"2\", \"two\", \"able\", \"memory\", \"mental\", \"done\", \"new\", \"diagnosed\", \"relationship\", \"need\", \"one\", \"fear\", \"every\", \"year\", \"past\", \"time\", \"going\", \"know\", \"since\", \"also\", \"anyone\", \"would\", \"really\", \"feel\", \"thing\", \"like\", \"life\", \"much\", \"something\", \"want\", \"get\", \"thought\", \"people\", \"even\", \"make\", \"think\", \"person\", \"im\", \"head\", \"dont\", \"hand\", \"weird\", \"hate\", \"family\", \"hurt\", \"idk\", \"horrible\", \"image\", \"kill\", \"touch\", \"trigger\", \"obsessing\", \"mom\", \"cant\", \"telling\", \"house\", \"fucking\", \"body\", \"happens\", \"move\", \"terrible\", \"room\", \"kid\", \"wash\", \"parent\", \"phone\", \"friend\", \"happen\", \"thought\", \"think\", \"intrusive\", \"like\", \"etc\", \"get\", \"even\", \"feel\", \"child\", \"make\", \"thinking\", \"go\", \"thing\", \"something\", \"way\", \"happened\", \"always\", \"want\", \"people\", \"someone\", \"know\", \"everything\", \"bad\", \"really\", \"mind\", \"time\", \"never\", \"would\", \"bed\", \"demon\", \"extremely\", \"ritual\", \"period\", \"driving\", \"ima\", \"note\", \"conversation\", \"eye\", \"suicidal\", \"writing\", \"god\", \"mistake\", \"exposure\", \"negative\", \"speak\", \"easier\", \"comment\", \"e\", \"paper\", \"attention\", \"floor\", \"confused\", \"acting\", \"street\", \"skin\", \"space\", \"cope\", \"common\", \"turned\", \"perfect\", \"check\", \"honestly\", \"may\", \"use\", \"contamination\", \"hocd\", \"17\", \"doubt\", \"level\", \"denial\", \"talked\", \"aroused\", \"rule\", \"pedo\", \"arousal\", \"nervous\", \"picture\", \"count\", \"death\", \"teen\", \"scene\", \"sent\", \"male\", \"counting\", \"disgust\", \"hypochondria\", \"usual\", \"map\", \"page\", \"essentially\", \"smoking\", \"flashback\", \"context\", \"pill\", \"masturbating\", \"looked\", \"age\", \"attraction\", \"emotion\", \"attracted\", \"pocd\", \"girl\", \"pedophile\", \"character\", \"16\", \"12\", \"old\", \"woman\", \"10\", \"child\", \"sexual\", \"felt\", \"fuck\", \"want\", \"play\", \"false\", \"site\", \"alarm\", \"account\", \"detail\", \"experiencing\", \"id\", \"dating\", \"chat\", \"rocd\", \"odd\", \"edit\", \"affect\", \"meet\", \"jacked\", \"dying\", \"google\", \"cheating\", \"brought\", \"schizophrenic\", \"cost\", \"evidence\", \"doesnt\", \"shift\", \"deleted\", \"dealt\", \"title\", \"confession\", \"messing\", \"wanna\", \"simply\", \"next\", \"9\", \"question\", \"text\", \"happened\", \"response\", \"life\", \"event\", \"show\", \"dream\", \"argument\", \"exercise\", \"remembered\", \"addiction\", \"nowhere\", \"interview\", \"acted\", \"wet\", \"fake\", \"promise\", \"fell\", \"2018\", \"ten\", \"pulling\", \"fantasy\", \"manageable\", \"illegal\", \"red\", \"explanation\", \"interesting\", \"following\", \"couch\", \"walked\", \"2020\", \"forum\", \"perform\", \"bedroom\", \"toy\", \"dark\", \"including\", \"beat\", \"second\", \"later\", \"write\", \"groinal\", \"teacher\", \"romantic\", \"relieve\", \"appear\", \"flash\", \"scroll\", \"marked\", \"miscarriage\", \"pretending\", \"dorm\", \"ordered\", \"mcmaster\", \"tingle\", \"cm\", \"response\", \"grayson\", \"troubling\", \"aesthetic\", \"beach\", \"confidently\", \"functioned\", \"tole\", \"ca\", \"collected\", \"macanxiety\", \"qtp3nv\", \"completing\", \"stabbed\", \"attendance\", \"asleep\", \"nightmare\", \"subconsciously\", \"racing\", \"vivid\", \"swear\", \"judge\", \"total\", \"tiniest\", \"eyebrow\", \"deprived\", \"bomb\", \"countdown\", \"explodes\", \"cashier\", \"tag\", \"analyze\", \"devastating\", \"frighteningly\", \"irritable\", \"ramped\", \"accessory\", \"wong\", \"blackout\", \"travelled\", \"crowded\", \"si\", \"lorem\", \"signing\", \"cop\", \"eta\", \"sp\", \"thin\", \"trichotillomania\", \"yanking\", \"party\", \"peanut\", \"bus\", \"allergy\", \"breakfast\", \"sweater\", \"typhoid\", \"crowded\", \"si\", \"lorem\", \"signing\", \"cop\", \"dooming\", \"fleeing\", \"distrust\", \"leeway\", \"dleave\", \"inqtrusive\", \"afab\", \"compulsiveness\", \"scented\", \"antisocial\", \"calmed\", \"hypnagogic\", \"hypnogogia\", \"hypnogogic\", \"mannequin\", \"masking\", \"referring\", \"mock\", \"giggly\", \"peck\", \"prom\", \"rented\", \"undefined\", \"chant\", \"commit\", \"cracker\", \"dunno\", \"emergency\", \"fantasying\", \"mattered\", \"misunderstand\", \"nick\", \"steer\", \"suicidality\", \"upfront\", \"mary\", \"butter\"], \"Freq\": [1128.0, 1016.0, 1302.0, 335.0, 495.0, 243.0, 133.0, 381.0, 535.0, 146.0, 117.0, 84.0, 364.0, 87.0, 199.0, 106.0, 78.0, 887.0, 92.0, 645.0, 209.0, 59.0, 160.0, 275.0, 155.0, 216.0, 252.0, 65.0, 59.0, 515.0, 1127.7585535139665, 364.4503840457534, 275.1752434777791, 221.34805009852963, 215.62211578499836, 209.32114348635352, 186.156585564824, 177.9530876369361, 156.08519512990594, 153.72888175442944, 152.6868464960981, 144.75247289880713, 136.80148266609189, 129.30889746317897, 124.04134025233166, 120.45689461081149, 120.00656982725471, 114.9839055173072, 111.39859413511788, 110.60187068446173, 109.07424800112425, 108.3953304447505, 105.08486845242193, 103.9872489195145, 98.6448470314621, 96.9197237670819, 95.59807289068968, 94.96220964178778, 91.3100686653627, 89.33774385829827, 199.44496011332626, 348.3695024601081, 150.62987459328417, 166.76879803992128, 319.19832406744933, 128.31757785178957, 498.35205437692326, 259.157793686969, 541.732401646575, 179.39695689231164, 273.27167523611723, 231.1532985909222, 346.9970521554188, 368.4876399843645, 494.6004370048995, 383.7262769164267, 618.1740259518176, 244.36489218201308, 207.42654915872473, 290.09493410009, 281.2371782613403, 304.32882778587106, 320.5256069127108, 215.82339583605912, 239.2286668997739, 201.69091482608306, 180.66618856754192, 243.1769683346795, 199.38574573861578, 160.35373190795704, 154.87500638988828, 136.39149839690415, 107.03363981106676, 91.90691137829891, 86.92782475490513, 75.97337599954416, 70.18753284159439, 69.7208182125992, 66.21695490068426, 59.109486460086885, 56.46846520029365, 56.17453855151092, 54.7160406325669, 54.0445603723273, 53.881636228770496, 53.679452783044695, 53.025885384602276, 52.23123879601425, 49.72492248098663, 49.5253828347506, 48.805765259224884, 48.08517866397093, 47.93817893132388, 47.29071131602628, 46.74614183320058, 45.40962837461273, 44.98167453474714, 185.9712303554878, 85.84909855037974, 695.8780037038933, 354.4729730502588, 196.45507159913026, 684.4440190122658, 85.32602394158364, 340.7948282883484, 275.6598763352012, 392.79408488167593, 90.25826154181557, 207.42289618750303, 136.319824544635, 159.68938766583176, 255.1784513083093, 210.00373740128347, 132.95319235030323, 93.7890109502366, 120.7644589170487, 192.83268541178433, 165.007491162357, 124.14836542838565, 199.49057910990913, 105.29662993867016, 126.05066878159363, 152.6409958210364, 108.69889741341272, 140.10128680297532, 108.04084899888595, 108.7364931383604, 65.31902942062078, 59.19218143653923, 38.0789545389839, 32.60973384580826, 30.889244094629277, 30.5939404021749, 30.389253676921324, 26.80534022194163, 26.488299796502492, 26.331584228708184, 25.426761079982445, 24.82391096365226, 24.475153840375203, 24.18715731467991, 23.81051298553116, 23.498742224516135, 23.13679322276719, 21.939422704621588, 21.693623991260015, 21.13262746326658, 20.644082493457685, 19.79041077757493, 19.781549540711904, 19.693419338783293, 19.399893715136763, 19.171178383153933, 18.53753667097767, 17.3811401982354, 16.840881900529652, 16.179902222241555, 24.890196862597058, 20.51582235423594, 25.22010519098153, 24.320938958676486, 24.55684882530175, 24.028333374904197, 19.763089263345304, 34.2643912019402, 26.672279732757566, 24.492757514878384, 20.629972949045612, 20.44506964829052, 20.183921592005944, 20.091822025304175, 18.759725174128818, 18.51861965367782, 18.158250275398725, 17.601833802846155, 17.499017085197828, 16.911018016568015, 16.42870066020314, 14.146770417883587, 13.234009366718144, 12.531248969149274, 11.905966310335248, 11.378987484878282, 10.170019818002922, 9.677132357403137, 9.595858328191252, 9.454820511276935, 9.370968677270252, 8.899813754147766, 8.604449377819119, 8.573019351334715, 8.185459448243643, 7.899803606684476, 7.567105243880767, 40.67411456032796, 47.80399953418969, 24.24437697918165, 16.157528574561184, 38.38306880260655, 32.8915713863204, 44.53526573404918, 20.422594283293346, 21.207488208459086, 21.96359273470874, 22.50760205467103, 37.14801173535621, 22.0653739121342, 23.46714467094485, 26.95496288351695, 26.02147722069113, 23.6973825419369, 18.30265152695692, 20.88752560967638, 22.798068897876284, 19.626681004979726, 18.20362570852939, 16.63614993139598, 16.444242879523316, 15.281383341058627, 15.03133879410133, 14.534919646875027, 14.078571008756898, 13.781109134887142, 13.521576967890727, 12.6273979195036, 12.293228500251981, 11.215740231070091, 11.182531829826242, 10.984740168468175, 10.917573219644819, 10.667518286045954, 10.33632290849739, 9.9769589590093, 9.782081327647434, 9.606788863038263, 9.457282967235088, 9.19647382036113, 8.83996850544753, 8.740684329780883, 8.620509732737503, 8.283287794935408, 8.272197169880554, 8.258113460946433, 25.291142160076664, 13.367269558503711, 29.876892884500233, 16.052135619519483, 26.104067665528103, 12.869878683254912, 24.98022843130167, 11.134628638902534, 21.186172916959183, 12.912395823488609, 10.807270548378671, 21.973887333830625, 9.709654117717651, 9.626159099880272, 9.623219334568878, 9.181136882421033, 7.936568945705726, 7.430121261471154, 7.254268715430529, 7.040801854471246, 6.780167329299046, 6.685775170935658, 6.5999850523910135, 6.294458428422128, 6.145368639119897, 5.862279184871611, 5.8095066680674154, 5.7811372816360835, 5.717797356339396, 5.503190344757933, 5.343491708467076, 5.022960205048345, 4.9645541246948355, 4.750944300923893, 4.592264755648657, 4.576076807134207, 4.448722101032375, 4.441603263385943, 4.407177936733997, 4.398264220226479, 4.3878578298903905, 6.137373377280246, 6.574612261208632, 9.802389328214227, 5.402882545082267, 4.90432830238256, 5.09112695339327, 2.497121557616933, 2.177087767209117, 1.563814328348175, 0.8936974238373401, 0.7066433291974054, 0.6600667591821817, 0.6589119877417479, 0.6338792436569683, 0.5854836460244589, 0.511575103727437, 0.5004904145347713, 0.44218959761319104, 0.44233315151593117, 0.3861301189084046, 7.5703125059887375, 0.3691060171062897, 0.34382770784180633, 0.33740856780325934, 0.3285907196466285, 0.3025223671089073, 0.3025223671089073, 0.3025223671089073, 0.3021329877936139, 0.3021329877936139, 0.3021329877936139, 0.3021329877936139, 0.2978236027801929, 0.2652258897634391, 0.23434242515579118, 1.8053123994164473, 1.349485475956406, 0.8541665653088366, 0.7220096436482585, 0.6636245417218625, 0.6565688700379267, 0.6531322240875043, 0.6337892361597703, 0.33840628368734227, 0.21083176299117548, 0.1441214504519672, 0.1264783503290139, 0.1264783503290139, 0.1264783503290139, 0.11066549117489345, 0.11066549117489345, 0.07685734332938494, 0.07685734332938494, 0.06866903220047313, 0.06866903220047313, 0.06866903220047313, 0.06856615408986425, 0.06856615408986425, 0.012610232673612316, 0.012610232673612316, 0.011971507185544256, 0.011971507185544256, 0.011971507185544256, 0.011971507185544256, 0.011971507185544256, 0.01269560138494249, 0.01269560138494249, 0.01269560138494249, 0.01269560138494249, 0.01269560138494249, 0.31390424855356536, 0.13740002249617528, 0.1282109012670733, 0.07003390583489322, 0.03690575695229409, 0.03690575695229409, 0.03690575695229409, 0.020038298903139778, 0.020038298903139778, 0.0034928121814791955, 0.0034928121814791955, 0.0034928121814791955, 0.0034928121814791955, 0.0034928121814791955, 0.0034928121814791955, 0.0034928121814791955, 0.0034928121814791955, 0.0034928121814791955, 0.0034928121814791955, 0.0034928121814791955, 0.0034928121814791955, 0.003519580033125261, 0.003519580033125261, 0.003519580033125261, 0.003519580033125261, 0.003519580033125261, 0.003519580033125261, 0.003519580033125261, 0.003519580033125261, 0.0034928121814791955, 0.0038688377899417357, 0.0038688377899417357, 0.0038688377899417357, 0.0038688377899417357, 0.0038688377899417357, 0.0035440969286475673, 0.0035440969286475673, 0.0035440969286475673, 0.0035440969286475673, 0.0035440969286475673, 0.0035440969286475673, 0.0035440969286475673, 0.0035440969286475673, 0.0035440969286475673, 0.0035440969286475673, 0.0035440969286475673, 0.0035440969286475673, 0.0035457595889477863, 0.003523751371687647], \"Total\": [1128.0, 1016.0, 1302.0, 335.0, 495.0, 243.0, 133.0, 381.0, 535.0, 146.0, 117.0, 84.0, 364.0, 87.0, 199.0, 106.0, 78.0, 887.0, 92.0, 645.0, 209.0, 59.0, 160.0, 275.0, 155.0, 216.0, 252.0, 65.0, 59.0, 515.0, 1128.2462352241619, 364.9346524656967, 275.6594108185309, 221.83221042687407, 216.10628955597818, 209.80536353748911, 186.64081429813172, 178.43724142127527, 156.56956241549653, 154.2130751557561, 153.17100545805874, 145.2367138960614, 137.28564958055395, 129.7931278873298, 124.52557285108904, 120.94103399998153, 120.49074886241702, 115.4680976721655, 111.88284096446215, 111.08606785745754, 109.55844746957617, 108.87958337709605, 105.56912884754199, 104.47146856867157, 99.12917825127317, 97.40389665140655, 96.08226841870108, 95.4463664802865, 91.79420933860813, 89.82195077230064, 203.4470671275545, 400.5328838476596, 159.90046366086995, 179.87728807794053, 381.67729745145846, 134.0751184834174, 645.0315426761338, 307.99109422156243, 741.5977112980917, 200.05058596077467, 334.9880384688308, 275.3566692359213, 456.10827529736974, 521.5033587012807, 887.769230852288, 639.2794293610632, 1302.992766667787, 335.10198764431937, 273.7032788083802, 500.4734314040814, 495.24712994125946, 645.4983544998857, 1016.7783289509086, 381.2056084149353, 515.263277934043, 409.4885417823522, 535.5138820501345, 243.6604752988822, 199.8690926039304, 160.8371566247712, 155.3583997282633, 136.87487161175017, 107.51715068689786, 92.39029804197733, 87.41119756684678, 76.45674692727052, 70.67097868830903, 70.20418677406988, 66.70056576864333, 59.59291117889488, 56.95177096676987, 56.65796790223207, 55.19956414471551, 54.52797121899509, 54.36500204731077, 54.16285595307734, 53.5092393343685, 52.71464844903277, 50.208317853167166, 50.00886703435195, 49.28915250795146, 48.56853480806178, 48.4215592033302, 47.77409555334603, 47.229440158088515, 45.89299338558433, 45.465166573637035, 216.67479694659178, 92.7418371499744, 1016.7783289509086, 535.5138820501345, 264.03343226430025, 1302.992766667787, 101.92298542387815, 645.4983544998857, 515.263277934043, 887.769230852288, 117.61163900887644, 409.4885417823522, 220.63387869470907, 287.1012294003861, 639.2794293610632, 500.4734314040814, 238.97516109518966, 133.2209524986516, 208.28981310422756, 495.24712994125946, 381.2056084149353, 222.66829240185638, 741.5977112980917, 172.0669728311227, 288.4424951490071, 521.5033587012807, 195.82549402743885, 645.0315426761338, 264.85617626863996, 456.10827529736974, 65.81470723401452, 59.68765734544226, 38.57475042640977, 33.10533199268691, 31.384992315315387, 31.089527133689174, 30.884625798197103, 27.30113067635867, 26.98398083306932, 26.827443081000233, 25.922479679404947, 25.31968375131102, 24.970730501307113, 24.682857715090368, 24.306055454460612, 23.99436621938973, 23.63252809531101, 22.43506638343531, 22.18969012398949, 21.62832094740235, 21.139913625078073, 20.28601780074483, 20.277285782968264, 20.189216764894592, 19.895724074376698, 19.6671762857531, 19.0330912632743, 17.876727747806356, 17.336512360804132, 16.6757178762168, 29.59229551106522, 24.80520398848103, 64.03908126883194, 59.2872931786028, 75.48474886276892, 97.64001547328249, 45.695233697240866, 34.77223867005971, 27.180227197181328, 25.000860697359027, 21.138161544086202, 20.952825539821706, 20.691957520448714, 20.59953413580126, 19.26787423975059, 19.026433689784497, 18.666057463683092, 18.110082336495925, 18.006887321327085, 17.419260228943223, 16.93716551040726, 14.6545263091144, 13.743357570173266, 13.03948465254578, 12.413877389116136, 11.887050294437866, 10.677810777517605, 10.18513055675643, 10.103893518975394, 9.962565382352667, 9.879207729883868, 9.40821879562962, 9.112578915820247, 9.081046331399445, 8.69341069150342, 8.407690323353519, 8.074807735429102, 43.72333182038903, 52.74976914090568, 27.236863603830276, 18.461539541269328, 59.85738612634694, 56.64399310769045, 87.13423903484033, 29.84111546799254, 31.50238055200267, 33.28054676081548, 36.178912277615765, 92.24350354691273, 43.67976022258, 52.957021888716966, 117.61163900887644, 106.27438996494571, 146.1964406278635, 41.80978455224371, 495.24712994125946, 23.307727727214687, 20.13620406482493, 18.712951655133672, 17.145369704482903, 16.953538350778793, 15.790916056560299, 15.541118932917826, 15.044422726834327, 14.58828752861295, 14.2905840297518, 14.030794043635337, 13.136954202342595, 12.803057050890965, 11.725226005018389, 11.692237626829694, 11.49434218374199, 11.427346793222902, 11.176752371172206, 10.84565645247601, 10.486525820583871, 10.291667459829618, 10.117044215934728, 9.966913284618105, 9.705917916638839, 9.349643702852848, 9.249961952087379, 9.129977456835224, 8.7928075033176, 8.781433585608834, 8.767796937668667, 38.03936081657386, 17.98569585493103, 84.01975857052966, 28.657152991109744, 78.27629654214127, 19.892888019649433, 133.2209524986516, 19.19249684482451, 335.10198764431937, 47.88640082011394, 36.484411867077604, 22.495626785060548, 10.231267447263088, 10.147855431642622, 10.145518786322222, 9.702702054568892, 8.458955017855727, 7.952155684432313, 7.776126249110576, 7.562869713039663, 7.301725944354954, 7.207899154420651, 7.1231765417122475, 6.817450653894198, 6.66738541410539, 6.383794062917737, 6.331170900131228, 6.303074652030689, 6.240143610416251, 6.0251903404073355, 5.865491644841925, 5.544541127288657, 5.486304099408419, 5.272484479519618, 5.1143164761224815, 5.097664829760531, 4.9703895830086156, 4.963922189882445, 4.929736811641054, 4.919825641308421, 4.909641601493478, 10.533974926330577, 12.443685021383757, 59.28771822075949, 44.85009821051959, 18.72817601494362, 5.661578331187974, 3.068903549950654, 2.748973091028994, 2.134863928337256, 1.4828526844811143, 1.2789116931008273, 1.231031060514155, 1.2295876397693355, 1.2043996158095929, 1.1561061818726446, 1.0820268208726203, 1.072097721718274, 1.0125061371451953, 1.0137472017818645, 0.956559214761095, 19.19249684482451, 0.9401928154308269, 0.9142345251997671, 0.9084143438442617, 0.8990548906114689, 0.8730826941370285, 0.8730826941370285, 0.8730826941370285, 0.8724513469754945, 0.8724513469754945, 0.8724513469754945, 0.8724513469754945, 0.8687291989711806, 0.8355959402753285, 0.8047493863610354, 2.3865940758291555, 1.9315950630345384, 1.4354426616292582, 1.3033695387644406, 1.246050071653905, 1.2401402445028575, 1.2362001632867754, 1.2150726769903053, 0.9197287111860023, 0.7990693032594262, 0.7247246110101832, 0.7071431538239915, 0.7071431538239915, 0.7071431538239915, 0.6915884947908153, 0.6915884947908153, 0.6575675562731056, 0.6575675562731056, 0.6492784458518353, 0.6492784458518353, 0.6492784458518353, 0.6492378056175242, 0.6492378056175242, 0.6355653142308813, 0.6355653142308813, 0.6091496592115562, 0.6091496592115562, 0.6100465450508685, 0.6134307416926885, 0.6157744127902202, 0.6625278660065652, 0.6625278660065652, 0.6625278660065652, 0.6625278660065652, 0.6625278660065652, 0.9038598534681098, 0.7264770228800026, 0.7262718119762248, 0.6595509801275592, 0.6260042872097862, 0.6260042872097862, 0.6260042872097862, 0.6091496592115562, 0.6091496592115562, 0.6100465450508685, 0.6134307416926885, 0.6157744127902202, 0.6157744127902202, 0.6157744127902202, 0.6186161103238126, 0.6198842541672741, 0.6205654137290065, 0.6205654137290065, 0.6206768890594001, 0.6209356359909319, 0.6209356359909319, 0.6262023524925292, 0.6262023524925292, 0.6262023524925292, 0.6262023524925292, 0.6262023524925292, 0.6262023524925292, 0.6262023524925292, 0.6262023524925292, 0.6221435361219716, 0.8015771015219374, 0.8015771015219374, 0.8015771015219374, 0.8015771015219374, 0.8015771015219374, 0.8945407054736707, 0.8945407054736707, 0.8945407054736707, 0.8945407054736707, 0.8945407054736707, 0.8945407054736707, 0.8945407054736707, 0.8945407054736707, 0.8945407054736707, 0.8945407054736707, 0.8945407054736707, 0.8945407054736707, 2.403119970154869, 6.027109600784824], \"Category\": [\"Default\", \"Default\", \"Default\", \"Default\", \"Default\", \"Default\", \"Default\", \"Default\", \"Default\", \"Default\", \"Default\", \"Default\", \"Default\", \"Default\", \"Default\", \"Default\", \"Default\", \"Default\", \"Default\", \"Default\", \"Default\", \"Default\", \"Default\", \"Default\", \"Default\", \"Default\", \"Default\", \"Default\", \"Default\", \"Default\", \"Topic1\", \"Topic1\", \"Topic1\", \"Topic1\", \"Topic1\", \"Topic1\", \"Topic1\", \"Topic1\", \"Topic1\", \"Topic1\", \"Topic1\", \"Topic1\", \"Topic1\", \"Topic1\", \"Topic1\", \"Topic1\", \"Topic1\", \"Topic1\", \"Topic1\", \"Topic1\", \"Topic1\", \"Topic1\", \"Topic1\", \"Topic1\", \"Topic1\", \"Topic1\", \"Topic1\", \"Topic1\", \"Topic1\", \"Topic1\", \"Topic1\", \"Topic1\", \"Topic1\", \"Topic1\", \"Topic1\", \"Topic1\", \"Topic1\", \"Topic1\", \"Topic1\", \"Topic1\", \"Topic1\", \"Topic1\", \"Topic1\", \"Topic1\", \"Topic1\", \"Topic1\", \"Topic1\", \"Topic1\", \"Topic1\", \"Topic1\", \"Topic1\", \"Topic1\", \"Topic1\", \"Topic1\", \"Topic1\", \"Topic1\", \"Topic1\", \"Topic2\", \"Topic2\", \"Topic2\", \"Topic2\", \"Topic2\", \"Topic2\", \"Topic2\", \"Topic2\", \"Topic2\", \"Topic2\", \"Topic2\", \"Topic2\", \"Topic2\", \"Topic2\", \"Topic2\", \"Topic2\", \"Topic2\", \"Topic2\", \"Topic2\", \"Topic2\", \"Topic2\", \"Topic2\", \"Topic2\", \"Topic2\", \"Topic2\", \"Topic2\", \"Topic2\", \"Topic2\", \"Topic2\", \"Topic2\", \"Topic2\", \"Topic2\", \"Topic2\", \"Topic2\", \"Topic2\", \"Topic2\", \"Topic2\", \"Topic2\", \"Topic2\", \"Topic2\", \"Topic2\", \"Topic2\", \"Topic2\", \"Topic2\", \"Topic2\", \"Topic2\", \"Topic2\", \"Topic2\", \"Topic2\", \"Topic2\", \"Topic2\", \"Topic2\", \"Topic2\", \"Topic2\", \"Topic2\", \"Topic2\", \"Topic2\", \"Topic2\", \"Topic2\", \"Topic2\", \"Topic3\", \"Topic3\", \"Topic3\", \"Topic3\", \"Topic3\", \"Topic3\", \"Topic3\", \"Topic3\", \"Topic3\", \"Topic3\", \"Topic3\", \"Topic3\", \"Topic3\", \"Topic3\", \"Topic3\", \"Topic3\", \"Topic3\", \"Topic3\", \"Topic3\", \"Topic3\", \"Topic3\", \"Topic3\", \"Topic3\", \"Topic3\", \"Topic3\", \"Topic3\", \"Topic3\", \"Topic3\", \"Topic3\", \"Topic3\", \"Topic3\", \"Topic3\", \"Topic3\", \"Topic3\", \"Topic3\", \"Topic3\", \"Topic3\", \"Topic4\", \"Topic4\", \"Topic4\", \"Topic4\", \"Topic4\", \"Topic4\", \"Topic4\", \"Topic4\", \"Topic4\", \"Topic4\", \"Topic4\", \"Topic4\", \"Topic4\", \"Topic4\", \"Topic4\", \"Topic4\", \"Topic4\", \"Topic4\", \"Topic4\", \"Topic4\", \"Topic4\", \"Topic4\", \"Topic4\", \"Topic4\", \"Topic4\", \"Topic4\", \"Topic4\", \"Topic4\", \"Topic4\", \"Topic4\", \"Topic4\", \"Topic4\", \"Topic4\", \"Topic4\", \"Topic4\", \"Topic4\", \"Topic4\", \"Topic4\", \"Topic4\", \"Topic4\", \"Topic4\", \"Topic4\", \"Topic4\", \"Topic4\", \"Topic4\", \"Topic4\", \"Topic4\", \"Topic4\", \"Topic4\", \"Topic5\", \"Topic5\", \"Topic5\", \"Topic5\", \"Topic5\", \"Topic5\", \"Topic5\", \"Topic5\", \"Topic5\", \"Topic5\", \"Topic5\", \"Topic5\", \"Topic5\", \"Topic5\", \"Topic5\", \"Topic5\", \"Topic5\", \"Topic5\", \"Topic5\", \"Topic5\", \"Topic5\", \"Topic5\", \"Topic5\", \"Topic5\", \"Topic5\", \"Topic5\", \"Topic5\", \"Topic5\", \"Topic5\", \"Topic5\", \"Topic5\", \"Topic5\", \"Topic5\", \"Topic5\", \"Topic5\", \"Topic5\", \"Topic5\", \"Topic5\", \"Topic5\", \"Topic5\", \"Topic5\", \"Topic6\", \"Topic6\", \"Topic6\", \"Topic6\", \"Topic6\", \"Topic6\", \"Topic6\", \"Topic6\", \"Topic6\", \"Topic6\", \"Topic6\", \"Topic6\", \"Topic6\", \"Topic6\", \"Topic6\", \"Topic6\", \"Topic6\", \"Topic6\", \"Topic6\", \"Topic6\", \"Topic6\", \"Topic6\", \"Topic6\", \"Topic6\", \"Topic6\", \"Topic6\", \"Topic6\", \"Topic6\", \"Topic6\", \"Topic6\", \"Topic6\", \"Topic6\", \"Topic6\", \"Topic6\", \"Topic6\", \"Topic7\", \"Topic7\", \"Topic7\", \"Topic7\", \"Topic7\", \"Topic7\", \"Topic7\", \"Topic7\", \"Topic7\", \"Topic7\", \"Topic7\", \"Topic7\", \"Topic7\", \"Topic7\", \"Topic7\", \"Topic7\", \"Topic7\", \"Topic7\", \"Topic7\", \"Topic7\", \"Topic7\", \"Topic7\", \"Topic7\", \"Topic7\", \"Topic7\", \"Topic7\", \"Topic7\", \"Topic7\", \"Topic7\", \"Topic7\", \"Topic8\", \"Topic8\", \"Topic8\", \"Topic8\", \"Topic8\", \"Topic8\", \"Topic8\", \"Topic8\", \"Topic8\", \"Topic8\", \"Topic8\", \"Topic8\", \"Topic8\", \"Topic8\", \"Topic8\", \"Topic8\", \"Topic8\", \"Topic8\", \"Topic8\", \"Topic8\", \"Topic8\", \"Topic8\", \"Topic8\", \"Topic8\", \"Topic8\", \"Topic8\", \"Topic8\", \"Topic8\", \"Topic8\", \"Topic8\", \"Topic8\", \"Topic8\", \"Topic8\", \"Topic8\", \"Topic8\", \"Topic9\", \"Topic9\", \"Topic9\", \"Topic9\", \"Topic9\", \"Topic9\", \"Topic9\", \"Topic9\", \"Topic9\", \"Topic9\", \"Topic9\", \"Topic9\", \"Topic9\", \"Topic9\", \"Topic9\", \"Topic9\", \"Topic9\", \"Topic9\", \"Topic9\", \"Topic9\", \"Topic9\", \"Topic9\", \"Topic9\", \"Topic9\", \"Topic9\", \"Topic9\", \"Topic9\", \"Topic9\", \"Topic9\", \"Topic9\", \"Topic9\", \"Topic9\", \"Topic9\", \"Topic9\", \"Topic9\", \"Topic9\", \"Topic9\", \"Topic9\", \"Topic9\", \"Topic9\", \"Topic9\", \"Topic9\", \"Topic9\", \"Topic9\", \"Topic9\", \"Topic9\", \"Topic9\", \"Topic9\", \"Topic9\"], \"logprob\": [30.0, 29.0, 28.0, 27.0, 26.0, 25.0, 24.0, 23.0, 22.0, 21.0, 20.0, 19.0, 18.0, 17.0, 16.0, 15.0, 14.0, 13.0, 12.0, 11.0, 10.0, 9.0, 8.0, 7.0, 6.0, 5.0, 4.0, 3.0, 2.0, 1.0, -3.5682, -4.6978, -4.9788, -5.1964, -5.2227, -5.2523, -5.3696, -5.4147, -5.5458, -5.561, -5.5678, -5.6212, -5.6777, -5.734, -5.7756, -5.8049, -5.8086, -5.8514, -5.8831, -5.8902, -5.9042, -5.9104, -5.9414, -5.9519, -6.0047, -6.0223, -6.036, -6.0427, -6.0819, -6.1038, -5.3006, -4.7429, -5.5814, -5.4796, -4.8304, -5.7417, -4.3849, -5.0387, -4.3014, -5.4066, -4.9857, -5.1531, -4.7469, -4.6868, -4.3924, -4.6463, -4.1694, -5.0975, -5.2614, -4.926, -4.957, -4.8781, -4.8262, -5.2217, -5.1188, -5.2894, -5.3995, -4.5944, -4.793, -5.0108, -5.0456, -5.1727, -5.415, -5.5674, -5.6231, -5.7578, -5.837, -5.8437, -5.8953, -6.0088, -6.0545, -6.0597, -6.086, -6.0984, -6.1014, -6.1052, -6.1174, -6.1325, -6.1817, -6.1857, -6.2003, -6.2152, -6.2183, -6.2319, -6.2435, -6.2725, -6.2819, -4.8626, -5.6356, -3.543, -4.2176, -4.8078, -3.5596, -5.6417, -4.2569, -4.469, -4.1149, -5.5855, -4.7534, -5.1732, -5.015, -4.5462, -4.7411, -5.1982, -5.5471, -5.2944, -4.8264, -4.9822, -5.2667, -4.7924, -5.4314, -5.2515, -5.0601, -5.3996, -5.1458, -5.4057, -5.3993, -4.4214, -4.5199, -4.961, -5.1161, -5.1703, -5.1799, -5.1866, -5.3121, -5.324, -5.3299, -5.3649, -5.3889, -5.403, -5.4149, -5.4306, -5.4437, -5.4593, -5.5124, -5.5237, -5.5499, -5.5733, -5.6155, -5.6159, -5.6204, -5.6354, -5.6473, -5.6809, -5.7453, -5.7769, -5.8169, -5.3862, -5.5795, -5.373, -5.4094, -5.3997, -5.4215, -5.6169, -4.4606, -4.711, -4.7963, -4.9679, -4.9769, -4.9898, -4.9943, -5.0629, -5.0759, -5.0955, -5.1267, -5.1325, -5.1667, -5.1956, -5.3452, -5.4119, -5.4664, -5.5176, -5.5629, -5.6752, -5.7249, -5.7333, -5.7481, -5.757, -5.8086, -5.8424, -5.846, -5.8923, -5.9278, -5.9708, -4.2891, -4.1275, -4.8065, -5.2123, -4.347, -4.5014, -4.1984, -4.978, -4.9403, -4.9053, -4.8808, -4.3797, -4.9006, -4.8391, -4.7005, -4.7357, -4.8293, -5.0876, -4.9555, -4.6887, -4.8385, -4.9137, -5.0038, -5.0154, -5.0887, -5.1052, -5.1388, -5.1707, -5.192, -5.2111, -5.2795, -5.3063, -5.398, -5.401, -5.4188, -5.425, -5.4481, -5.4797, -5.5151, -5.5348, -5.5529, -5.5686, -5.5965, -5.6361, -5.6474, -5.6612, -5.7011, -5.7024, -5.7042, -4.5849, -5.2225, -4.4183, -5.0395, -4.5533, -5.2605, -4.5973, -5.4053, -4.762, -5.2572, -5.4351, -4.0579, -4.8746, -4.8833, -4.8836, -4.9306, -5.0763, -5.1422, -5.1662, -5.196, -5.2338, -5.2478, -5.2607, -5.3081, -5.3321, -5.3792, -5.3883, -5.3932, -5.4042, -5.4424, -5.4719, -5.5337, -5.5454, -5.5894, -5.6234, -5.6269, -5.6552, -5.6568, -5.6645, -5.6666, -5.6689, -5.3334, -5.2646, -4.8651, -5.4608, -5.5576, -3.6868, -4.3991, -4.5363, -4.8671, -5.4267, -5.6615, -5.7297, -5.7314, -5.7702, -5.8496, -5.9845, -6.0064, -6.1303, -6.13, -6.2659, -3.29, -6.3109, -6.3819, -6.4007, -6.4272, -6.5099, -6.5099, -6.5099, -6.5112, -6.5112, -6.5112, -6.5112, -6.5255, -6.6414, -6.7652, -3.9991, -4.2901, -4.7475, -4.9156, -4.9999, -5.0106, -5.0158, -5.0459, -5.6734, -6.1466, -6.527, -6.6575, -6.6575, -6.6575, -6.7911, -6.7911, -7.1557, -7.1557, -7.2683, -7.2683, -7.2683, -7.2698, -7.2698, -8.9631, -8.9631, -9.0151, -9.0151, -9.0151, -9.0151, -9.0151, -8.9564, -8.9564, -8.9564, -8.9564, -8.9564, -4.4514, -5.2776, -5.3468, -5.9515, -6.5921, -6.5921, -6.5921, -7.2028, -7.2028, -8.9498, -8.9498, -8.9498, -8.9498, -8.9498, -8.9498, -8.9498, -8.9498, -8.9498, -8.9498, -8.9498, -8.9498, -8.9421, -8.9421, -8.9421, -8.9421, -8.9421, -8.9421, -8.9421, -8.9421, -8.9498, -8.8475, -8.8475, -8.8475, -8.8475, -8.8475, -8.9352, -8.9352, -8.9352, -8.9352, -8.9352, -8.9352, -8.9352, -8.9352, -8.9352, -8.9352, -8.9352, -8.9352, -8.9347, -8.9409], \"loglift\": [30.0, 29.0, 28.0, 27.0, 26.0, 25.0, 24.0, 23.0, 22.0, 21.0, 20.0, 19.0, 18.0, 17.0, 16.0, 15.0, 14.0, 13.0, 12.0, 11.0, 10.0, 9.0, 8.0, 7.0, 6.0, 5.0, 4.0, 3.0, 2.0, 1.0, 0.6487, 0.6478, 0.6473, 0.6469, 0.6469, 0.6468, 0.6465, 0.6464, 0.646, 0.646, 0.6459, 0.6458, 0.6456, 0.6454, 0.6452, 0.6451, 0.6451, 0.6449, 0.6448, 0.6447, 0.6447, 0.6446, 0.6445, 0.6445, 0.6442, 0.6441, 0.644, 0.644, 0.6438, 0.6437, 0.6292, 0.5096, 0.5894, 0.5734, 0.4703, 0.6052, 0.3911, 0.4765, 0.3351, 0.5401, 0.4455, 0.4741, 0.3757, 0.3018, 0.0641, 0.1387, -0.0966, 0.3333, 0.3718, 0.1037, 0.0832, -0.1028, -0.5053, 0.0802, -0.1182, -0.0591, -0.4375, 1.1551, 1.1547, 1.1541, 1.154, 1.1536, 1.1526, 1.1518, 1.1515, 1.1507, 1.1502, 1.1502, 1.1498, 1.1489, 1.1486, 1.1485, 1.1483, 1.1482, 1.1482, 1.1481, 1.148, 1.1479, 1.1474, 1.1474, 1.1472, 1.1471, 1.1471, 1.1469, 1.1468, 1.1465, 1.1464, 1.0043, 1.0799, 0.7779, 0.7445, 0.8614, 0.5133, 0.9794, 0.5183, 0.5316, 0.3417, 0.8924, 0.4769, 0.6756, 0.5705, 0.2387, 0.2887, 0.5707, 0.8061, 0.612, 0.2139, 0.3197, 0.5729, -0.156, 0.666, 0.3293, -0.0715, 0.5684, -0.3698, 0.2604, -0.2767, 2.637, 2.6363, 2.6317, 2.6295, 2.6287, 2.6285, 2.6284, 2.6263, 2.6261, 2.6259, 2.6253, 2.6248, 2.6245, 2.6243, 2.624, 2.6237, 2.6234, 2.6223, 2.622, 2.6214, 2.6209, 2.6199, 2.6198, 2.6197, 2.6194, 2.619, 2.6182, 2.6165, 2.6156, 2.6144, 2.4716, 2.4547, 1.7127, 1.7535, 1.5217, 1.2425, 1.8064, 3.2359, 3.2318, 3.2301, 3.2263, 3.2261, 3.2258, 3.2257, 3.2239, 3.2236, 3.223, 3.2222, 3.222, 3.221, 3.2201, 3.2154, 3.2129, 3.2109, 3.2088, 3.2069, 3.2019, 3.1995, 3.199, 3.1983, 3.1978, 3.1951, 3.1932, 3.1931, 3.1904, 3.1883, 3.1857, 3.1783, 3.1522, 3.1342, 3.1173, 2.8063, 2.7071, 2.5795, 2.8714, 2.8549, 2.835, 2.776, 2.3411, 2.5677, 2.4367, 1.7774, 1.8435, 1.431, 2.4245, 0.0847, 3.4078, 3.4043, 3.4023, 3.3998, 3.3994, 3.3971, 3.3966, 3.3955, 3.3944, 3.3936, 3.393, 3.3904, 3.3893, 3.3855, 3.3854, 3.3846, 3.3843, 3.3833, 3.3818, 3.3801, 3.3792, 3.3782, 3.3774, 3.376, 3.3739, 3.3733, 3.3725, 3.3702, 3.3702, 3.37, 3.0218, 3.1332, 2.396, 2.8504, 2.3318, 2.9945, 1.756, 2.8855, 0.6688, 2.1193, 2.2133, 4.074, 4.0452, 4.0447, 4.0447, 4.0423, 4.0338, 4.0296, 4.028, 4.026, 4.0234, 4.0223, 4.0212, 4.0177, 4.016, 4.0123, 4.0115, 4.0111, 4.0101, 4.0069, 4.0043, 3.9987, 3.9976, 3.9934, 3.9898, 3.9896, 3.9866, 3.9863, 3.9855, 3.9855, 3.9852, 3.5573, 3.4595, 2.2977, 1.9811, 2.7576, 5.8248, 5.7248, 5.6978, 5.6197, 5.4247, 5.3378, 5.3077, 5.3072, 5.2891, 5.2506, 5.1819, 5.1692, 5.1026, 5.1017, 5.0238, 5.0007, 4.996, 4.9531, 4.9406, 4.9245, 4.8711, 4.8711, 4.8711, 4.8706, 4.8706, 4.8706, 4.8706, 4.8605, 4.7834, 4.6973, 6.3763, 6.2968, 6.1363, 6.0648, 6.0254, 6.0195, 6.0174, 6.0046, 5.6556, 5.323, 5.0403, 4.9343, 4.9343, 4.9343, 4.8229, 4.8229, 4.5088, 4.5088, 4.4089, 4.4089, 4.4089, 4.4074, 4.4074, 2.7354, 2.7354, 2.7259, 2.7259, 2.7244, 2.7189, 2.7151, 2.7006, 2.7006, 2.7006, 2.7006, 2.7006, 6.895, 6.2873, 6.2183, 5.71, 5.1216, 5.1216, 5.1216, 4.5382, 4.5382, 2.7897, 2.7842, 2.7804, 2.7804, 2.7804, 2.7758, 2.7737, 2.7726, 2.7726, 2.7725, 2.7721, 2.7721, 2.7712, 2.7712, 2.7712, 2.7712, 2.7712, 2.7712, 2.7712, 2.7712, 2.7701, 2.6189, 2.6189, 2.6189, 2.6189, 2.6189, 2.4215, 2.4215, 2.4215, 2.4215, 2.4215, 2.4215, 2.4215, 2.4215, 2.4215, 2.4215, 2.4215, 2.4215, 1.4338, 0.5081]}, \"token.table\": {\"Topic\": [1, 4, 1, 4, 1, 4, 4, 1, 6, 6, 1, 4, 5, 1, 5, 6, 3, 6, 5, 1, 4, 1, 5, 1, 2, 1, 2, 1, 1, 2, 1, 2, 4, 7, 6, 4, 4, 8, 3, 2, 4, 3, 4, 1, 2, 3, 6, 3, 6, 1, 2, 5, 2, 2, 1, 4, 5, 5, 5, 1, 3, 2, 4, 3, 3, 1, 5, 3, 1, 3, 4, 3, 3, 5, 6, 4, 4, 6, 5, 1, 5, 4, 5, 3, 4, 5, 1, 4, 5, 1, 2, 7, 4, 6, 3, 5, 3, 3, 5, 4, 5, 4, 2, 3, 1, 2, 1, 5, 1, 2, 1, 2, 5, 6, 1, 5, 6, 3, 3, 3, 6, 5, 2, 6, 1, 3, 1, 2, 1, 2, 4, 6, 1, 2, 4, 1, 7, 4, 3, 6, 6, 1, 2, 1, 4, 2, 1, 2, 2, 4, 1, 2, 3, 1, 2, 5, 7, 2, 2, 3, 1, 2, 5, 2, 2, 2, 1, 4, 1, 3, 2, 1, 2, 2, 4, 5, 2, 6, 2, 3, 2, 3, 6, 6, 6, 1, 2, 5, 8, 2, 2, 1, 2, 1, 1, 2, 6, 4, 1, 2, 5, 1, 2, 1, 3, 4, 1, 1, 2, 4, 6, 4, 7, 1, 4, 1, 3, 5, 1, 1, 5, 1, 2, 7, 3, 2, 1, 2, 1, 2, 1, 2, 3, 4, 1, 2, 1, 1, 5, 8, 3, 6, 2, 1, 1, 5, 2, 4, 5, 1, 2, 7, 4, 3, 2, 1, 2, 4, 2, 4, 1, 2, 3, 5, 6, 3, 2, 2, 4, 4, 5, 1, 4, 1, 7, 6, 6, 1, 5, 8, 1, 2, 6, 1, 7, 6, 5, 7, 3, 5, 7, 2, 4, 4, 5, 7, 1, 6, 4, 2, 4, 5, 2, 4, 5, 5, 6, 1, 2, 5, 3, 4, 1, 2, 1, 2, 3, 3, 1, 3, 8, 3, 8, 4, 7, 4, 2, 6, 2, 4, 5, 1, 1, 2, 1, 2, 1, 2, 1, 2, 1, 2, 3, 5, 8, 2, 6, 2, 3, 6, 1, 1, 2, 3, 4, 8, 6, 4, 5, 1, 2, 4, 2, 1, 2, 1, 2, 6, 2, 4, 1, 1, 2, 2, 6, 3, 1, 2, 4], \"Freq\": [0.5476138756620441, 0.43431445311127637, 0.35932534124424803, 0.6357294498936696, 0.3305234159479435, 0.661046831895887, 0.9933691798867664, 0.9919215030971447, 0.8800943790583563, 0.9808412610436141, 0.3140577154608503, 0.10468590515361678, 0.5583248274859561, 0.9954871069093696, 0.94375579120715, 0.9001911460478991, 0.9549790663044888, 0.9275766636327869, 0.9381482280420017, 0.09478714469145738, 0.9099565890379909, 0.9957793982468361, 0.9915213432554392, 0.8149544719502022, 0.1820960541720232, 0.4176872536558736, 0.5809213527857552, 0.9976078784447342, 0.8389119487862587, 0.15979275214976357, 0.5484399670996438, 0.37198536898932366, 0.07630469107473306, 0.6743758233474986, 0.9773960119354564, 0.964317185619996, 0.9708957429887072, 0.8380143151512499, 0.9859007419024187, 0.3508338963494532, 0.6348422886323439, 0.11014484059677543, 0.8811587247742034, 0.5616370774920391, 0.43682883804936373, 0.4018102347823645, 0.5625343286953103, 0.9876211979319804, 0.8114023431341043, 0.9979193048841836, 0.9958509294460653, 0.9536046705164378, 0.9955020561130506, 0.9932860841797978, 0.9992252146545688, 0.6666162884209392, 0.3174363278194949, 0.9796660493968036, 0.922028098881654, 0.5933876509014621, 0.39038661243517236, 0.7652303867069439, 0.22956911601208316, 0.9914514297888093, 0.959478933306942, 0.9988835650876133, 0.9110129823347453, 0.9906278303364593, 0.5689871327120472, 0.43768240977849787, 0.9202372099846691, 0.9635346304477271, 0.9805893853503691, 0.9884309870119596, 0.9483195293266289, 0.9759312265025701, 0.9253767526454455, 0.8147234207041159, 0.9596739831553838, 0.997438849779319, 0.98576366070456, 0.9446681022375669, 0.9729769751073439, 0.9884790696096105, 0.9545252005267346, 0.9499132251905225, 0.9913479363858513, 0.93652155936826, 0.9272693296294331, 0.9991437710614557, 0.9976930778838469, 0.9241915086666075, 0.959966950359243, 0.977967860607036, 0.9971203443106679, 0.9626031483111771, 0.9709491574066079, 0.9806077514548147, 0.9372761483684023, 0.866666615979304, 0.108333326997413, 0.9566104058061182, 0.833963012822881, 0.15698127300195405, 0.46384054566875915, 0.5356484962534624, 0.7308964424258586, 0.2714758214724618, 0.9284107059010094, 0.07227149207612649, 0.3835715763116059, 0.6102275077684639, 0.9029876896681405, 0.985429883916006, 0.9983701511159858, 0.9651814688985054, 0.852443461307624, 0.987408263136977, 0.9851003462094657, 0.9691568414290572, 0.9586774487765839, 0.9932358619138718, 0.9952958250396658, 0.9476919979960794, 0.9443374743443722, 0.056285015027148014, 0.5575773329345775, 0.44268260978442214, 0.6583380205736283, 0.28951009338478834, 0.05155659197263354, 0.9827076387913533, 0.588249615590226, 0.25308413693998094, 0.1641626834205282, 0.9959460865676119, 0.7819148150685973, 0.9910752210216996, 0.9863253008348303, 0.9113603455811251, 0.804765890720938, 0.1384563429746502, 0.8584293264428312, 0.5501104644837427, 0.43052123307423346, 0.9864430766388639, 0.47095395035597076, 0.5282740035242961, 0.48201488261355496, 0.5164445170859517, 0.44235268607257733, 0.557294722611121, 0.9611252661888967, 0.8409334063850585, 0.15584866218719232, 0.9841857128705743, 0.8831459546283175, 0.9936082379369694, 0.9273053310441537, 0.07547834089894274, 0.10508857456293673, 0.7055947149225752, 0.187658168862387, 0.999822690757104, 0.9957755516515381, 0.9947950048214028, 0.9995081607472112, 0.9777915170378536, 0.5903457237381812, 0.4048084962776099, 0.997091529957793, 0.9949027438552263, 0.990483151308013, 0.9940260742756294, 0.9818234478463684, 0.9970472295520458, 0.99050559790224, 0.961516332730645, 0.9956516908512082, 0.9713570821943148, 0.9894968541785192, 0.37972370619581175, 0.5695855592937177, 0.901787882028942, 0.8802644563038022, 0.2537557438291841, 0.7423302356794041, 0.9569925641816018, 0.8089304869053141, 0.9837967512648848, 0.9900506424813684, 0.7308544669741279, 0.26833955521743813, 0.9963622404846156, 0.6243018659306436, 0.2675579425417044, 0.1114824760590435, 0.9934638807732616, 0.7281365345376108, 0.20590746263563586, 0.062667488628237, 0.4742927327067551, 0.5249453546463114, 0.9938892921355721, 0.06861325235514286, 0.937714448853619, 0.9962484689429337, 0.4932982962618898, 0.5055086501297583, 0.9666601033550563, 0.9519163791066562, 0.9033817751341717, 0.8132807842697533, 0.8322514168408787, 0.9907356635748892, 0.6756331678696827, 0.3311927293478837, 0.9407951113445346, 0.9986968695438417, 0.9958533830237609, 0.9124298905270014, 0.4442731036226042, 0.5566180263777455, 0.8302892054044735, 0.9723347384256529, 0.9903174241184464, 0.9965665907505734, 0.9941335467696506, 0.7562934609377507, 0.2411370455163843, 0.9781414045906774, 0.019661133760616633, 0.9585583461426797, 0.9939214889004627, 0.5889989132885893, 0.40776847843056185, 0.9953233790164375, 0.6427059648674206, 0.35705886937078923, 0.5177068522990521, 0.9889700291197304, 0.9457432960824435, 0.9963846789769514, 0.9975496066976121, 0.9997817540032713, 0.9895748892602386, 0.48783923278796676, 0.40111225807010603, 0.09756784655759336, 0.8688425196378129, 0.12982704316427088, 0.9327507929009293, 0.9110042268648396, 0.9933815422541701, 0.9805418361342968, 0.954688695768941, 0.037292527178474255, 0.9986106860478698, 0.3015973048880617, 0.6702162330845816, 0.5666233529410406, 0.43283728349662826, 0.8465965452149444, 0.16125648480284657, 0.8058144038101305, 0.98773323531682, 0.9972893621828816, 0.9897687260667212, 0.9440832108648483, 0.9515098311576602, 0.9867971802821699, 0.4060448202561011, 0.582586046454406, 0.9921092371551187, 0.8649724529456404, 0.9711567614964278, 0.9398799430033113, 0.6643134933192066, 0.3321567466596033, 0.7672421138121528, 0.7056522146212906, 0.29338257836156917, 0.9958191627178317, 0.9908491102093263, 0.9368278574820947, 0.985656841272779, 0.5731406439160772, 0.4168295592116925, 0.9968182771068366, 0.997805252964332, 0.727544407956122, 0.99129397709892, 0.9860973641192887, 0.9459115018744364, 0.9716598441440074, 0.8123271882208544, 0.8264780880510044, 0.16866899756142947, 0.9969719161762983, 0.7527683765240879, 0.24464972237032856, 0.9626035265123353, 0.41113448819317633, 0.2740896587954509, 0.301498624674996, 0.7227966104206008, 0.22239895705249257, 0.8947736850673249, 0.09997471341534356, 0.9619006307357139, 0.9982613826195352, 0.987645767805116, 0.44011654709749315, 0.5568821616335627, 0.579451339077887, 0.41960269381502163, 0.9509570341857481, 0.9732348527097907, 0.9961613777459736, 0.9660766611302303, 0.6966492126303245, 0.9644139105975327, 0.8063604132134878, 0.9665591078193114, 0.6516985520878161, 0.9553362356920867, 0.9969932170264724, 0.8999029795557517, 0.9882941741951127, 0.35188455256399515, 0.6534998833331338, 0.9922190676823412, 0.6006762964104667, 0.39888660308507556, 0.3379931054393374, 0.6610472890913007, 0.3807212224022528, 0.6164057886512665, 0.3157030307001147, 0.684514982452585, 0.7720552671484511, 0.21704364939916296, 0.009301870688535555, 0.9098345434016988, 0.8229960387858994, 0.9832881234312237, 0.8130369431011392, 0.988387019044392, 0.8448144886445846, 0.13517031818313352, 0.9946089462539385, 0.4199098064585922, 0.32773448308963293, 0.24580086231722473, 0.9897174768538209, 0.8025359676539177, 0.9776477508468242, 0.3154627139468538, 0.6572139873892788, 0.5673934951088541, 0.38970442902494246, 0.04240307258820617, 0.9951420097862579, 0.4435607429417219, 0.5565431963325378, 0.995927082642856, 0.9951900633192572, 0.9255745855215275, 0.4807718699230444, 0.5036657684908084, 0.9986183068099713, 0.7607842672307705, 0.23897834330880113, 0.6941412762047418, 0.26697741392490065, 0.9873741017284836, 0.8357845806654777, 0.12052066053483378, 0.044540244110699435], \"Term\": [\"10\", \"10\", \"12\", \"12\", \"16\", \"16\", \"17\", \"2\", \"2018\", \"2020\", \"9\", \"9\", \"9\", \"able\", \"account\", \"acted\", \"acting\", \"addiction\", \"affect\", \"age\", \"age\", \"ago\", \"alarm\", \"also\", \"also\", \"always\", \"always\", \"anxiety\", \"anyone\", \"anyone\", \"anything\", \"anything\", \"anything\", \"appear\", \"argument\", \"arousal\", \"aroused\", \"asleep\", \"attention\", \"attracted\", \"attracted\", \"attraction\", \"attraction\", \"bad\", \"bad\", \"beat\", \"beat\", \"bed\", \"bedroom\", \"better\", \"body\", \"brought\", \"butter\", \"cant\", \"cause\", \"character\", \"character\", \"chat\", \"cheating\", \"check\", \"check\", \"child\", \"child\", \"comment\", \"common\", \"compulsion\", \"confession\", \"confused\", \"contamination\", \"contamination\", \"context\", \"conversation\", \"cope\", \"cost\", \"couch\", \"count\", \"counting\", \"dark\", \"dating\", \"day\", \"dealt\", \"death\", \"deleted\", \"demon\", \"denial\", \"detail\", \"diagnosed\", \"disgust\", \"doesnt\", \"done\", \"dont\", \"dorm\", \"doubt\", \"dream\", \"driving\", \"dying\", \"e\", \"easier\", \"edit\", \"emotion\", \"emotion\", \"essentially\", \"etc\", \"etc\", \"even\", \"even\", \"event\", \"event\", \"every\", \"every\", \"everything\", \"everything\", \"evidence\", \"exercise\", \"experience\", \"experiencing\", \"explanation\", \"exposure\", \"extremely\", \"eye\", \"fake\", \"false\", \"family\", \"fantasy\", \"fear\", \"fear\", \"feel\", \"feel\", \"feeling\", \"feeling\", \"feeling\", \"fell\", \"felt\", \"felt\", \"felt\", \"find\", \"flash\", \"flashback\", \"floor\", \"following\", \"forum\", \"friend\", \"friend\", \"fuck\", \"fuck\", \"fucking\", \"get\", \"get\", \"girl\", \"girl\", \"go\", \"go\", \"god\", \"going\", \"going\", \"google\", \"groinal\", \"hand\", \"happen\", \"happen\", \"happened\", \"happened\", \"happened\", \"happens\", \"hate\", \"head\", \"help\", \"hocd\", \"honestly\", \"honestly\", \"horrible\", \"hour\", \"house\", \"hurt\", \"hypochondria\", \"id\", \"idk\", \"illegal\", \"im\", \"ima\", \"image\", \"including\", \"including\", \"interesting\", \"interview\", \"intrusive\", \"intrusive\", \"jacked\", \"judge\", \"kid\", \"kill\", \"know\", \"know\", \"last\", \"later\", \"later\", \"later\", \"level\", \"life\", \"life\", \"life\", \"like\", \"like\", \"long\", \"looked\", \"looked\", \"lot\", \"make\", \"make\", \"male\", \"manageable\", \"map\", \"marked\", \"mary\", \"masturbating\", \"may\", \"may\", \"meet\", \"memory\", \"mental\", \"messing\", \"mind\", \"mind\", \"miscarriage\", \"mistake\", \"mom\", \"month\", \"move\", \"much\", \"much\", \"need\", \"need\", \"negative\", \"nervous\", \"never\", \"never\", \"new\", \"next\", \"next\", \"nightmare\", \"note\", \"nowhere\", \"obsessing\", \"obsession\", \"ocd\", \"odd\", \"old\", \"old\", \"old\", \"one\", \"one\", \"ordered\", \"page\", \"paper\", \"parent\", \"past\", \"past\", \"pedo\", \"pedophile\", \"pedophile\", \"people\", \"people\", \"perfect\", \"perfect\", \"perform\", \"period\", \"person\", \"phone\", \"picture\", \"pill\", \"play\", \"pocd\", \"pocd\", \"post\", \"pretending\", \"promise\", \"pulling\", \"question\", \"question\", \"racing\", \"really\", \"really\", \"red\", \"relationship\", \"relieve\", \"remembered\", \"response\", \"response\", \"ritual\", \"rocd\", \"romantic\", \"room\", \"rule\", \"scene\", \"schizophrenic\", \"scroll\", \"second\", \"second\", \"sent\", \"sexual\", \"sexual\", \"shift\", \"show\", \"show\", \"show\", \"simply\", \"simply\", \"since\", \"since\", \"site\", \"skin\", \"smoking\", \"someone\", \"someone\", \"something\", \"something\", \"space\", \"speak\", \"still\", \"street\", \"subconsciously\", \"suicidal\", \"swear\", \"talked\", \"teacher\", \"teen\", \"telling\", \"ten\", \"terrible\", \"text\", \"text\", \"therapist\", \"thing\", \"thing\", \"think\", \"think\", \"thinking\", \"thinking\", \"thought\", \"thought\", \"time\", \"time\", \"time\", \"title\", \"total\", \"touch\", \"toy\", \"trigger\", \"turned\", \"turned\", \"two\", \"use\", \"use\", \"use\", \"usual\", \"vivid\", \"walked\", \"wanna\", \"wanna\", \"want\", \"want\", \"want\", \"wash\", \"way\", \"way\", \"week\", \"weird\", \"wet\", \"woman\", \"woman\", \"work\", \"would\", \"would\", \"write\", \"write\", \"writing\", \"year\", \"year\", \"year\"]}, \"R\": 30, \"lambda.step\": 0.01, \"plot.opts\": {\"xlab\": \"PC1\", \"ylab\": \"PC2\"}, \"topic.order\": [5, 1, 2, 6, 8, 4, 7, 3, 9]};\n",
       "\n",
       "function LDAvis_load_lib(url, callback){\n",
       "  var s = document.createElement('script');\n",
       "  s.src = url;\n",
       "  s.async = true;\n",
       "  s.onreadystatechange = s.onload = callback;\n",
       "  s.onerror = function(){console.warn(\"failed to load library \" + url);};\n",
       "  document.getElementsByTagName(\"head\")[0].appendChild(s);\n",
       "}\n",
       "\n",
       "if(typeof(LDAvis) !== \"undefined\"){\n",
       "   // already loaded: just create the visualization\n",
       "   !function(LDAvis){\n",
       "       new LDAvis(\"#\" + \"ldavis_el168773472874357243845514663742\", ldavis_el168773472874357243845514663742_data);\n",
       "   }(LDAvis);\n",
       "}else if(typeof define === \"function\" && define.amd){\n",
       "   // require.js is available: use it to load d3/LDAvis\n",
       "   require.config({paths: {d3: \"https://d3js.org/d3.v5\"}});\n",
       "   require([\"d3\"], function(d3){\n",
       "      window.d3 = d3;\n",
       "      LDAvis_load_lib(\"https://cdn.jsdelivr.net/gh/bmabey/pyLDAvis@3.2.2/pyLDAvis/js/ldavis.v3.0.0.js\", function(){\n",
       "        new LDAvis(\"#\" + \"ldavis_el168773472874357243845514663742\", ldavis_el168773472874357243845514663742_data);\n",
       "      });\n",
       "    });\n",
       "}else{\n",
       "    // require.js not available: dynamically load d3 & LDAvis\n",
       "    LDAvis_load_lib(\"https://d3js.org/d3.v5.js\", function(){\n",
       "         LDAvis_load_lib(\"https://cdn.jsdelivr.net/gh/bmabey/pyLDAvis@3.2.2/pyLDAvis/js/ldavis.v3.0.0.js\", function(){\n",
       "                 new LDAvis(\"#\" + \"ldavis_el168773472874357243845514663742\", ldavis_el168773472874357243845514663742_data);\n",
       "            })\n",
       "         });\n",
       "}\n",
       "</script>"
      ],
      "text/plain": [
       "PreparedData(topic_coordinates=              x         y  topics  cluster       Freq\n",
       "topic                                                \n",
       "4      0.329408  0.017048       1        1  52.251784\n",
       "0      0.317704  0.001685       2        1  31.440017\n",
       "1     -0.118567  0.293948       3        1   7.103436\n",
       "5     -0.075416 -0.165175       4        1   3.875002\n",
       "7     -0.112263 -0.124393       5        1   3.238910\n",
       "3     -0.116968 -0.012423       6        1   1.661392\n",
       "6     -0.080378 -0.006682       7        1   0.265580\n",
       "2     -0.073530 -0.002584       8        1   0.128703\n",
       "8     -0.069990 -0.001423       9        1   0.035176, topic_info=             Term         Freq        Total Category  logprob  loglift\n",
       "45            ocd  1128.000000  1128.000000  Default  30.0000  30.0000\n",
       "72        thought  1016.000000  1016.000000  Default  29.0000  29.0000\n",
       "31           like  1302.000000  1302.000000  Default  28.0000  28.0000\n",
       "389          life   335.000000   335.000000  Default  27.0000  27.0000\n",
       "76           want   495.000000   495.000000  Default  26.0000  26.0000\n",
       "...           ...          ...          ...      ...      ...      ...\n",
       "6489        steer     0.003544     0.894541   Topic9  -8.9352   2.4215\n",
       "6490  suicidality     0.003544     0.894541   Topic9  -8.9352   2.4215\n",
       "6491      upfront     0.003544     0.894541   Topic9  -8.9352   2.4215\n",
       "4552         mary     0.003546     2.403120   Topic9  -8.9347   1.4338\n",
       "5082       butter     0.003524     6.027110   Topic9  -8.9409   0.5081\n",
       "\n",
       "[423 rows x 6 columns], token_table=      Topic      Freq     Term\n",
       "term                          \n",
       "555       1  0.547614       10\n",
       "555       4  0.434314       10\n",
       "556       1  0.359325       12\n",
       "556       4  0.635729       12\n",
       "2734      1  0.330523       16\n",
       "...     ...       ...      ...\n",
       "628       6  0.266977    write\n",
       "1594      3  0.987374  writing\n",
       "141       1  0.835785     year\n",
       "141       2  0.120521     year\n",
       "141       4  0.044540     year\n",
       "\n",
       "[379 rows x 3 columns], R=30, lambda_step=0.01, plot_opts={'xlab': 'PC1', 'ylab': 'PC2'}, topic_order=[5, 1, 2, 6, 8, 4, 7, 3, 9])"
      ]
     },
     "execution_count": 42,
     "metadata": {},
     "output_type": "execute_result"
    }
   ],
   "source": [
    "import pyLDAvis.gensim\n",
    "import pyLDAvis.sklearn\n",
    "pyLDAvis.enable_notebook()\n",
    "\n",
    "#Creating Topic Distance Visualization \n",
    "pyLDAvis.enable_notebook()\n",
    "vis = pyLDAvis.gensim.prepare(lda_model, corpus, id2word)\n",
    "vis"
   ]
  },
  {
   "cell_type": "markdown",
   "id": "english-cleveland",
   "metadata": {},
   "source": [
    "**DBSCAN (Density-Based Spatial Clustering of Applications with Noise)**\n",
    "• using tf"
   ]
  },
  {
   "cell_type": "markdown",
   "id": "champion-baptist",
   "metadata": {},
   "source": [
    "**optimal of eps**\n",
    "\n",
    "• Clustering using tf as a feature"
   ]
  },
  {
   "cell_type": "code",
   "execution_count": 45,
   "id": "sonic-speed",
   "metadata": {},
   "outputs": [
    {
     "name": "stderr",
     "output_type": "stream",
     "text": [
      "/home/c.c1909412/.conda/envs/ocd/lib/python3.9/site-packages/ipykernel/ipkernel.py:287: DeprecationWarning: `should_run_async` will not call `transform_cell` automatically in the future. Please pass the result to `transformed_cell` argument and any exception that happen during thetransform in `preprocessing_exc_tuple` in IPython 7.17 and above.\n",
      "  and should_run_async(code)\n"
     ]
    }
   ],
   "source": [
    "from sklearn.neighbors import NearestNeighbors\n",
    "from matplotlib import pyplot as plt\n",
    "\n",
    "neighbors = NearestNeighbors(n_neighbors=20)\n",
    "neighbors_fit = neighbors.fit(vecs) \n",
    "distances, indices = neighbors_fit.kneighbors(vecs)"
   ]
  },
  {
   "cell_type": "code",
   "execution_count": 46,
   "id": "dominant-settle",
   "metadata": {},
   "outputs": [
    {
     "name": "stderr",
     "output_type": "stream",
     "text": [
      "/home/c.c1909412/.conda/envs/ocd/lib/python3.9/site-packages/ipykernel/ipkernel.py:287: DeprecationWarning: `should_run_async` will not call `transform_cell` automatically in the future. Please pass the result to `transformed_cell` argument and any exception that happen during thetransform in `preprocessing_exc_tuple` in IPython 7.17 and above.\n",
      "  and should_run_async(code)\n"
     ]
    },
    {
     "data": {
      "text/plain": [
       "[<matplotlib.lines.Line2D at 0x2b84193dcdf0>]"
      ]
     },
     "execution_count": 46,
     "metadata": {},
     "output_type": "execute_result"
    },
    {
     "data": {
      "image/png": "[encoded data removed]",
      "text/plain": [
       "<Figure size 432x288 with 1 Axes>"
      ]
     },
     "metadata": {
      "needs_background": "light"
     },
     "output_type": "display_data"
    }
   ],
   "source": [
    "# Sort distance values by ascending value and plot\n",
    "\n",
    "distances = np.sort(distances, axis=0)\n",
    "distances = distances[:,1]\n",
    "plt.plot(distances)"
   ]
  },
  {
   "cell_type": "code",
   "execution_count": 47,
   "id": "responsible-veteran",
   "metadata": {},
   "outputs": [
    {
     "name": "stderr",
     "output_type": "stream",
     "text": [
      "/home/c.c1909412/.conda/envs/ocd/lib/python3.9/site-packages/ipykernel/ipkernel.py:287: DeprecationWarning: `should_run_async` will not call `transform_cell` automatically in the future. Please pass the result to `transformed_cell` argument and any exception that happen during thetransform in `preprocessing_exc_tuple` in IPython 7.17 and above.\n",
      "  and should_run_async(code)\n",
      "/home/c.c1909412/.conda/envs/ocd/lib/python3.9/site-packages/seaborn/_decorators.py:36: FutureWarning: Pass the following variables as keyword args: x, y. From version 0.12, the only valid positional argument will be `data`, and passing other arguments without an explicit keyword will result in an error or misinterpretation.\n",
      "  warnings.warn(\n"
     ]
    },
    {
     "data": {
      "text/plain": [
       "<AxesSubplot:>"
      ]
     },
     "execution_count": 47,
     "metadata": {},
     "output_type": "execute_result"
    },
    {
     "data": {
      "image/png": "[encoded data removed]",
      "text/plain": [
       "<Figure size 720x720 with 1 Axes>"
      ]
     },
     "metadata": {
      "needs_background": "light"
     },
     "output_type": "display_data"
    }
   ],
   "source": [
    "from sklearn.datasets import make_blobs\n",
    "from sklearn.cluster import DBSCAN\n",
    "import numpy as np\n",
    "\n",
    "\n",
    "db = DBSCAN(eps=0.3, min_samples=10).fit(vecs)\n",
    "labels = db.labels_\n",
    "fig = plt.figure(figsize=(10, 10))\n",
    "sns.scatterplot(vecs[:,0], vecs[:,1], hue=[\"cluster-{}\".format(x) for x in labels])"
   ]
  },
  {
   "cell_type": "code",
   "execution_count": null,
   "id": "signal-istanbul",
   "metadata": {},
   "outputs": [],
   "source": []
  },
  {
   "cell_type": "code",
   "execution_count": 132,
   "id": "right-wireless",
   "metadata": {},
   "outputs": [],
   "source": []
  },
  {
   "cell_type": "code",
   "execution_count": null,
   "id": "transparent-spine",
   "metadata": {},
   "outputs": [],
   "source": [
    "# Compute DBSCAN\n",
    "db = DBSCAN(eps=epsilon, min_samples=min_samples).fit(X)\n",
    "labels = db.labels_\n",
    "\n",
    "no_clusters = len(np.unique(labels) )\n",
    "no_noise = np.sum(np.array(labels) == -1, axis=0)\n",
    "\n",
    "print('Estimated no. of clusters: %d' % no_clusters)\n",
    "print('Estimated no. of noise points: %d' % no_noise)"
   ]
  },
  {
   "cell_type": "code",
   "execution_count": null,
   "id": "strong-meter",
   "metadata": {},
   "outputs": [],
   "source": []
  },
  {
   "cell_type": "code",
   "execution_count": null,
   "id": "brief-scenario",
   "metadata": {},
   "outputs": [],
   "source": []
  },
  {
   "cell_type": "code",
   "execution_count": null,
   "id": "caring-wallpaper",
   "metadata": {},
   "outputs": [],
   "source": []
  }
 ],
 "metadata": {
  "kernelspec": {
   "display_name": "Python 3",
   "language": "python",
   "name": "python3"
  },
  "language_info": {
   "codemirror_mode": {
    "name": "ipython",
    "version": 3
   },
   "file_extension": ".py",
   "mimetype": "text/x-python",
   "name": "python",
   "nbconvert_exporter": "python",
   "pygments_lexer": "ipython3",
   "version": "3.9.2"
  }
 },
 "nbformat": 4,
 "nbformat_minor": 5
}
